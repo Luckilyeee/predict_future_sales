{
  "nbformat": 4,
  "nbformat_minor": 0,
  "metadata": {
    "colab": {
      "name": "CourseraProject_preprocessing.ipynb",
      "provenance": [],
      "collapsed_sections": [],
      "toc_visible": true
    },
    "kernelspec": {
      "display_name": "Python 3",
      "language": "python",
      "name": "python3"
    },
    "language_info": {
      "codemirror_mode": {
        "name": "ipython",
        "version": 3
      },
      "file_extension": ".py",
      "mimetype": "text/x-python",
      "name": "python",
      "nbconvert_exporter": "python",
      "pygments_lexer": "ipython3",
      "version": "3.7.0"
    }
  },
  "cells": [
    {
      "cell_type": "code",
      "metadata": {
        "id": "vx-Lbb8K0s-m"
      },
      "source": [
        "#load libraries for data manipulation and visualization\n",
        "\n",
        "import pandas as pd\n",
        "import numpy as np\n",
        "import matplotlib.pyplot as plt\n",
        "import seaborn as sb\n",
        "%matplotlib inline"
      ],
      "execution_count": null,
      "outputs": []
    },
    {
      "cell_type": "code",
      "metadata": {
        "colab": {
          "base_uri": "https://localhost:8080/"
        },
        "id": "rHdmLCguOV7B",
        "outputId": "60e5d687-0d99-44af-9b6e-ae626c93ec54"
      },
      "source": [
        "# load the data sets, show the details of training set and test set\n",
        "df_train = pd.read_csv('/content/sample_data/sales_train.csv')\n",
        "df_test = pd.read_csv('/content/sample_data/test.csv')\n",
        "item_categories = pd.read_csv('/content/sample_data/item_categories.csv')\n",
        "items = pd.read_csv('/content/sample_data/items.csv')\n",
        "shops = pd.read_csv('/content/sample_data/shops.csv')\n",
        "sample_submission = pd.read_csv('/content/sample_data/sample_submission.csv')\n",
        "\n",
        "print('Number of Training Samples = {}'.format(df_train.shape[0]))\n",
        "print('Number of Test Samples = {}\\n'.format(df_test.shape[0]))\n",
        "\n",
        "print('Training X Shape = {}'.format(df_train.shape))\n",
        "print('Test X Shape = {}'.format(df_test.shape))\n",
        "print('Test y Shape = {}\\n'.format(df_test.shape[0]))\n",
        "\n",
        "print('----Index of Train set:----\\n', df_train.columns)\n",
        "print(df_train.info())\n",
        "print('----Index of Test set:----\\n', df_test.columns)\n",
        "\n",
        "\n",
        "print('----Missing values of Train set:----\\n', df_train.isnull().sum())\n",
        "print('----Null values of Train set:----\\n', df_train.isna().sum())"
      ],
      "execution_count": null,
      "outputs": [
        {
          "output_type": "stream",
          "text": [
            "Number of Training Samples = 2935849\n",
            "Number of Test Samples = 214200\n",
            "\n",
            "Training X Shape = (2935849, 6)\n",
            "Test X Shape = (214200, 3)\n",
            "Test y Shape = 214200\n",
            "\n",
            "----Index of Train set:----\n",
            " Index(['date', 'date_block_num', 'shop_id', 'item_id', 'item_price',\n",
            "       'item_cnt_day'],\n",
            "      dtype='object')\n",
            "<class 'pandas.core.frame.DataFrame'>\n",
            "RangeIndex: 2935849 entries, 0 to 2935848\n",
            "Data columns (total 6 columns):\n",
            " #   Column          Dtype  \n",
            "---  ------          -----  \n",
            " 0   date            object \n",
            " 1   date_block_num  int64  \n",
            " 2   shop_id         int64  \n",
            " 3   item_id         int64  \n",
            " 4   item_price      float64\n",
            " 5   item_cnt_day    float64\n",
            "dtypes: float64(2), int64(3), object(1)\n",
            "memory usage: 134.4+ MB\n",
            "None\n",
            "----Index of Test set:----\n",
            " Index(['ID', 'shop_id', 'item_id'], dtype='object')\n",
            "----Missing values of Train set:----\n",
            " date              0\n",
            "date_block_num    0\n",
            "shop_id           0\n",
            "item_id           0\n",
            "item_price        0\n",
            "item_cnt_day      0\n",
            "dtype: int64\n",
            "----Null values of Train set:----\n",
            " date              0\n",
            "date_block_num    0\n",
            "shop_id           0\n",
            "item_id           0\n",
            "item_price        0\n",
            "item_cnt_day      0\n",
            "dtype: int64\n"
          ],
          "name": "stdout"
        }
      ]
    },
    {
      "cell_type": "markdown",
      "metadata": {
        "id": "hrGXRVQfTap-"
      },
      "source": [
        "let's take a look at our training set and test set"
      ]
    },
    {
      "cell_type": "code",
      "metadata": {
        "colab": {
          "base_uri": "https://localhost:8080/"
        },
        "id": "1U-oEbX8ThD3",
        "outputId": "20ae5667-41e7-4836-a8f8-5c971469af29"
      },
      "source": [
        "print(df_train.info())\n",
        "print(df_test.info())"
      ],
      "execution_count": null,
      "outputs": [
        {
          "output_type": "stream",
          "text": [
            "<class 'pandas.core.frame.DataFrame'>\n",
            "RangeIndex: 2935849 entries, 0 to 2935848\n",
            "Data columns (total 6 columns):\n",
            " #   Column          Dtype  \n",
            "---  ------          -----  \n",
            " 0   date            object \n",
            " 1   date_block_num  int64  \n",
            " 2   shop_id         int64  \n",
            " 3   item_id         int64  \n",
            " 4   item_price      float64\n",
            " 5   item_cnt_day    float64\n",
            "dtypes: float64(2), int64(3), object(1)\n",
            "memory usage: 134.4+ MB\n",
            "None\n",
            "<class 'pandas.core.frame.DataFrame'>\n",
            "RangeIndex: 214200 entries, 0 to 214199\n",
            "Data columns (total 3 columns):\n",
            " #   Column   Non-Null Count   Dtype\n",
            "---  ------   --------------   -----\n",
            " 0   ID       214200 non-null  int64\n",
            " 1   shop_id  214200 non-null  int64\n",
            " 2   item_id  214200 non-null  int64\n",
            "dtypes: int64(3)\n",
            "memory usage: 4.9 MB\n",
            "None\n"
          ],
          "name": "stdout"
        }
      ]
    },
    {
      "cell_type": "markdown",
      "metadata": {
        "id": "sEPcQs2GT8oL"
      },
      "source": [
        "the date is object Dtype, let's convert it into datetime format"
      ]
    },
    {
      "cell_type": "code",
      "metadata": {
        "colab": {
          "base_uri": "https://localhost:8080/"
        },
        "id": "RnqrFqRfUAXU",
        "outputId": "d676a916-a8c3-4f94-b9e5-91f717be5cfd"
      },
      "source": [
        "# converting date object to datetime format\n",
        "df_train['date'] = pd.to_datetime(df_train['date'],format = '%d.%m.%Y')\n",
        "print('Min date from train set: %s' % df_train['date'].min().date())\n",
        "print('Max date from train set: %s' % df_train['date'].max().date())"
      ],
      "execution_count": null,
      "outputs": [
        {
          "output_type": "stream",
          "text": [
            "Min date from train set: 2013-01-01\n",
            "Max date from train set: 2015-10-31\n"
          ],
          "name": "stdout"
        }
      ]
    },
    {
      "cell_type": "code",
      "metadata": {
        "colab": {
          "base_uri": "https://localhost:8080/"
        },
        "id": "c5V_UHeYWOJI",
        "outputId": "ac2f6f6e-664d-45c9-ffd3-98106a050c3b"
      },
      "source": [
        "# print min and max num assigned to the months\n",
        "print('Min date_block_num from train set: %s' % df_train['date_block_num'].min())\n",
        "print('Max date_block_num from train set: %s' % df_train['date_block_num'].max())"
      ],
      "execution_count": null,
      "outputs": [
        {
          "output_type": "stream",
          "text": [
            "Min date_block_num from train set: 0\n",
            "Max date_block_num from train set: 33\n"
          ],
          "name": "stdout"
        }
      ]
    },
    {
      "cell_type": "markdown",
      "metadata": {
        "id": "JemBXkE-WaJl"
      },
      "source": [
        "The train data is from January 2013 date_block_num 0 to October 2015 date_block_num 33. We are to use the sales record for the past 34 months to predict the 35th month which is November 2015 date_block_num 34."
      ]
    },
    {
      "cell_type": "code",
      "metadata": {
        "colab": {
          "base_uri": "https://localhost:8080/",
          "height": 204
        },
        "id": "EZ_Q02YfKHLH",
        "outputId": "5e7b9dc2-a43f-4f8a-bc06-7f695258e723"
      },
      "source": [
        "df_train.head()"
      ],
      "execution_count": null,
      "outputs": [
        {
          "output_type": "execute_result",
          "data": {
            "text/html": [
              "<div>\n",
              "<style scoped>\n",
              "    .dataframe tbody tr th:only-of-type {\n",
              "        vertical-align: middle;\n",
              "    }\n",
              "\n",
              "    .dataframe tbody tr th {\n",
              "        vertical-align: top;\n",
              "    }\n",
              "\n",
              "    .dataframe thead th {\n",
              "        text-align: right;\n",
              "    }\n",
              "</style>\n",
              "<table border=\"1\" class=\"dataframe\">\n",
              "  <thead>\n",
              "    <tr style=\"text-align: right;\">\n",
              "      <th></th>\n",
              "      <th>date</th>\n",
              "      <th>date_block_num</th>\n",
              "      <th>shop_id</th>\n",
              "      <th>item_id</th>\n",
              "      <th>item_price</th>\n",
              "      <th>item_cnt_day</th>\n",
              "    </tr>\n",
              "  </thead>\n",
              "  <tbody>\n",
              "    <tr>\n",
              "      <th>0</th>\n",
              "      <td>2013-01-02</td>\n",
              "      <td>0</td>\n",
              "      <td>59</td>\n",
              "      <td>22154</td>\n",
              "      <td>999.00</td>\n",
              "      <td>1.0</td>\n",
              "    </tr>\n",
              "    <tr>\n",
              "      <th>1</th>\n",
              "      <td>2013-01-03</td>\n",
              "      <td>0</td>\n",
              "      <td>25</td>\n",
              "      <td>2552</td>\n",
              "      <td>899.00</td>\n",
              "      <td>1.0</td>\n",
              "    </tr>\n",
              "    <tr>\n",
              "      <th>2</th>\n",
              "      <td>2013-01-05</td>\n",
              "      <td>0</td>\n",
              "      <td>25</td>\n",
              "      <td>2552</td>\n",
              "      <td>899.00</td>\n",
              "      <td>-1.0</td>\n",
              "    </tr>\n",
              "    <tr>\n",
              "      <th>3</th>\n",
              "      <td>2013-01-06</td>\n",
              "      <td>0</td>\n",
              "      <td>25</td>\n",
              "      <td>2554</td>\n",
              "      <td>1709.05</td>\n",
              "      <td>1.0</td>\n",
              "    </tr>\n",
              "    <tr>\n",
              "      <th>4</th>\n",
              "      <td>2013-01-15</td>\n",
              "      <td>0</td>\n",
              "      <td>25</td>\n",
              "      <td>2555</td>\n",
              "      <td>1099.00</td>\n",
              "      <td>1.0</td>\n",
              "    </tr>\n",
              "  </tbody>\n",
              "</table>\n",
              "</div>"
            ],
            "text/plain": [
              "        date  date_block_num  shop_id  item_id  item_price  item_cnt_day\n",
              "0 2013-01-02               0       59    22154      999.00           1.0\n",
              "1 2013-01-03               0       25     2552      899.00           1.0\n",
              "2 2013-01-05               0       25     2552      899.00          -1.0\n",
              "3 2013-01-06               0       25     2554     1709.05           1.0\n",
              "4 2013-01-15               0       25     2555     1099.00           1.0"
            ]
          },
          "metadata": {
            "tags": []
          },
          "execution_count": 8
        }
      ]
    },
    {
      "cell_type": "code",
      "metadata": {
        "id": "u3Dg6KfXMh5g"
      },
      "source": [
        "sample = df_train[(df_train.shop_id==25)&(df_train.item_id==2552)&(df_train.date_block_num==0)]"
      ],
      "execution_count": null,
      "outputs": []
    },
    {
      "cell_type": "code",
      "metadata": {
        "colab": {
          "base_uri": "https://localhost:8080/",
          "height": 111
        },
        "id": "hZfrrX6xNIVy",
        "outputId": "7f6a565f-27e4-457e-dd42-8e7883b2bc8c"
      },
      "source": [
        "sample"
      ],
      "execution_count": null,
      "outputs": [
        {
          "output_type": "execute_result",
          "data": {
            "text/html": [
              "<div>\n",
              "<style scoped>\n",
              "    .dataframe tbody tr th:only-of-type {\n",
              "        vertical-align: middle;\n",
              "    }\n",
              "\n",
              "    .dataframe tbody tr th {\n",
              "        vertical-align: top;\n",
              "    }\n",
              "\n",
              "    .dataframe thead th {\n",
              "        text-align: right;\n",
              "    }\n",
              "</style>\n",
              "<table border=\"1\" class=\"dataframe\">\n",
              "  <thead>\n",
              "    <tr style=\"text-align: right;\">\n",
              "      <th></th>\n",
              "      <th>date</th>\n",
              "      <th>date_block_num</th>\n",
              "      <th>shop_id</th>\n",
              "      <th>item_id</th>\n",
              "      <th>item_price</th>\n",
              "      <th>item_cnt_day</th>\n",
              "    </tr>\n",
              "  </thead>\n",
              "  <tbody>\n",
              "    <tr>\n",
              "      <th>1</th>\n",
              "      <td>2013-01-03</td>\n",
              "      <td>0</td>\n",
              "      <td>25</td>\n",
              "      <td>2552</td>\n",
              "      <td>899.0</td>\n",
              "      <td>1.0</td>\n",
              "    </tr>\n",
              "    <tr>\n",
              "      <th>2</th>\n",
              "      <td>2013-01-05</td>\n",
              "      <td>0</td>\n",
              "      <td>25</td>\n",
              "      <td>2552</td>\n",
              "      <td>899.0</td>\n",
              "      <td>-1.0</td>\n",
              "    </tr>\n",
              "  </tbody>\n",
              "</table>\n",
              "</div>"
            ],
            "text/plain": [
              "        date  date_block_num  shop_id  item_id  item_price  item_cnt_day\n",
              "1 2013-01-03               0       25     2552       899.0           1.0\n",
              "2 2013-01-05               0       25     2552       899.0          -1.0"
            ]
          },
          "metadata": {
            "tags": []
          },
          "execution_count": 10
        }
      ]
    },
    {
      "cell_type": "markdown",
      "metadata": {
        "id": "xXJQC79YNKsm"
      },
      "source": [
        "from the above sample, we can notice that the data is really spase, we don't have the daily sales of each item in each shop, usually, the sales of specific item in specific shop is like, if you count the number of item sold,the number will be really low in one month, maybe one or two, maybe 0. So if I count the sales of each product per day, many many data will be 0. In this case, I count the sales of each product per week, per month."
      ]
    },
    {
      "cell_type": "markdown",
      "metadata": {
        "id": "RKBpqaLyWenE"
      },
      "source": [
        "let's take a look at our training set"
      ]
    },
    {
      "cell_type": "code",
      "metadata": {
        "colab": {
          "base_uri": "https://localhost:8080/",
          "height": 297
        },
        "id": "mditPOLBQI0h",
        "outputId": "a487f471-8f7d-45cd-eb97-e985abfd4afe"
      },
      "source": [
        "df_train.describe()"
      ],
      "execution_count": null,
      "outputs": [
        {
          "output_type": "execute_result",
          "data": {
            "text/html": [
              "<div>\n",
              "<style scoped>\n",
              "    .dataframe tbody tr th:only-of-type {\n",
              "        vertical-align: middle;\n",
              "    }\n",
              "\n",
              "    .dataframe tbody tr th {\n",
              "        vertical-align: top;\n",
              "    }\n",
              "\n",
              "    .dataframe thead th {\n",
              "        text-align: right;\n",
              "    }\n",
              "</style>\n",
              "<table border=\"1\" class=\"dataframe\">\n",
              "  <thead>\n",
              "    <tr style=\"text-align: right;\">\n",
              "      <th></th>\n",
              "      <th>date_block_num</th>\n",
              "      <th>shop_id</th>\n",
              "      <th>item_id</th>\n",
              "      <th>item_price</th>\n",
              "      <th>item_cnt_day</th>\n",
              "    </tr>\n",
              "  </thead>\n",
              "  <tbody>\n",
              "    <tr>\n",
              "      <th>count</th>\n",
              "      <td>2.935849e+06</td>\n",
              "      <td>2.935849e+06</td>\n",
              "      <td>2.935849e+06</td>\n",
              "      <td>2.935849e+06</td>\n",
              "      <td>2.935849e+06</td>\n",
              "    </tr>\n",
              "    <tr>\n",
              "      <th>mean</th>\n",
              "      <td>1.456991e+01</td>\n",
              "      <td>3.300173e+01</td>\n",
              "      <td>1.019723e+04</td>\n",
              "      <td>8.908532e+02</td>\n",
              "      <td>1.242641e+00</td>\n",
              "    </tr>\n",
              "    <tr>\n",
              "      <th>std</th>\n",
              "      <td>9.422988e+00</td>\n",
              "      <td>1.622697e+01</td>\n",
              "      <td>6.324297e+03</td>\n",
              "      <td>1.729800e+03</td>\n",
              "      <td>2.618834e+00</td>\n",
              "    </tr>\n",
              "    <tr>\n",
              "      <th>min</th>\n",
              "      <td>0.000000e+00</td>\n",
              "      <td>0.000000e+00</td>\n",
              "      <td>0.000000e+00</td>\n",
              "      <td>-1.000000e+00</td>\n",
              "      <td>-2.200000e+01</td>\n",
              "    </tr>\n",
              "    <tr>\n",
              "      <th>25%</th>\n",
              "      <td>7.000000e+00</td>\n",
              "      <td>2.200000e+01</td>\n",
              "      <td>4.476000e+03</td>\n",
              "      <td>2.490000e+02</td>\n",
              "      <td>1.000000e+00</td>\n",
              "    </tr>\n",
              "    <tr>\n",
              "      <th>50%</th>\n",
              "      <td>1.400000e+01</td>\n",
              "      <td>3.100000e+01</td>\n",
              "      <td>9.343000e+03</td>\n",
              "      <td>3.990000e+02</td>\n",
              "      <td>1.000000e+00</td>\n",
              "    </tr>\n",
              "    <tr>\n",
              "      <th>75%</th>\n",
              "      <td>2.300000e+01</td>\n",
              "      <td>4.700000e+01</td>\n",
              "      <td>1.568400e+04</td>\n",
              "      <td>9.990000e+02</td>\n",
              "      <td>1.000000e+00</td>\n",
              "    </tr>\n",
              "    <tr>\n",
              "      <th>max</th>\n",
              "      <td>3.300000e+01</td>\n",
              "      <td>5.900000e+01</td>\n",
              "      <td>2.216900e+04</td>\n",
              "      <td>3.079800e+05</td>\n",
              "      <td>2.169000e+03</td>\n",
              "    </tr>\n",
              "  </tbody>\n",
              "</table>\n",
              "</div>"
            ],
            "text/plain": [
              "       date_block_num       shop_id       item_id    item_price  item_cnt_day\n",
              "count    2.935849e+06  2.935849e+06  2.935849e+06  2.935849e+06  2.935849e+06\n",
              "mean     1.456991e+01  3.300173e+01  1.019723e+04  8.908532e+02  1.242641e+00\n",
              "std      9.422988e+00  1.622697e+01  6.324297e+03  1.729800e+03  2.618834e+00\n",
              "min      0.000000e+00  0.000000e+00  0.000000e+00 -1.000000e+00 -2.200000e+01\n",
              "25%      7.000000e+00  2.200000e+01  4.476000e+03  2.490000e+02  1.000000e+00\n",
              "50%      1.400000e+01  3.100000e+01  9.343000e+03  3.990000e+02  1.000000e+00\n",
              "75%      2.300000e+01  4.700000e+01  1.568400e+04  9.990000e+02  1.000000e+00\n",
              "max      3.300000e+01  5.900000e+01  2.216900e+04  3.079800e+05  2.169000e+03"
            ]
          },
          "metadata": {
            "tags": []
          },
          "execution_count": 11
        }
      ]
    },
    {
      "cell_type": "code",
      "metadata": {
        "colab": {
          "base_uri": "https://localhost:8080/",
          "height": 560
        },
        "id": "-z_4wVhzQPZq",
        "outputId": "3df5fbb9-cabb-4524-de14-c371d15f879d"
      },
      "source": [
        "import seaborn as sns\n",
        "import matplotlib.pyplot as plt\n",
        "\n",
        "plt.figure(figsize=(10,4))\n",
        "plt.xlim(-100, 3000)\n",
        "sns.boxplot(x=df_train.item_cnt_day)\n",
        "\n",
        "plt.figure(figsize=(10,4))\n",
        "plt.xlim(df_train.item_price.min(), df_train.item_price.max()*1.1)\n",
        "sns.boxplot(x=df_train.item_price)"
      ],
      "execution_count": null,
      "outputs": [
        {
          "output_type": "execute_result",
          "data": {
            "text/plain": [
              "<matplotlib.axes._subplots.AxesSubplot at 0x7f268fcf5c50>"
            ]
          },
          "metadata": {
            "tags": []
          },
          "execution_count": 12
        },
        {
          "output_type": "display_data",
          "data": {
            "image/png": "[encoded data removed]",
            "text/plain": [
              "<Figure size 720x288 with 1 Axes>"
            ]
          },
          "metadata": {
            "tags": [],
            "needs_background": "light"
          }
        },
        {
          "output_type": "display_data",
          "data": {
            "image/png": "[encoded data removed]",
            "text/plain": [
              "<Figure size 720x288 with 1 Axes>"
            ]
          },
          "metadata": {
            "tags": [],
            "needs_background": "light"
          }
        }
      ]
    },
    {
      "cell_type": "markdown",
      "metadata": {
        "id": "QawfLeOMRAzf"
      },
      "source": [
        " we found negative values and outliers in item_price and item_cnt_day in our training set"
      ]
    },
    {
      "cell_type": "markdown",
      "metadata": {
        "id": "kaAN2K10QMXG"
      },
      "source": [
        "# outlier fixing and negative values fixing"
      ]
    },
    {
      "cell_type": "code",
      "metadata": {
        "id": "lfKCtabDQzD7"
      },
      "source": [
        "df_train = df_train[df_train.item_price<100000]\n",
        "df_train = df_train[df_train.item_cnt_day<1000]"
      ],
      "execution_count": null,
      "outputs": []
    },
    {
      "cell_type": "code",
      "metadata": {
        "colab": {
          "base_uri": "https://localhost:8080/",
          "height": 80
        },
        "id": "JOA1WSAbRFki",
        "outputId": "fae5ca50-b62d-451b-ff58-70662b013e74"
      },
      "source": [
        "negative_entries = df_train[(df_train.item_price<0)]\n",
        "negative_entries"
      ],
      "execution_count": null,
      "outputs": [
        {
          "output_type": "execute_result",
          "data": {
            "text/html": [
              "<div>\n",
              "<style scoped>\n",
              "    .dataframe tbody tr th:only-of-type {\n",
              "        vertical-align: middle;\n",
              "    }\n",
              "\n",
              "    .dataframe tbody tr th {\n",
              "        vertical-align: top;\n",
              "    }\n",
              "\n",
              "    .dataframe thead th {\n",
              "        text-align: right;\n",
              "    }\n",
              "</style>\n",
              "<table border=\"1\" class=\"dataframe\">\n",
              "  <thead>\n",
              "    <tr style=\"text-align: right;\">\n",
              "      <th></th>\n",
              "      <th>date</th>\n",
              "      <th>date_block_num</th>\n",
              "      <th>shop_id</th>\n",
              "      <th>item_id</th>\n",
              "      <th>item_price</th>\n",
              "      <th>item_cnt_day</th>\n",
              "    </tr>\n",
              "  </thead>\n",
              "  <tbody>\n",
              "    <tr>\n",
              "      <th>484683</th>\n",
              "      <td>2013-05-15</td>\n",
              "      <td>4</td>\n",
              "      <td>32</td>\n",
              "      <td>2973</td>\n",
              "      <td>-1.0</td>\n",
              "      <td>1.0</td>\n",
              "    </tr>\n",
              "  </tbody>\n",
              "</table>\n",
              "</div>"
            ],
            "text/plain": [
              "             date  date_block_num  shop_id  item_id  item_price  item_cnt_day\n",
              "484683 2013-05-15               4       32     2973        -1.0           1.0"
            ]
          },
          "metadata": {
            "tags": []
          },
          "execution_count": 14
        }
      ]
    },
    {
      "cell_type": "markdown",
      "metadata": {
        "id": "1xqKT0W7RZAZ"
      },
      "source": [
        "for negative item_price, we change it into the mean value of the same product item in the same shop and in the same date_block_num"
      ]
    },
    {
      "cell_type": "code",
      "metadata": {
        "colab": {
          "base_uri": "https://localhost:8080/",
          "height": 111
        },
        "id": "z6glHj2oRRMT",
        "outputId": "9d9ab63e-f9aa-477c-dce0-2ed2807bf67e"
      },
      "source": [
        "neg_group = df_train[(df_train.shop_id==32)&(df_train.item_id==2973)&(df_train.date_block_num==4)&(df_train.item_price>0)]\n",
        "neg_group"
      ],
      "execution_count": null,
      "outputs": [
        {
          "output_type": "execute_result",
          "data": {
            "text/html": [
              "<div>\n",
              "<style scoped>\n",
              "    .dataframe tbody tr th:only-of-type {\n",
              "        vertical-align: middle;\n",
              "    }\n",
              "\n",
              "    .dataframe tbody tr th {\n",
              "        vertical-align: top;\n",
              "    }\n",
              "\n",
              "    .dataframe thead th {\n",
              "        text-align: right;\n",
              "    }\n",
              "</style>\n",
              "<table border=\"1\" class=\"dataframe\">\n",
              "  <thead>\n",
              "    <tr style=\"text-align: right;\">\n",
              "      <th></th>\n",
              "      <th>date</th>\n",
              "      <th>date_block_num</th>\n",
              "      <th>shop_id</th>\n",
              "      <th>item_id</th>\n",
              "      <th>item_price</th>\n",
              "      <th>item_cnt_day</th>\n",
              "    </tr>\n",
              "  </thead>\n",
              "  <tbody>\n",
              "    <tr>\n",
              "      <th>484682</th>\n",
              "      <td>2013-05-23</td>\n",
              "      <td>4</td>\n",
              "      <td>32</td>\n",
              "      <td>2973</td>\n",
              "      <td>1249.0</td>\n",
              "      <td>1.0</td>\n",
              "    </tr>\n",
              "    <tr>\n",
              "      <th>484684</th>\n",
              "      <td>2013-05-06</td>\n",
              "      <td>4</td>\n",
              "      <td>32</td>\n",
              "      <td>2973</td>\n",
              "      <td>2499.0</td>\n",
              "      <td>1.0</td>\n",
              "    </tr>\n",
              "  </tbody>\n",
              "</table>\n",
              "</div>"
            ],
            "text/plain": [
              "             date  date_block_num  shop_id  item_id  item_price  item_cnt_day\n",
              "484682 2013-05-23               4       32     2973      1249.0           1.0\n",
              "484684 2013-05-06               4       32     2973      2499.0           1.0"
            ]
          },
          "metadata": {
            "tags": []
          },
          "execution_count": 15
        }
      ]
    },
    {
      "cell_type": "code",
      "metadata": {
        "id": "eAMxdG-XRxCo"
      },
      "source": [
        "mean = df_train[(df_train.shop_id==32)&(df_train.item_id==2973)&(df_train.date_block_num==4)&(df_train.item_price>0)].item_price.mean()\n",
        "df_train.loc[df_train.item_price<0, 'item_price'] = mean"
      ],
      "execution_count": null,
      "outputs": []
    },
    {
      "cell_type": "code",
      "metadata": {
        "id": "fmQ6XkKFPK1B"
      },
      "source": [
        "sample = df_train[(df_train.shop_id==25)&(df_train.item_id==2321)]"
      ],
      "execution_count": null,
      "outputs": []
    },
    {
      "cell_type": "code",
      "metadata": {
        "colab": {
          "base_uri": "https://localhost:8080/",
          "height": 1000
        },
        "id": "-WMxAT7bPXR2",
        "outputId": "8ee1daec-b3dc-4334-ba3e-73efae2b4c3d"
      },
      "source": [
        "sample"
      ],
      "execution_count": null,
      "outputs": [
        {
          "output_type": "execute_result",
          "data": {
            "text/html": [
              "<div>\n",
              "<style scoped>\n",
              "    .dataframe tbody tr th:only-of-type {\n",
              "        vertical-align: middle;\n",
              "    }\n",
              "\n",
              "    .dataframe tbody tr th {\n",
              "        vertical-align: top;\n",
              "    }\n",
              "\n",
              "    .dataframe thead th {\n",
              "        text-align: right;\n",
              "    }\n",
              "</style>\n",
              "<table border=\"1\" class=\"dataframe\">\n",
              "  <thead>\n",
              "    <tr style=\"text-align: right;\">\n",
              "      <th></th>\n",
              "      <th>date</th>\n",
              "      <th>date_block_num</th>\n",
              "      <th>shop_id</th>\n",
              "      <th>item_id</th>\n",
              "      <th>item_price</th>\n",
              "      <th>item_cnt_day</th>\n",
              "    </tr>\n",
              "  </thead>\n",
              "  <tbody>\n",
              "    <tr>\n",
              "      <th>147</th>\n",
              "      <td>2013-01-20</td>\n",
              "      <td>0</td>\n",
              "      <td>25</td>\n",
              "      <td>2321</td>\n",
              "      <td>999.0</td>\n",
              "      <td>1.0</td>\n",
              "    </tr>\n",
              "    <tr>\n",
              "      <th>148</th>\n",
              "      <td>2013-01-23</td>\n",
              "      <td>0</td>\n",
              "      <td>25</td>\n",
              "      <td>2321</td>\n",
              "      <td>999.0</td>\n",
              "      <td>-1.0</td>\n",
              "    </tr>\n",
              "    <tr>\n",
              "      <th>149</th>\n",
              "      <td>2013-01-31</td>\n",
              "      <td>0</td>\n",
              "      <td>25</td>\n",
              "      <td>2321</td>\n",
              "      <td>999.0</td>\n",
              "      <td>1.0</td>\n",
              "    </tr>\n",
              "    <tr>\n",
              "      <th>408</th>\n",
              "      <td>2013-01-05</td>\n",
              "      <td>0</td>\n",
              "      <td>25</td>\n",
              "      <td>2321</td>\n",
              "      <td>999.0</td>\n",
              "      <td>1.0</td>\n",
              "    </tr>\n",
              "    <tr>\n",
              "      <th>155098</th>\n",
              "      <td>2013-02-07</td>\n",
              "      <td>1</td>\n",
              "      <td>25</td>\n",
              "      <td>2321</td>\n",
              "      <td>999.0</td>\n",
              "      <td>1.0</td>\n",
              "    </tr>\n",
              "    <tr>\n",
              "      <th>155099</th>\n",
              "      <td>2013-02-25</td>\n",
              "      <td>1</td>\n",
              "      <td>25</td>\n",
              "      <td>2321</td>\n",
              "      <td>1099.0</td>\n",
              "      <td>1.0</td>\n",
              "    </tr>\n",
              "    <tr>\n",
              "      <th>324402</th>\n",
              "      <td>2013-03-21</td>\n",
              "      <td>2</td>\n",
              "      <td>25</td>\n",
              "      <td>2321</td>\n",
              "      <td>1099.0</td>\n",
              "      <td>1.0</td>\n",
              "    </tr>\n",
              "    <tr>\n",
              "      <th>324453</th>\n",
              "      <td>2013-03-19</td>\n",
              "      <td>2</td>\n",
              "      <td>25</td>\n",
              "      <td>2321</td>\n",
              "      <td>989.0</td>\n",
              "      <td>1.0</td>\n",
              "    </tr>\n",
              "    <tr>\n",
              "      <th>353997</th>\n",
              "      <td>2013-04-26</td>\n",
              "      <td>3</td>\n",
              "      <td>25</td>\n",
              "      <td>2321</td>\n",
              "      <td>1099.0</td>\n",
              "      <td>1.0</td>\n",
              "    </tr>\n",
              "    <tr>\n",
              "      <th>584374</th>\n",
              "      <td>2013-06-18</td>\n",
              "      <td>5</td>\n",
              "      <td>25</td>\n",
              "      <td>2321</td>\n",
              "      <td>698.0</td>\n",
              "      <td>1.0</td>\n",
              "    </tr>\n",
              "    <tr>\n",
              "      <th>584380</th>\n",
              "      <td>2013-06-22</td>\n",
              "      <td>5</td>\n",
              "      <td>25</td>\n",
              "      <td>2321</td>\n",
              "      <td>698.0</td>\n",
              "      <td>1.0</td>\n",
              "    </tr>\n",
              "    <tr>\n",
              "      <th>681653</th>\n",
              "      <td>2013-07-06</td>\n",
              "      <td>6</td>\n",
              "      <td>25</td>\n",
              "      <td>2321</td>\n",
              "      <td>698.0</td>\n",
              "      <td>1.0</td>\n",
              "    </tr>\n",
              "    <tr>\n",
              "      <th>794293</th>\n",
              "      <td>2013-08-03</td>\n",
              "      <td>7</td>\n",
              "      <td>25</td>\n",
              "      <td>2321</td>\n",
              "      <td>698.0</td>\n",
              "      <td>1.0</td>\n",
              "    </tr>\n",
              "    <tr>\n",
              "      <th>794294</th>\n",
              "      <td>2013-08-13</td>\n",
              "      <td>7</td>\n",
              "      <td>25</td>\n",
              "      <td>2321</td>\n",
              "      <td>698.0</td>\n",
              "      <td>1.0</td>\n",
              "    </tr>\n",
              "    <tr>\n",
              "      <th>794295</th>\n",
              "      <td>2013-08-14</td>\n",
              "      <td>7</td>\n",
              "      <td>25</td>\n",
              "      <td>2321</td>\n",
              "      <td>698.0</td>\n",
              "      <td>1.0</td>\n",
              "    </tr>\n",
              "    <tr>\n",
              "      <th>868359</th>\n",
              "      <td>2013-09-21</td>\n",
              "      <td>8</td>\n",
              "      <td>25</td>\n",
              "      <td>2321</td>\n",
              "      <td>698.0</td>\n",
              "      <td>1.0</td>\n",
              "    </tr>\n",
              "    <tr>\n",
              "      <th>868360</th>\n",
              "      <td>2013-09-08</td>\n",
              "      <td>8</td>\n",
              "      <td>25</td>\n",
              "      <td>2321</td>\n",
              "      <td>698.0</td>\n",
              "      <td>1.0</td>\n",
              "    </tr>\n",
              "    <tr>\n",
              "      <th>868361</th>\n",
              "      <td>2013-09-01</td>\n",
              "      <td>8</td>\n",
              "      <td>25</td>\n",
              "      <td>2321</td>\n",
              "      <td>698.0</td>\n",
              "      <td>1.0</td>\n",
              "    </tr>\n",
              "    <tr>\n",
              "      <th>989347</th>\n",
              "      <td>2013-10-23</td>\n",
              "      <td>9</td>\n",
              "      <td>25</td>\n",
              "      <td>2321</td>\n",
              "      <td>488.6</td>\n",
              "      <td>1.0</td>\n",
              "    </tr>\n",
              "    <tr>\n",
              "      <th>989348</th>\n",
              "      <td>2013-10-19</td>\n",
              "      <td>9</td>\n",
              "      <td>25</td>\n",
              "      <td>2321</td>\n",
              "      <td>488.6</td>\n",
              "      <td>1.0</td>\n",
              "    </tr>\n",
              "    <tr>\n",
              "      <th>1079154</th>\n",
              "      <td>2013-11-02</td>\n",
              "      <td>10</td>\n",
              "      <td>25</td>\n",
              "      <td>2321</td>\n",
              "      <td>698.0</td>\n",
              "      <td>1.0</td>\n",
              "    </tr>\n",
              "    <tr>\n",
              "      <th>1079155</th>\n",
              "      <td>2013-11-29</td>\n",
              "      <td>10</td>\n",
              "      <td>25</td>\n",
              "      <td>2321</td>\n",
              "      <td>698.0</td>\n",
              "      <td>1.0</td>\n",
              "    </tr>\n",
              "    <tr>\n",
              "      <th>1140376</th>\n",
              "      <td>2013-12-09</td>\n",
              "      <td>11</td>\n",
              "      <td>25</td>\n",
              "      <td>2321</td>\n",
              "      <td>499.0</td>\n",
              "      <td>1.0</td>\n",
              "    </tr>\n",
              "    <tr>\n",
              "      <th>1362474</th>\n",
              "      <td>2014-01-19</td>\n",
              "      <td>12</td>\n",
              "      <td>25</td>\n",
              "      <td>2321</td>\n",
              "      <td>499.0</td>\n",
              "      <td>1.0</td>\n",
              "    </tr>\n",
              "    <tr>\n",
              "      <th>1711156</th>\n",
              "      <td>2014-06-17</td>\n",
              "      <td>17</td>\n",
              "      <td>25</td>\n",
              "      <td>2321</td>\n",
              "      <td>349.0</td>\n",
              "      <td>1.0</td>\n",
              "    </tr>\n",
              "    <tr>\n",
              "      <th>1711177</th>\n",
              "      <td>2014-06-23</td>\n",
              "      <td>17</td>\n",
              "      <td>25</td>\n",
              "      <td>2321</td>\n",
              "      <td>349.0</td>\n",
              "      <td>1.0</td>\n",
              "    </tr>\n",
              "    <tr>\n",
              "      <th>1866087</th>\n",
              "      <td>2014-07-23</td>\n",
              "      <td>18</td>\n",
              "      <td>25</td>\n",
              "      <td>2321</td>\n",
              "      <td>349.0</td>\n",
              "      <td>1.0</td>\n",
              "    </tr>\n",
              "    <tr>\n",
              "      <th>1866088</th>\n",
              "      <td>2014-07-06</td>\n",
              "      <td>18</td>\n",
              "      <td>25</td>\n",
              "      <td>2321</td>\n",
              "      <td>349.3</td>\n",
              "      <td>1.0</td>\n",
              "    </tr>\n",
              "    <tr>\n",
              "      <th>2044144</th>\n",
              "      <td>2014-10-13</td>\n",
              "      <td>21</td>\n",
              "      <td>25</td>\n",
              "      <td>2321</td>\n",
              "      <td>299.0</td>\n",
              "      <td>1.0</td>\n",
              "    </tr>\n",
              "    <tr>\n",
              "      <th>2044145</th>\n",
              "      <td>2014-10-04</td>\n",
              "      <td>21</td>\n",
              "      <td>25</td>\n",
              "      <td>2321</td>\n",
              "      <td>299.0</td>\n",
              "      <td>1.0</td>\n",
              "    </tr>\n",
              "    <tr>\n",
              "      <th>2174814</th>\n",
              "      <td>2014-11-16</td>\n",
              "      <td>22</td>\n",
              "      <td>25</td>\n",
              "      <td>2321</td>\n",
              "      <td>299.0</td>\n",
              "      <td>1.0</td>\n",
              "    </tr>\n",
              "    <tr>\n",
              "      <th>2174815</th>\n",
              "      <td>2014-11-23</td>\n",
              "      <td>22</td>\n",
              "      <td>25</td>\n",
              "      <td>2321</td>\n",
              "      <td>299.0</td>\n",
              "      <td>1.0</td>\n",
              "    </tr>\n",
              "    <tr>\n",
              "      <th>2351440</th>\n",
              "      <td>2015-01-02</td>\n",
              "      <td>24</td>\n",
              "      <td>25</td>\n",
              "      <td>2321</td>\n",
              "      <td>299.0</td>\n",
              "      <td>1.0</td>\n",
              "    </tr>\n",
              "    <tr>\n",
              "      <th>2351441</th>\n",
              "      <td>2015-01-07</td>\n",
              "      <td>24</td>\n",
              "      <td>25</td>\n",
              "      <td>2321</td>\n",
              "      <td>299.0</td>\n",
              "      <td>1.0</td>\n",
              "    </tr>\n",
              "    <tr>\n",
              "      <th>2615180</th>\n",
              "      <td>2015-05-02</td>\n",
              "      <td>28</td>\n",
              "      <td>25</td>\n",
              "      <td>2321</td>\n",
              "      <td>148.0</td>\n",
              "      <td>1.0</td>\n",
              "    </tr>\n",
              "    <tr>\n",
              "      <th>2615181</th>\n",
              "      <td>2015-05-03</td>\n",
              "      <td>28</td>\n",
              "      <td>25</td>\n",
              "      <td>2321</td>\n",
              "      <td>148.0</td>\n",
              "      <td>1.0</td>\n",
              "    </tr>\n",
              "    <tr>\n",
              "      <th>2615182</th>\n",
              "      <td>2015-05-10</td>\n",
              "      <td>28</td>\n",
              "      <td>25</td>\n",
              "      <td>2321</td>\n",
              "      <td>148.0</td>\n",
              "      <td>1.0</td>\n",
              "    </tr>\n",
              "  </tbody>\n",
              "</table>\n",
              "</div>"
            ],
            "text/plain": [
              "              date  date_block_num  shop_id  item_id  item_price  item_cnt_day\n",
              "147     2013-01-20               0       25     2321       999.0           1.0\n",
              "148     2013-01-23               0       25     2321       999.0          -1.0\n",
              "149     2013-01-31               0       25     2321       999.0           1.0\n",
              "408     2013-01-05               0       25     2321       999.0           1.0\n",
              "155098  2013-02-07               1       25     2321       999.0           1.0\n",
              "155099  2013-02-25               1       25     2321      1099.0           1.0\n",
              "324402  2013-03-21               2       25     2321      1099.0           1.0\n",
              "324453  2013-03-19               2       25     2321       989.0           1.0\n",
              "353997  2013-04-26               3       25     2321      1099.0           1.0\n",
              "584374  2013-06-18               5       25     2321       698.0           1.0\n",
              "584380  2013-06-22               5       25     2321       698.0           1.0\n",
              "681653  2013-07-06               6       25     2321       698.0           1.0\n",
              "794293  2013-08-03               7       25     2321       698.0           1.0\n",
              "794294  2013-08-13               7       25     2321       698.0           1.0\n",
              "794295  2013-08-14               7       25     2321       698.0           1.0\n",
              "868359  2013-09-21               8       25     2321       698.0           1.0\n",
              "868360  2013-09-08               8       25     2321       698.0           1.0\n",
              "868361  2013-09-01               8       25     2321       698.0           1.0\n",
              "989347  2013-10-23               9       25     2321       488.6           1.0\n",
              "989348  2013-10-19               9       25     2321       488.6           1.0\n",
              "1079154 2013-11-02              10       25     2321       698.0           1.0\n",
              "1079155 2013-11-29              10       25     2321       698.0           1.0\n",
              "1140376 2013-12-09              11       25     2321       499.0           1.0\n",
              "1362474 2014-01-19              12       25     2321       499.0           1.0\n",
              "1711156 2014-06-17              17       25     2321       349.0           1.0\n",
              "1711177 2014-06-23              17       25     2321       349.0           1.0\n",
              "1866087 2014-07-23              18       25     2321       349.0           1.0\n",
              "1866088 2014-07-06              18       25     2321       349.3           1.0\n",
              "2044144 2014-10-13              21       25     2321       299.0           1.0\n",
              "2044145 2014-10-04              21       25     2321       299.0           1.0\n",
              "2174814 2014-11-16              22       25     2321       299.0           1.0\n",
              "2174815 2014-11-23              22       25     2321       299.0           1.0\n",
              "2351440 2015-01-02              24       25     2321       299.0           1.0\n",
              "2351441 2015-01-07              24       25     2321       299.0           1.0\n",
              "2615180 2015-05-02              28       25     2321       148.0           1.0\n",
              "2615181 2015-05-03              28       25     2321       148.0           1.0\n",
              "2615182 2015-05-10              28       25     2321       148.0           1.0"
            ]
          },
          "metadata": {
            "tags": []
          },
          "execution_count": 18
        }
      ]
    },
    {
      "cell_type": "markdown",
      "metadata": {
        "id": "_7155xtQRxdK"
      },
      "source": [
        "for negative item_cnt_day, we change it into 0"
      ]
    },
    {
      "cell_type": "code",
      "metadata": {
        "colab": {
          "base_uri": "https://localhost:8080/",
          "height": 419
        },
        "id": "_33TUu_9SDTR",
        "outputId": "48a48a6f-a2c4-4b2b-e01e-7fca713229bb"
      },
      "source": [
        "negative_cnt = df_train[(df_train.item_cnt_day<0)]\n",
        "negative_cnt"
      ],
      "execution_count": null,
      "outputs": [
        {
          "output_type": "execute_result",
          "data": {
            "text/html": [
              "<div>\n",
              "<style scoped>\n",
              "    .dataframe tbody tr th:only-of-type {\n",
              "        vertical-align: middle;\n",
              "    }\n",
              "\n",
              "    .dataframe tbody tr th {\n",
              "        vertical-align: top;\n",
              "    }\n",
              "\n",
              "    .dataframe thead th {\n",
              "        text-align: right;\n",
              "    }\n",
              "</style>\n",
              "<table border=\"1\" class=\"dataframe\">\n",
              "  <thead>\n",
              "    <tr style=\"text-align: right;\">\n",
              "      <th></th>\n",
              "      <th>date</th>\n",
              "      <th>date_block_num</th>\n",
              "      <th>shop_id</th>\n",
              "      <th>item_id</th>\n",
              "      <th>item_price</th>\n",
              "      <th>item_cnt_day</th>\n",
              "    </tr>\n",
              "  </thead>\n",
              "  <tbody>\n",
              "    <tr>\n",
              "      <th>2</th>\n",
              "      <td>2013-01-05</td>\n",
              "      <td>0</td>\n",
              "      <td>25</td>\n",
              "      <td>2552</td>\n",
              "      <td>899.0</td>\n",
              "      <td>-1.0</td>\n",
              "    </tr>\n",
              "    <tr>\n",
              "      <th>148</th>\n",
              "      <td>2013-01-23</td>\n",
              "      <td>0</td>\n",
              "      <td>25</td>\n",
              "      <td>2321</td>\n",
              "      <td>999.0</td>\n",
              "      <td>-1.0</td>\n",
              "    </tr>\n",
              "    <tr>\n",
              "      <th>175</th>\n",
              "      <td>2013-01-07</td>\n",
              "      <td>0</td>\n",
              "      <td>25</td>\n",
              "      <td>2199</td>\n",
              "      <td>1449.0</td>\n",
              "      <td>-1.0</td>\n",
              "    </tr>\n",
              "    <tr>\n",
              "      <th>807</th>\n",
              "      <td>2013-01-02</td>\n",
              "      <td>0</td>\n",
              "      <td>25</td>\n",
              "      <td>2330</td>\n",
              "      <td>599.0</td>\n",
              "      <td>-1.0</td>\n",
              "    </tr>\n",
              "    <tr>\n",
              "      <th>1041</th>\n",
              "      <td>2013-01-13</td>\n",
              "      <td>0</td>\n",
              "      <td>25</td>\n",
              "      <td>5034</td>\n",
              "      <td>1989.0</td>\n",
              "      <td>-1.0</td>\n",
              "    </tr>\n",
              "    <tr>\n",
              "      <th>...</th>\n",
              "      <td>...</td>\n",
              "      <td>...</td>\n",
              "      <td>...</td>\n",
              "      <td>...</td>\n",
              "      <td>...</td>\n",
              "      <td>...</td>\n",
              "    </tr>\n",
              "    <tr>\n",
              "      <th>2934243</th>\n",
              "      <td>2015-10-26</td>\n",
              "      <td>33</td>\n",
              "      <td>25</td>\n",
              "      <td>3917</td>\n",
              "      <td>449.0</td>\n",
              "      <td>-1.0</td>\n",
              "    </tr>\n",
              "    <tr>\n",
              "      <th>2934462</th>\n",
              "      <td>2015-10-18</td>\n",
              "      <td>33</td>\n",
              "      <td>25</td>\n",
              "      <td>4896</td>\n",
              "      <td>6398.0</td>\n",
              "      <td>-1.0</td>\n",
              "    </tr>\n",
              "    <tr>\n",
              "      <th>2935263</th>\n",
              "      <td>2015-10-05</td>\n",
              "      <td>33</td>\n",
              "      <td>25</td>\n",
              "      <td>10039</td>\n",
              "      <td>249.0</td>\n",
              "      <td>-1.0</td>\n",
              "    </tr>\n",
              "    <tr>\n",
              "      <th>2935643</th>\n",
              "      <td>2015-10-16</td>\n",
              "      <td>33</td>\n",
              "      <td>25</td>\n",
              "      <td>7893</td>\n",
              "      <td>2990.0</td>\n",
              "      <td>-1.0</td>\n",
              "    </tr>\n",
              "    <tr>\n",
              "      <th>2935779</th>\n",
              "      <td>2015-10-07</td>\n",
              "      <td>33</td>\n",
              "      <td>25</td>\n",
              "      <td>7087</td>\n",
              "      <td>999.0</td>\n",
              "      <td>-1.0</td>\n",
              "    </tr>\n",
              "  </tbody>\n",
              "</table>\n",
              "<p>7356 rows × 6 columns</p>\n",
              "</div>"
            ],
            "text/plain": [
              "              date  date_block_num  shop_id  item_id  item_price  item_cnt_day\n",
              "2       2013-01-05               0       25     2552       899.0          -1.0\n",
              "148     2013-01-23               0       25     2321       999.0          -1.0\n",
              "175     2013-01-07               0       25     2199      1449.0          -1.0\n",
              "807     2013-01-02               0       25     2330       599.0          -1.0\n",
              "1041    2013-01-13               0       25     5034      1989.0          -1.0\n",
              "...            ...             ...      ...      ...         ...           ...\n",
              "2934243 2015-10-26              33       25     3917       449.0          -1.0\n",
              "2934462 2015-10-18              33       25     4896      6398.0          -1.0\n",
              "2935263 2015-10-05              33       25    10039       249.0          -1.0\n",
              "2935643 2015-10-16              33       25     7893      2990.0          -1.0\n",
              "2935779 2015-10-07              33       25     7087       999.0          -1.0\n",
              "\n",
              "[7356 rows x 6 columns]"
            ]
          },
          "metadata": {
            "tags": []
          },
          "execution_count": 19
        }
      ]
    },
    {
      "cell_type": "code",
      "metadata": {
        "id": "9I68EyYmSMSV"
      },
      "source": [
        "df_train.loc[df_train.item_cnt_day<0, 'item_cnt_day'] = 0"
      ],
      "execution_count": null,
      "outputs": []
    },
    {
      "cell_type": "markdown",
      "metadata": {
        "id": "qBgJUqC7WvBK"
      },
      "source": [
        "#total sales monthly "
      ]
    },
    {
      "cell_type": "code",
      "metadata": {
        "colab": {
          "base_uri": "https://localhost:8080/",
          "height": 241
        },
        "id": "5FGllESIWvpH",
        "outputId": "91343aeb-d105-48c0-d6b0-43d9c47bbbbd"
      },
      "source": [
        "ts_monthly=df_train.groupby([\"date_block_num\"])[\"item_cnt_day\"].sum()\n",
        "ts_monthly.astype('float')\n",
        "plt.figure(figsize=(5,3))\n",
        "plt.title('Total Sales')\n",
        "plt.xlabel('Month')\n",
        "plt.ylabel('Sales')\n",
        "plt.plot(ts_monthly);"
      ],
      "execution_count": null,
      "outputs": [
        {
          "output_type": "display_data",
          "data": {
            "image/png": "[encoded data removed]",
            "text/plain": [
              "<Figure size 360x216 with 1 Axes>"
            ]
          },
          "metadata": {
            "tags": [],
            "needs_background": "light"
          }
        }
      ]
    },
    {
      "cell_type": "markdown",
      "metadata": {
        "id": "9Xg52agewlR_"
      },
      "source": [
        "# decompose ts and ACF plot function"
      ]
    },
    {
      "cell_type": "code",
      "metadata": {
        "id": "OZjfEk7FeUR7"
      },
      "source": [
        "from statsmodels.tsa.seasonal import seasonal_decompose\n",
        "from statsmodels.tsa.stattools import acf\n",
        "import statsmodels.api as sm\n",
        "\n",
        "def decompose(ts):\n",
        "  decompose_result = seasonal_decompose(ts, freq = 7, model=\"additive\")\n",
        "  trend = decompose_result.trend\n",
        "  seasonal = decompose_result.seasonal \n",
        "  residual = decompose_result.resid \n",
        "\n",
        "  decompose_result.plot()\n",
        "\n",
        "\n",
        "\n",
        "def ACF(ts): \n",
        "  ACF = acf(ts) \n",
        "  sm.graphics.tsa.plot_acf(ACF)"
      ],
      "execution_count": null,
      "outputs": []
    },
    {
      "cell_type": "code",
      "metadata": {
        "id": "0OHO_UELrO29"
      },
      "source": [
        "ts_monthly = ts_monthly.reset_index()"
      ],
      "execution_count": null,
      "outputs": []
    },
    {
      "cell_type": "code",
      "metadata": {
        "id": "TkoSfft6sEDR"
      },
      "source": [
        "ts_monthly.columns = ['month','item_cnt_month']"
      ],
      "execution_count": null,
      "outputs": []
    },
    {
      "cell_type": "code",
      "metadata": {
        "colab": {
          "base_uri": "https://localhost:8080/",
          "height": 1000
        },
        "id": "3TtNR8KesOOs",
        "outputId": "56303710-1e14-49e6-a77e-ee2a4b9292db"
      },
      "source": [
        "ts_monthly"
      ],
      "execution_count": null,
      "outputs": [
        {
          "output_type": "execute_result",
          "data": {
            "text/html": [
              "<div>\n",
              "<style scoped>\n",
              "    .dataframe tbody tr th:only-of-type {\n",
              "        vertical-align: middle;\n",
              "    }\n",
              "\n",
              "    .dataframe tbody tr th {\n",
              "        vertical-align: top;\n",
              "    }\n",
              "\n",
              "    .dataframe thead th {\n",
              "        text-align: right;\n",
              "    }\n",
              "</style>\n",
              "<table border=\"1\" class=\"dataframe\">\n",
              "  <thead>\n",
              "    <tr style=\"text-align: right;\">\n",
              "      <th></th>\n",
              "      <th>month</th>\n",
              "      <th>item_cnt_month</th>\n",
              "    </tr>\n",
              "  </thead>\n",
              "  <tbody>\n",
              "    <tr>\n",
              "      <th>0</th>\n",
              "      <td>0</td>\n",
              "      <td>131850.0</td>\n",
              "    </tr>\n",
              "    <tr>\n",
              "      <th>1</th>\n",
              "      <td>1</td>\n",
              "      <td>128382.0</td>\n",
              "    </tr>\n",
              "    <tr>\n",
              "      <th>2</th>\n",
              "      <td>2</td>\n",
              "      <td>147438.0</td>\n",
              "    </tr>\n",
              "    <tr>\n",
              "      <th>3</th>\n",
              "      <td>3</td>\n",
              "      <td>107439.0</td>\n",
              "    </tr>\n",
              "    <tr>\n",
              "      <th>4</th>\n",
              "      <td>4</td>\n",
              "      <td>107148.0</td>\n",
              "    </tr>\n",
              "    <tr>\n",
              "      <th>5</th>\n",
              "      <td>5</td>\n",
              "      <td>125583.0</td>\n",
              "    </tr>\n",
              "    <tr>\n",
              "      <th>6</th>\n",
              "      <td>6</td>\n",
              "      <td>117165.0</td>\n",
              "    </tr>\n",
              "    <tr>\n",
              "      <th>7</th>\n",
              "      <td>7</td>\n",
              "      <td>125586.0</td>\n",
              "    </tr>\n",
              "    <tr>\n",
              "      <th>8</th>\n",
              "      <td>8</td>\n",
              "      <td>133551.0</td>\n",
              "    </tr>\n",
              "    <tr>\n",
              "      <th>9</th>\n",
              "      <td>9</td>\n",
              "      <td>127815.0</td>\n",
              "    </tr>\n",
              "    <tr>\n",
              "      <th>10</th>\n",
              "      <td>10</td>\n",
              "      <td>130270.0</td>\n",
              "    </tr>\n",
              "    <tr>\n",
              "      <th>11</th>\n",
              "      <td>11</td>\n",
              "      <td>183669.0</td>\n",
              "    </tr>\n",
              "    <tr>\n",
              "      <th>12</th>\n",
              "      <td>12</td>\n",
              "      <td>117243.0</td>\n",
              "    </tr>\n",
              "    <tr>\n",
              "      <th>13</th>\n",
              "      <td>13</td>\n",
              "      <td>109975.0</td>\n",
              "    </tr>\n",
              "    <tr>\n",
              "      <th>14</th>\n",
              "      <td>14</td>\n",
              "      <td>115501.0</td>\n",
              "    </tr>\n",
              "    <tr>\n",
              "      <th>15</th>\n",
              "      <td>15</td>\n",
              "      <td>96744.0</td>\n",
              "    </tr>\n",
              "    <tr>\n",
              "      <th>16</th>\n",
              "      <td>16</td>\n",
              "      <td>97938.0</td>\n",
              "    </tr>\n",
              "    <tr>\n",
              "      <th>17</th>\n",
              "      <td>17</td>\n",
              "      <td>97623.0</td>\n",
              "    </tr>\n",
              "    <tr>\n",
              "      <th>18</th>\n",
              "      <td>18</td>\n",
              "      <td>91505.0</td>\n",
              "    </tr>\n",
              "    <tr>\n",
              "      <th>19</th>\n",
              "      <td>19</td>\n",
              "      <td>102910.0</td>\n",
              "    </tr>\n",
              "    <tr>\n",
              "      <th>20</th>\n",
              "      <td>20</td>\n",
              "      <td>99427.0</td>\n",
              "    </tr>\n",
              "    <tr>\n",
              "      <th>21</th>\n",
              "      <td>21</td>\n",
              "      <td>107623.0</td>\n",
              "    </tr>\n",
              "    <tr>\n",
              "      <th>22</th>\n",
              "      <td>22</td>\n",
              "      <td>118050.0</td>\n",
              "    </tr>\n",
              "    <tr>\n",
              "      <th>23</th>\n",
              "      <td>23</td>\n",
              "      <td>169055.0</td>\n",
              "    </tr>\n",
              "    <tr>\n",
              "      <th>24</th>\n",
              "      <td>24</td>\n",
              "      <td>110299.0</td>\n",
              "    </tr>\n",
              "    <tr>\n",
              "      <th>25</th>\n",
              "      <td>25</td>\n",
              "      <td>84419.0</td>\n",
              "    </tr>\n",
              "    <tr>\n",
              "      <th>26</th>\n",
              "      <td>26</td>\n",
              "      <td>82233.0</td>\n",
              "    </tr>\n",
              "    <tr>\n",
              "      <th>27</th>\n",
              "      <td>27</td>\n",
              "      <td>77948.0</td>\n",
              "    </tr>\n",
              "    <tr>\n",
              "      <th>28</th>\n",
              "      <td>28</td>\n",
              "      <td>72435.0</td>\n",
              "    </tr>\n",
              "    <tr>\n",
              "      <th>29</th>\n",
              "      <td>29</td>\n",
              "      <td>64237.0</td>\n",
              "    </tr>\n",
              "    <tr>\n",
              "      <th>30</th>\n",
              "      <td>30</td>\n",
              "      <td>63316.0</td>\n",
              "    </tr>\n",
              "    <tr>\n",
              "      <th>31</th>\n",
              "      <td>31</td>\n",
              "      <td>66196.0</td>\n",
              "    </tr>\n",
              "    <tr>\n",
              "      <th>32</th>\n",
              "      <td>32</td>\n",
              "      <td>72989.0</td>\n",
              "    </tr>\n",
              "    <tr>\n",
              "      <th>33</th>\n",
              "      <td>33</td>\n",
              "      <td>69015.0</td>\n",
              "    </tr>\n",
              "  </tbody>\n",
              "</table>\n",
              "</div>"
            ],
            "text/plain": [
              "    month  item_cnt_month\n",
              "0       0        131850.0\n",
              "1       1        128382.0\n",
              "2       2        147438.0\n",
              "3       3        107439.0\n",
              "4       4        107148.0\n",
              "5       5        125583.0\n",
              "6       6        117165.0\n",
              "7       7        125586.0\n",
              "8       8        133551.0\n",
              "9       9        127815.0\n",
              "10     10        130270.0\n",
              "11     11        183669.0\n",
              "12     12        117243.0\n",
              "13     13        109975.0\n",
              "14     14        115501.0\n",
              "15     15         96744.0\n",
              "16     16         97938.0\n",
              "17     17         97623.0\n",
              "18     18         91505.0\n",
              "19     19        102910.0\n",
              "20     20         99427.0\n",
              "21     21        107623.0\n",
              "22     22        118050.0\n",
              "23     23        169055.0\n",
              "24     24        110299.0\n",
              "25     25         84419.0\n",
              "26     26         82233.0\n",
              "27     27         77948.0\n",
              "28     28         72435.0\n",
              "29     29         64237.0\n",
              "30     30         63316.0\n",
              "31     31         66196.0\n",
              "32     32         72989.0\n",
              "33     33         69015.0"
            ]
          },
          "metadata": {
            "tags": []
          },
          "execution_count": 25
        }
      ]
    },
    {
      "cell_type": "markdown",
      "metadata": {
        "id": "JMU4bARtF8Lh"
      },
      "source": [
        "# decomposition of monthly sale"
      ]
    },
    {
      "cell_type": "code",
      "metadata": {
        "colab": {
          "base_uri": "https://localhost:8080/",
          "height": 351
        },
        "id": "IuXle5X-eLFi",
        "outputId": "944719ae-b610-49d7-ce4d-3c0fd679c755"
      },
      "source": [
        "decompose(ts_monthly['item_cnt_month'])"
      ],
      "execution_count": null,
      "outputs": [
        {
          "output_type": "stream",
          "text": [
            "/usr/local/lib/python3.6/dist-packages/ipykernel_launcher.py:6: FutureWarning: the 'freq'' keyword is deprecated, use 'period' instead\n",
            "  \n"
          ],
          "name": "stderr"
        },
        {
          "output_type": "display_data",
          "data": {
            "image/png": "[encoded data removed]",
            "text/plain": [
              "<Figure size 432x288 with 4 Axes>"
            ]
          },
          "metadata": {
            "tags": [],
            "needs_background": "light"
          }
        }
      ]
    },
    {
      "cell_type": "code",
      "metadata": {
        "colab": {
          "base_uri": "https://localhost:8080/",
          "height": 369
        },
        "id": "oFZY1_M_iLOd",
        "outputId": "60dcc929-4172-4a1e-ff69-1d0a95ce6257"
      },
      "source": [
        "def ACF(ts): \n",
        "  ACF = acf(ts) \n",
        "  sm.graphics.tsa.plot_acf(ACF)\n",
        "ACF(ts_monthly['item_cnt_month'])"
      ],
      "execution_count": null,
      "outputs": [
        {
          "output_type": "stream",
          "text": [
            "/usr/local/lib/python3.6/dist-packages/statsmodels/tsa/stattools.py:660: FutureWarning: The default number of lags is changing from 40 tomin(int(10 * np.log10(nobs)), nobs - 1) after 0.12is released. Set the number of lags to an integer to  silence this warning.\n",
            "  FutureWarning,\n",
            "/usr/local/lib/python3.6/dist-packages/statsmodels/tsa/stattools.py:669: FutureWarning: fft=True will become the default after the release of the 0.12 release of statsmodels. To suppress this warning, explicitly set fft=False.\n",
            "  FutureWarning,\n"
          ],
          "name": "stderr"
        },
        {
          "output_type": "display_data",
          "data": {
            "image/png": "[encoded data removed]",
            "text/plain": [
              "<Figure size 432x288 with 1 Axes>"
            ]
          },
          "metadata": {
            "tags": [],
            "needs_background": "light"
          }
        }
      ]
    },
    {
      "cell_type": "markdown",
      "metadata": {
        "id": "eiZEp5o9eMBF"
      },
      "source": [
        "# Difference data to make data stationary on mean (remove trend)"
      ]
    },
    {
      "cell_type": "code",
      "metadata": {
        "colab": {
          "base_uri": "https://localhost:8080/",
          "height": 282
        },
        "id": "S9J89WL4eVTP",
        "outputId": "8a0837ec-9dfc-4dd8-c623-a79f7377512d"
      },
      "source": [
        "ts_monthly['item_cnt_month_diff'] = ts_monthly['item_cnt_month'] - ts_monthly['item_cnt_month'].shift(1)\n",
        "ts_monthly['item_cnt_month_diff'].dropna().plot()"
      ],
      "execution_count": null,
      "outputs": [
        {
          "output_type": "execute_result",
          "data": {
            "text/plain": [
              "<matplotlib.axes._subplots.AxesSubplot at 0x7f268545aa58>"
            ]
          },
          "metadata": {
            "tags": []
          },
          "execution_count": 28
        },
        {
          "output_type": "display_data",
          "data": {
            "image/png": "[encoded data removed]",
            "text/plain": [
              "<Figure size 432x288 with 1 Axes>"
            ]
          },
          "metadata": {
            "tags": [],
            "needs_background": "light"
          }
        }
      ]
    },
    {
      "cell_type": "code",
      "metadata": {
        "colab": {
          "base_uri": "https://localhost:8080/",
          "height": 369
        },
        "id": "mwgvacoE-1Qe",
        "outputId": "aeb0c3bd-92f7-4340-9a6d-2a6ae60c8709"
      },
      "source": [
        "ACF(ts_monthly['item_cnt_month_diff'])"
      ],
      "execution_count": null,
      "outputs": [
        {
          "output_type": "stream",
          "text": [
            "/usr/local/lib/python3.6/dist-packages/statsmodels/tsa/stattools.py:660: FutureWarning: The default number of lags is changing from 40 tomin(int(10 * np.log10(nobs)), nobs - 1) after 0.12is released. Set the number of lags to an integer to  silence this warning.\n",
            "  FutureWarning,\n",
            "/usr/local/lib/python3.6/dist-packages/statsmodels/tsa/stattools.py:669: FutureWarning: fft=True will become the default after the release of the 0.12 release of statsmodels. To suppress this warning, explicitly set fft=False.\n",
            "  FutureWarning,\n"
          ],
          "name": "stderr"
        },
        {
          "output_type": "display_data",
          "data": {
            "image/png": "[encoded data removed]",
            "text/plain": [
              "<Figure size 432x288 with 1 Axes>"
            ]
          },
          "metadata": {
            "tags": [],
            "needs_background": "light"
          }
        }
      ]
    },
    {
      "cell_type": "code",
      "metadata": {
        "colab": {
          "base_uri": "https://localhost:8080/",
          "height": 282
        },
        "id": "jnqvUJsefe5X",
        "outputId": "b6b147e1-03a6-47a2-ef15-435c7f23979b"
      },
      "source": [
        "ts_monthly['item_cnt_month_log'] = np.log(ts_monthly['item_cnt_month'])\n",
        "\n",
        "ts_monthly['item_cnt_month_log_diff'] = ts_monthly['item_cnt_month_log'] - ts_monthly['item_cnt_month_log'].shift(1)\n",
        "ts_monthly['item_cnt_month_log_diff'].dropna().plot()"
      ],
      "execution_count": null,
      "outputs": [
        {
          "output_type": "execute_result",
          "data": {
            "text/plain": [
              "<matplotlib.axes._subplots.AxesSubplot at 0x7f26853a6748>"
            ]
          },
          "metadata": {
            "tags": []
          },
          "execution_count": 30
        },
        {
          "output_type": "display_data",
          "data": {
            "image/png": "[encoded data removed]",
            "text/plain": [
              "<Figure size 432x288 with 1 Axes>"
            ]
          },
          "metadata": {
            "tags": [],
            "needs_background": "light"
          }
        }
      ]
    },
    {
      "cell_type": "code",
      "metadata": {
        "colab": {
          "base_uri": "https://localhost:8080/",
          "height": 282
        },
        "id": "gPGOq6n4_vb6",
        "outputId": "f6e20df4-c934-497f-dd8e-153030317eb5"
      },
      "source": [
        "ts_monthly['item_cnt_month_log'].dropna().plot()"
      ],
      "execution_count": null,
      "outputs": [
        {
          "output_type": "execute_result",
          "data": {
            "text/plain": [
              "<matplotlib.axes._subplots.AxesSubplot at 0x7f26853ab860>"
            ]
          },
          "metadata": {
            "tags": []
          },
          "execution_count": 31
        },
        {
          "output_type": "display_data",
          "data": {
            "image/png": "[encoded data removed]",
            "text/plain": [
              "<Figure size 432x288 with 1 Axes>"
            ]
          },
          "metadata": {
            "tags": [],
            "needs_background": "light"
          }
        }
      ]
    },
    {
      "cell_type": "markdown",
      "metadata": {
        "id": "WPBswB4dyHui"
      },
      "source": [
        "# check stationary on monthly sales"
      ]
    },
    {
      "cell_type": "code",
      "metadata": {
        "colab": {
          "base_uri": "https://localhost:8080/"
        },
        "id": "ixmrPV5AyK63",
        "outputId": "1df1a0b9-2b05-4f4d-e59f-669b0e25d349"
      },
      "source": [
        "#Dickey-Fuller test\n",
        "from statsmodels.tsa.stattools import adfuller\n",
        "adf, pvalue, usedlag_, nobs_, critical_values_, icbest_ = adfuller(ts_monthly['item_cnt_month'])\n",
        "print(\"pvalue = \", pvalue, \" if above 0.05, data is not stationary\")\n",
        "#Since data is not stationary, we may need SARIMA and not just ARIMA"
      ],
      "execution_count": null,
      "outputs": [
        {
          "output_type": "stream",
          "text": [
            "pvalue =  0.14971807443343815  if above 0.05, data is not stationary\n"
          ],
          "name": "stdout"
        }
      ]
    },
    {
      "cell_type": "code",
      "metadata": {
        "colab": {
          "base_uri": "https://localhost:8080/"
        },
        "id": "IpGk7BXGFG98",
        "outputId": "fd7e8023-b2db-4c51-a163-67f5178e67ac"
      },
      "source": [
        "! pip install pmdarima"
      ],
      "execution_count": null,
      "outputs": [
        {
          "output_type": "stream",
          "text": [
            "Requirement already satisfied: pmdarima in /usr/local/lib/python3.6/dist-packages (1.8.0)\n",
            "Requirement already satisfied: numpy>=1.17.3 in /usr/local/lib/python3.6/dist-packages (from pmdarima) (1.18.5)\n",
            "Requirement already satisfied: joblib>=0.11 in /usr/local/lib/python3.6/dist-packages (from pmdarima) (0.17.0)\n",
            "Requirement already satisfied: Cython<0.29.18,>=0.29 in /usr/local/lib/python3.6/dist-packages (from pmdarima) (0.29.17)\n",
            "Requirement already satisfied: pandas>=0.19 in /usr/local/lib/python3.6/dist-packages (from pmdarima) (1.1.4)\n",
            "Requirement already satisfied: scipy>=1.3.2 in /usr/local/lib/python3.6/dist-packages (from pmdarima) (1.4.1)\n",
            "Requirement already satisfied: setuptools!=50.0.0,>=38.6.0 in /usr/local/lib/python3.6/dist-packages (from pmdarima) (50.3.2)\n",
            "Requirement already satisfied: urllib3 in /usr/local/lib/python3.6/dist-packages (from pmdarima) (1.24.3)\n",
            "Requirement already satisfied: scikit-learn>=0.22 in /usr/local/lib/python3.6/dist-packages (from pmdarima) (0.22.2.post1)\n",
            "Requirement already satisfied: statsmodels!=0.12.0,>=0.11 in /usr/local/lib/python3.6/dist-packages (from pmdarima) (0.12.1)\n",
            "Requirement already satisfied: python-dateutil>=2.7.3 in /usr/local/lib/python3.6/dist-packages (from pandas>=0.19->pmdarima) (2.8.1)\n",
            "Requirement already satisfied: pytz>=2017.2 in /usr/local/lib/python3.6/dist-packages (from pandas>=0.19->pmdarima) (2018.9)\n",
            "Requirement already satisfied: patsy>=0.5 in /usr/local/lib/python3.6/dist-packages (from statsmodels!=0.12.0,>=0.11->pmdarima) (0.5.1)\n",
            "Requirement already satisfied: six>=1.5 in /usr/local/lib/python3.6/dist-packages (from python-dateutil>=2.7.3->pandas>=0.19->pmdarima) (1.15.0)\n"
          ],
          "name": "stdout"
        }
      ]
    },
    {
      "cell_type": "code",
      "metadata": {
        "colab": {
          "base_uri": "https://localhost:8080/"
        },
        "id": "t_axcnjoR4rS",
        "outputId": "cb40bb88-7c6a-4731-c5be-aec619bfd4e1"
      },
      "source": [
        "ts_monthly['month']"
      ],
      "execution_count": null,
      "outputs": [
        {
          "output_type": "execute_result",
          "data": {
            "text/plain": [
              "0      0\n",
              "1      1\n",
              "2      2\n",
              "3      3\n",
              "4      4\n",
              "5      5\n",
              "6      6\n",
              "7      7\n",
              "8      8\n",
              "9      9\n",
              "10    10\n",
              "11    11\n",
              "12    12\n",
              "13    13\n",
              "14    14\n",
              "15    15\n",
              "16    16\n",
              "17    17\n",
              "18    18\n",
              "19    19\n",
              "20    20\n",
              "21    21\n",
              "22    22\n",
              "23    23\n",
              "24    24\n",
              "25    25\n",
              "26    26\n",
              "27    27\n",
              "28    28\n",
              "29    29\n",
              "30    30\n",
              "31    31\n",
              "32    32\n",
              "33    33\n",
              "Name: month, dtype: int64"
            ]
          },
          "metadata": {
            "tags": []
          },
          "execution_count": 34
        }
      ]
    },
    {
      "cell_type": "markdown",
      "metadata": {
        "id": "cgreakTFtLcD"
      },
      "source": [
        "# apply Arima model to monthly sales"
      ]
    },
    {
      "cell_type": "code",
      "metadata": {
        "colab": {
          "base_uri": "https://localhost:8080/"
        },
        "id": "KBXngVuIscXp",
        "outputId": "fc51f125-8c87-4acf-b71b-f1ae11b7c22a"
      },
      "source": [
        "#Autoarima gives us bet model suited for the data\n",
        "# p - number of autoregressive terms (AR)\n",
        "# q - Number of moving avergae terms (MA)\n",
        "# d - number of non-seasonal differences\n",
        "#p, d, q represent non-seasonal components\n",
        "#P, D, Q represent seasonal components\n",
        "from pmdarima.arima import auto_arima\n",
        "arima_model = auto_arima(ts_monthly['item_cnt_month'][:24], start_p = 1, d=1, start_q = 1, \n",
        "                          max_p = 5, max_q = 5, max_d=5, m = 12, \n",
        "                          start_P = 0, D=1, start_Q=0, max_P=5, max_D=5, max_Q=5,\n",
        "                          seasonal = True, \n",
        "                          trace = True, \n",
        "                          error_action ='ignore',   \n",
        "                          suppress_warnings = True,  \n",
        "                          stepwise = True, n_fits=50)           "
      ],
      "execution_count": null,
      "outputs": [
        {
          "output_type": "stream",
          "text": [
            "Performing stepwise search to minimize aic\n",
            " ARIMA(1,1,1)(0,1,0)[12]             : AIC=221.539, Time=0.10 sec\n",
            " ARIMA(0,1,0)(0,1,0)[12]             : AIC=218.022, Time=0.03 sec\n",
            " ARIMA(1,1,0)(1,1,0)[12]             : AIC=214.978, Time=0.08 sec\n",
            " ARIMA(0,1,1)(0,1,1)[12]             : AIC=215.292, Time=0.08 sec\n",
            " ARIMA(1,1,0)(0,1,0)[12]             : AIC=219.965, Time=0.04 sec\n",
            " ARIMA(1,1,0)(2,1,0)[12]             : AIC=216.978, Time=0.20 sec\n",
            " ARIMA(1,1,0)(1,1,1)[12]             : AIC=216.978, Time=0.13 sec\n",
            " ARIMA(1,1,0)(0,1,1)[12]             : AIC=216.183, Time=0.07 sec\n",
            " ARIMA(1,1,0)(2,1,1)[12]             : AIC=218.978, Time=0.25 sec\n",
            " ARIMA(0,1,0)(1,1,0)[12]             : AIC=213.010, Time=0.05 sec\n",
            " ARIMA(0,1,0)(2,1,0)[12]             : AIC=215.010, Time=0.12 sec\n",
            " ARIMA(0,1,0)(1,1,1)[12]             : AIC=214.358, Time=0.07 sec\n",
            " ARIMA(0,1,0)(0,1,1)[12]             : AIC=inf, Time=0.15 sec\n",
            " ARIMA(0,1,0)(2,1,1)[12]             : AIC=216.358, Time=0.18 sec\n",
            " ARIMA(0,1,1)(1,1,0)[12]             : AIC=214.010, Time=0.07 sec\n",
            " ARIMA(1,1,1)(1,1,0)[12]             : AIC=215.726, Time=0.11 sec\n",
            " ARIMA(0,1,0)(1,1,0)[12] intercept   : AIC=215.009, Time=0.07 sec\n",
            "\n",
            "Best model:  ARIMA(0,1,0)(1,1,0)[12]          \n",
            "Total fit time: 1.822 seconds\n"
          ],
          "name": "stdout"
        }
      ]
    },
    {
      "cell_type": "markdown",
      "metadata": {
        "id": "yejTZeoLBJXQ"
      },
      "source": [
        "our model has I (or integrated) component equal to 1. This represents differencing of order 1. There is additional differencing of lag 12 in the above best fit model. "
      ]
    },
    {
      "cell_type": "code",
      "metadata": {
        "colab": {
          "base_uri": "https://localhost:8080/",
          "height": 473
        },
        "id": "zou7DdQbsjko",
        "outputId": "489ebdf4-2a00-4449-c0f6-22ade744f230"
      },
      "source": [
        "size = 24\n",
        "X_train, X_test = ts_monthly[:size], ts_monthly[size:len(ts_monthly)]\n",
        "#Best model:  ARIMA(0,1,0)(0,1,0)[12]    \n",
        "from statsmodels.tsa.statespace.sarimax import SARIMAX \n",
        "  \n",
        "model = SARIMAX(X_train['item_cnt_month'],  \n",
        "                order = (0, 1, 0),  \n",
        "                seasonal_order =(1, 1, 0, 12)) \n",
        "  \n",
        "result = model.fit() \n",
        "result.summary() "
      ],
      "execution_count": null,
      "outputs": [
        {
          "output_type": "stream",
          "text": [
            "/usr/local/lib/python3.6/dist-packages/statsmodels/tsa/statespace/sarimax.py:868: UserWarning: Too few observations to estimate starting parameters for seasonal ARMA. All parameters except for variances will be set to zeros.\n",
            "  ' zeros.' % warning_description)\n"
          ],
          "name": "stderr"
        },
        {
          "output_type": "execute_result",
          "data": {
            "text/html": [
              "<table class=\"simpletable\">\n",
              "<caption>SARIMAX Results</caption>\n",
              "<tr>\n",
              "  <th>Dep. Variable:</th>           <td>item_cnt_month</td>         <th>  No. Observations:  </th>    <td>24</td>   \n",
              "</tr>\n",
              "<tr>\n",
              "  <th>Model:</th>           <td>SARIMAX(0, 1, 0)x(1, 1, 0, 12)</td> <th>  Log Likelihood     </th> <td>-116.177</td>\n",
              "</tr>\n",
              "<tr>\n",
              "  <th>Date:</th>                   <td>Tue, 08 Dec 2020</td>        <th>  AIC                </th>  <td>236.355</td>\n",
              "</tr>\n",
              "<tr>\n",
              "  <th>Time:</th>                       <td>22:23:13</td>            <th>  BIC                </th>  <td>237.151</td>\n",
              "</tr>\n",
              "<tr>\n",
              "  <th>Sample:</th>                         <td>0</td>               <th>  HQIC               </th>  <td>235.853</td>\n",
              "</tr>\n",
              "<tr>\n",
              "  <th></th>                              <td> - 24</td>             <th>                     </th>     <td> </td>   \n",
              "</tr>\n",
              "<tr>\n",
              "  <th>Covariance Type:</th>               <td>opg</td>              <th>                     </th>     <td> </td>   \n",
              "</tr>\n",
              "</table>\n",
              "<table class=\"simpletable\">\n",
              "<tr>\n",
              "      <td></td>        <th>coef</th>     <th>std err</th>      <th>z</th>      <th>P>|z|</th>  <th>[0.025</th>    <th>0.975]</th>  \n",
              "</tr>\n",
              "<tr>\n",
              "  <th>ar.S.L12</th> <td>   -0.3187</td> <td>    0.144</td> <td>   -2.219</td> <td> 0.026</td> <td>   -0.600</td> <td>   -0.037</td>\n",
              "</tr>\n",
              "<tr>\n",
              "  <th>sigma2</th>   <td> 1.283e+08</td> <td> 5.17e-11</td> <td> 2.48e+18</td> <td> 0.000</td> <td> 1.28e+08</td> <td> 1.28e+08</td>\n",
              "</tr>\n",
              "</table>\n",
              "<table class=\"simpletable\">\n",
              "<tr>\n",
              "  <th>Ljung-Box (L1) (Q):</th>     <td>0.02</td> <th>  Jarque-Bera (JB):  </th> <td>0.80</td> \n",
              "</tr>\n",
              "<tr>\n",
              "  <th>Prob(Q):</th>                <td>0.89</td> <th>  Prob(JB):          </th> <td>0.67</td> \n",
              "</tr>\n",
              "<tr>\n",
              "  <th>Heteroskedasticity (H):</th> <td>3.30</td> <th>  Skew:              </th> <td>-0.12</td>\n",
              "</tr>\n",
              "<tr>\n",
              "  <th>Prob(H) (two-sided):</th>    <td>0.27</td> <th>  Kurtosis:          </th> <td>1.70</td> \n",
              "</tr>\n",
              "</table><br/><br/>Warnings:<br/>[1] Covariance matrix calculated using the outer product of gradients (complex-step).<br/>[2] Covariance matrix is singular or near-singular, with condition number    inf. Standard errors may be unstable."
            ],
            "text/plain": [
              "<class 'statsmodels.iolib.summary.Summary'>\n",
              "\"\"\"\n",
              "                                     SARIMAX Results                                      \n",
              "==========================================================================================\n",
              "Dep. Variable:                     item_cnt_month   No. Observations:                   24\n",
              "Model:             SARIMAX(0, 1, 0)x(1, 1, 0, 12)   Log Likelihood                -116.177\n",
              "Date:                            Tue, 08 Dec 2020   AIC                            236.355\n",
              "Time:                                    22:23:13   BIC                            237.151\n",
              "Sample:                                         0   HQIC                           235.853\n",
              "                                             - 24                                         \n",
              "Covariance Type:                              opg                                         \n",
              "==============================================================================\n",
              "                 coef    std err          z      P>|z|      [0.025      0.975]\n",
              "------------------------------------------------------------------------------\n",
              "ar.S.L12      -0.3187      0.144     -2.219      0.026      -0.600      -0.037\n",
              "sigma2      1.283e+08   5.17e-11   2.48e+18      0.000    1.28e+08    1.28e+08\n",
              "===================================================================================\n",
              "Ljung-Box (L1) (Q):                   0.02   Jarque-Bera (JB):                 0.80\n",
              "Prob(Q):                              0.89   Prob(JB):                         0.67\n",
              "Heteroskedasticity (H):               3.30   Skew:                            -0.12\n",
              "Prob(H) (two-sided):                  0.27   Kurtosis:                         1.70\n",
              "===================================================================================\n",
              "\n",
              "Warnings:\n",
              "[1] Covariance matrix calculated using the outer product of gradients (complex-step).\n",
              "[2] Covariance matrix is singular or near-singular, with condition number    inf. Standard errors may be unstable.\n",
              "\"\"\""
            ]
          },
          "metadata": {
            "tags": []
          },
          "execution_count": 42
        }
      ]
    },
    {
      "cell_type": "code",
      "metadata": {
        "colab": {
          "base_uri": "https://localhost:8080/",
          "height": 793
        },
        "id": "Kxs3XoYjIQKt",
        "outputId": "904e4d58-5a56-418a-c8ca-48013d3bdc77"
      },
      "source": [
        "X_train"
      ],
      "execution_count": null,
      "outputs": [
        {
          "output_type": "execute_result",
          "data": {
            "text/html": [
              "<div>\n",
              "<style scoped>\n",
              "    .dataframe tbody tr th:only-of-type {\n",
              "        vertical-align: middle;\n",
              "    }\n",
              "\n",
              "    .dataframe tbody tr th {\n",
              "        vertical-align: top;\n",
              "    }\n",
              "\n",
              "    .dataframe thead th {\n",
              "        text-align: right;\n",
              "    }\n",
              "</style>\n",
              "<table border=\"1\" class=\"dataframe\">\n",
              "  <thead>\n",
              "    <tr style=\"text-align: right;\">\n",
              "      <th></th>\n",
              "      <th>month</th>\n",
              "      <th>item_cnt_month</th>\n",
              "      <th>item_cnt_month_diff</th>\n",
              "      <th>item_cnt_month_log</th>\n",
              "      <th>item_cnt_month_log_diff</th>\n",
              "    </tr>\n",
              "  </thead>\n",
              "  <tbody>\n",
              "    <tr>\n",
              "      <th>0</th>\n",
              "      <td>0</td>\n",
              "      <td>131850.0</td>\n",
              "      <td>NaN</td>\n",
              "      <td>11.789420</td>\n",
              "      <td>NaN</td>\n",
              "    </tr>\n",
              "    <tr>\n",
              "      <th>1</th>\n",
              "      <td>1</td>\n",
              "      <td>128382.0</td>\n",
              "      <td>-3468.0</td>\n",
              "      <td>11.762765</td>\n",
              "      <td>-0.026655</td>\n",
              "    </tr>\n",
              "    <tr>\n",
              "      <th>2</th>\n",
              "      <td>2</td>\n",
              "      <td>147438.0</td>\n",
              "      <td>19056.0</td>\n",
              "      <td>11.901163</td>\n",
              "      <td>0.138398</td>\n",
              "    </tr>\n",
              "    <tr>\n",
              "      <th>3</th>\n",
              "      <td>3</td>\n",
              "      <td>107439.0</td>\n",
              "      <td>-39999.0</td>\n",
              "      <td>11.584679</td>\n",
              "      <td>-0.316485</td>\n",
              "    </tr>\n",
              "    <tr>\n",
              "      <th>4</th>\n",
              "      <td>4</td>\n",
              "      <td>107148.0</td>\n",
              "      <td>-291.0</td>\n",
              "      <td>11.581966</td>\n",
              "      <td>-0.002712</td>\n",
              "    </tr>\n",
              "    <tr>\n",
              "      <th>5</th>\n",
              "      <td>5</td>\n",
              "      <td>125583.0</td>\n",
              "      <td>18435.0</td>\n",
              "      <td>11.740722</td>\n",
              "      <td>0.158756</td>\n",
              "    </tr>\n",
              "    <tr>\n",
              "      <th>6</th>\n",
              "      <td>6</td>\n",
              "      <td>117165.0</td>\n",
              "      <td>-8418.0</td>\n",
              "      <td>11.671338</td>\n",
              "      <td>-0.069384</td>\n",
              "    </tr>\n",
              "    <tr>\n",
              "      <th>7</th>\n",
              "      <td>7</td>\n",
              "      <td>125586.0</td>\n",
              "      <td>8421.0</td>\n",
              "      <td>11.740746</td>\n",
              "      <td>0.069408</td>\n",
              "    </tr>\n",
              "    <tr>\n",
              "      <th>8</th>\n",
              "      <td>8</td>\n",
              "      <td>133551.0</td>\n",
              "      <td>7965.0</td>\n",
              "      <td>11.802239</td>\n",
              "      <td>0.061493</td>\n",
              "    </tr>\n",
              "    <tr>\n",
              "      <th>9</th>\n",
              "      <td>9</td>\n",
              "      <td>127815.0</td>\n",
              "      <td>-5736.0</td>\n",
              "      <td>11.758339</td>\n",
              "      <td>-0.043900</td>\n",
              "    </tr>\n",
              "    <tr>\n",
              "      <th>10</th>\n",
              "      <td>10</td>\n",
              "      <td>130270.0</td>\n",
              "      <td>2455.0</td>\n",
              "      <td>11.777364</td>\n",
              "      <td>0.019025</td>\n",
              "    </tr>\n",
              "    <tr>\n",
              "      <th>11</th>\n",
              "      <td>11</td>\n",
              "      <td>183669.0</td>\n",
              "      <td>53399.0</td>\n",
              "      <td>12.120891</td>\n",
              "      <td>0.343526</td>\n",
              "    </tr>\n",
              "    <tr>\n",
              "      <th>12</th>\n",
              "      <td>12</td>\n",
              "      <td>117243.0</td>\n",
              "      <td>-66426.0</td>\n",
              "      <td>11.672004</td>\n",
              "      <td>-0.448887</td>\n",
              "    </tr>\n",
              "    <tr>\n",
              "      <th>13</th>\n",
              "      <td>13</td>\n",
              "      <td>109975.0</td>\n",
              "      <td>-7268.0</td>\n",
              "      <td>11.608008</td>\n",
              "      <td>-0.063996</td>\n",
              "    </tr>\n",
              "    <tr>\n",
              "      <th>14</th>\n",
              "      <td>14</td>\n",
              "      <td>115501.0</td>\n",
              "      <td>5526.0</td>\n",
              "      <td>11.657034</td>\n",
              "      <td>0.049026</td>\n",
              "    </tr>\n",
              "    <tr>\n",
              "      <th>15</th>\n",
              "      <td>15</td>\n",
              "      <td>96744.0</td>\n",
              "      <td>-18757.0</td>\n",
              "      <td>11.479824</td>\n",
              "      <td>-0.177211</td>\n",
              "    </tr>\n",
              "    <tr>\n",
              "      <th>16</th>\n",
              "      <td>16</td>\n",
              "      <td>97938.0</td>\n",
              "      <td>1194.0</td>\n",
              "      <td>11.492090</td>\n",
              "      <td>0.012266</td>\n",
              "    </tr>\n",
              "    <tr>\n",
              "      <th>17</th>\n",
              "      <td>17</td>\n",
              "      <td>97623.0</td>\n",
              "      <td>-315.0</td>\n",
              "      <td>11.488868</td>\n",
              "      <td>-0.003222</td>\n",
              "    </tr>\n",
              "    <tr>\n",
              "      <th>18</th>\n",
              "      <td>18</td>\n",
              "      <td>91505.0</td>\n",
              "      <td>-6118.0</td>\n",
              "      <td>11.424149</td>\n",
              "      <td>-0.064720</td>\n",
              "    </tr>\n",
              "    <tr>\n",
              "      <th>19</th>\n",
              "      <td>19</td>\n",
              "      <td>102910.0</td>\n",
              "      <td>11405.0</td>\n",
              "      <td>11.541610</td>\n",
              "      <td>0.117461</td>\n",
              "    </tr>\n",
              "    <tr>\n",
              "      <th>20</th>\n",
              "      <td>20</td>\n",
              "      <td>99427.0</td>\n",
              "      <td>-3483.0</td>\n",
              "      <td>11.507179</td>\n",
              "      <td>-0.034431</td>\n",
              "    </tr>\n",
              "    <tr>\n",
              "      <th>21</th>\n",
              "      <td>21</td>\n",
              "      <td>107623.0</td>\n",
              "      <td>8196.0</td>\n",
              "      <td>11.586390</td>\n",
              "      <td>0.079211</td>\n",
              "    </tr>\n",
              "    <tr>\n",
              "      <th>22</th>\n",
              "      <td>22</td>\n",
              "      <td>118050.0</td>\n",
              "      <td>10427.0</td>\n",
              "      <td>11.678864</td>\n",
              "      <td>0.092474</td>\n",
              "    </tr>\n",
              "    <tr>\n",
              "      <th>23</th>\n",
              "      <td>23</td>\n",
              "      <td>169055.0</td>\n",
              "      <td>51005.0</td>\n",
              "      <td>12.037979</td>\n",
              "      <td>0.359116</td>\n",
              "    </tr>\n",
              "  </tbody>\n",
              "</table>\n",
              "</div>"
            ],
            "text/plain": [
              "    month  item_cnt_month  ...  item_cnt_month_log  item_cnt_month_log_diff\n",
              "0       0        131850.0  ...           11.789420                      NaN\n",
              "1       1        128382.0  ...           11.762765                -0.026655\n",
              "2       2        147438.0  ...           11.901163                 0.138398\n",
              "3       3        107439.0  ...           11.584679                -0.316485\n",
              "4       4        107148.0  ...           11.581966                -0.002712\n",
              "5       5        125583.0  ...           11.740722                 0.158756\n",
              "6       6        117165.0  ...           11.671338                -0.069384\n",
              "7       7        125586.0  ...           11.740746                 0.069408\n",
              "8       8        133551.0  ...           11.802239                 0.061493\n",
              "9       9        127815.0  ...           11.758339                -0.043900\n",
              "10     10        130270.0  ...           11.777364                 0.019025\n",
              "11     11        183669.0  ...           12.120891                 0.343526\n",
              "12     12        117243.0  ...           11.672004                -0.448887\n",
              "13     13        109975.0  ...           11.608008                -0.063996\n",
              "14     14        115501.0  ...           11.657034                 0.049026\n",
              "15     15         96744.0  ...           11.479824                -0.177211\n",
              "16     16         97938.0  ...           11.492090                 0.012266\n",
              "17     17         97623.0  ...           11.488868                -0.003222\n",
              "18     18         91505.0  ...           11.424149                -0.064720\n",
              "19     19        102910.0  ...           11.541610                 0.117461\n",
              "20     20         99427.0  ...           11.507179                -0.034431\n",
              "21     21        107623.0  ...           11.586390                 0.079211\n",
              "22     22        118050.0  ...           11.678864                 0.092474\n",
              "23     23        169055.0  ...           12.037979                 0.359116\n",
              "\n",
              "[24 rows x 5 columns]"
            ]
          },
          "metadata": {
            "tags": []
          },
          "execution_count": 45
        }
      ]
    },
    {
      "cell_type": "code",
      "metadata": {
        "colab": {
          "base_uri": "https://localhost:8080/"
        },
        "id": "iGDvQfDftaZM",
        "outputId": "899b5a0e-3dfc-41dc-a0e9-5add7b4adf3e"
      },
      "source": [
        "# fit the best model we got.\n",
        "start_index = 0\n",
        "end_index = len(X_train)-1\n",
        "train_prediction = result.predict(start_index, end_index) \n",
        "train_prediction"
      ],
      "execution_count": null,
      "outputs": [
        {
          "output_type": "execute_result",
          "data": {
            "text/plain": [
              "0          0.000000\n",
              "1     131850.000000\n",
              "2     128382.000000\n",
              "3     147438.000000\n",
              "4     107439.000000\n",
              "5     107148.000000\n",
              "6     125583.000000\n",
              "7     117165.000000\n",
              "8     125586.000000\n",
              "9     133551.000000\n",
              "10    127815.000000\n",
              "11    130270.000000\n",
              "12    273162.112370\n",
              "13    114872.726764\n",
              "14    122999.200340\n",
              "15     88162.891823\n",
              "16     96545.110291\n",
              "17    110537.765600\n",
              "18     91869.551298\n",
              "19     97260.499111\n",
              "20    108353.836887\n",
              "21     95506.617278\n",
              "22    109300.918337\n",
              "23    154546.603378\n",
              "Name: predicted_mean, dtype: float64"
            ]
          },
          "metadata": {
            "tags": []
          },
          "execution_count": 44
        }
      ]
    },
    {
      "cell_type": "code",
      "metadata": {
        "colab": {
          "base_uri": "https://localhost:8080/"
        },
        "id": "tK-cI06Ltxx0",
        "outputId": "cb284c55-373a-45d6-de8a-73083e3b54e5"
      },
      "source": [
        "#Prediction the next 10 months\n",
        "start_index = len(X_train)\n",
        "end_index = len(ts_monthly)-1\n",
        "prediction = result.predict(start_index, end_index)\n",
        "prediction"
      ],
      "execution_count": null,
      "outputs": [
        {
          "output_type": "execute_result",
          "data": {
            "text/plain": [
              "24    165276.808026\n",
              "25    159220.046373\n",
              "26    169058.692383\n",
              "27    143530.870022\n",
              "28    144251.530826\n",
              "29    149913.035829\n",
              "30    143061.917882\n",
              "31    153515.777032\n",
              "32    153681.791927\n",
              "33    157437.009650\n",
              "Name: predicted_mean, dtype: float64"
            ]
          },
          "metadata": {
            "tags": []
          },
          "execution_count": 46
        }
      ]
    },
    {
      "cell_type": "code",
      "metadata": {
        "colab": {
          "base_uri": "https://localhost:8080/",
          "height": 282
        },
        "id": "pbS16r3luGCI",
        "outputId": "2de3cddb-8372-49aa-c1df-b86c49b5cf65"
      },
      "source": [
        "train_prediction.plot(label = 'fitted', legend = True) \n",
        "ts_monthly['item_cnt_month'].plot(label = 'Original', legend = True) \n",
        "prediction.plot(label = 'prediction', legend = True) "
      ],
      "execution_count": null,
      "outputs": [
        {
          "output_type": "execute_result",
          "data": {
            "text/plain": [
              "<matplotlib.axes._subplots.AxesSubplot at 0x7f26818f7cc0>"
            ]
          },
          "metadata": {
            "tags": []
          },
          "execution_count": 47
        },
        {
          "output_type": "display_data",
          "data": {
            "image/png": "[encoded data removed]",
            "text/plain": [
              "<Figure size 432x288 with 1 Axes>"
            ]
          },
          "metadata": {
            "tags": [],
            "needs_background": "light"
          }
        }
      ]
    },
    {
      "cell_type": "code",
      "metadata": {
        "colab": {
          "base_uri": "https://localhost:8080/"
        },
        "id": "u__jrcpsLIpE",
        "outputId": "6ec5cc66-d517-4768-8dfa-53513477bef4"
      },
      "source": [
        "import math\n",
        "from sklearn.metrics import mean_squared_error\n",
        "from sklearn.metrics import r2_score\n",
        "from sklearn.metrics import mean_absolute_error\n",
        "0.9486081370449679\n",
        "# calculate root mean squared error\n",
        "trainScore = math.sqrt(mean_squared_error(X_train['item_cnt_month'], train_prediction))\n",
        "train_r2 = r2_score(X_train['item_cnt_month'], train_prediction)\n",
        "train_mae = mean_absolute_error(X_train['item_cnt_month'], train_prediction)\n",
        "print('Train Score_RMSE: ')\n",
        "print(trainScore)\n",
        "print('Train Score_R2: ')\n",
        "print(train_r2)\n",
        "print('Train Score_MAE: ')\n",
        "print(train_mae)\n"
      ],
      "execution_count": null,
      "outputs": [
        {
          "output_type": "stream",
          "text": [
            "Train Score_RMSE: \n",
            "44709.229870286574\n",
            "Train Score_R2: \n",
            "-3.170065839496287\n",
            "Train Score_MAE: \n",
            "22542.148043341283\n"
          ],
          "name": "stdout"
        }
      ]
    },
    {
      "cell_type": "code",
      "metadata": {
        "colab": {
          "base_uri": "https://localhost:8080/"
        },
        "id": "xUNEW9fCDUN_",
        "outputId": "a0f75ab3-8fb1-4677-f227-79f3f0efb2b3"
      },
      "source": [
        "testScore = math.sqrt(mean_squared_error(X_test['item_cnt_month'], prediction))\n",
        "test_r2 = r2_score(X_test['item_cnt_month'], prediction)\n",
        "test_mae = mean_absolute_error(X_test['item_cnt_month'], prediction)\n",
        "\n",
        "print('Test Score_RMSE:')\n",
        "print(testScore)\n",
        "print('Test Score_R2:')\n",
        "print(test_r2)\n",
        "print('Test Score_MAE:')\n",
        "print(test_mae)"
      ],
      "execution_count": null,
      "outputs": [
        {
          "output_type": "stream",
          "text": [
            "Test Score_RMSE:\n",
            "78274.83642065343\n",
            "Test Score_R2:\n",
            "-33.9128083325201\n",
            "Test Score_MAE:\n",
            "77586.0479952159\n"
          ],
          "name": "stdout"
        }
      ]
    },
    {
      "cell_type": "markdown",
      "metadata": {
        "id": "Q2tIA-HLcPwo"
      },
      "source": [
        "# weekly sales for 3 years"
      ]
    },
    {
      "cell_type": "code",
      "metadata": {
        "id": "TBGqDd9UY5qe"
      },
      "source": [
        "df_train1 = df_train[(df_train.date_block_num < 12)]\n",
        "df_train2 = df_train[(df_train.date_block_num < 24)& (df_train.date_block_num >= 12)]\n",
        "df_train3 = df_train[(df_train.date_block_num >= 24)]\n",
        "\n",
        "df_train1['week']= df_train1['date'].dt.isocalendar().week\n",
        "df_train2['week']= df_train2['date'].dt.isocalendar().week\n",
        "df_train3['week']= df_train3['date'].dt.isocalendar().week"
      ],
      "execution_count": null,
      "outputs": []
    },
    {
      "cell_type": "code",
      "metadata": {
        "colab": {
          "base_uri": "https://localhost:8080/"
        },
        "id": "UCj4ONgMVWgB",
        "outputId": "3336fb9c-1cd7-4fce-979a-abbcccf0124d"
      },
      "source": [
        "max(df_train1['week'])"
      ],
      "execution_count": null,
      "outputs": [
        {
          "output_type": "execute_result",
          "data": {
            "text/plain": [
              "52"
            ]
          },
          "metadata": {
            "tags": []
          },
          "execution_count": 51
        }
      ]
    },
    {
      "cell_type": "code",
      "metadata": {
        "colab": {
          "base_uri": "https://localhost:8080/"
        },
        "id": "QGoULRCrV1eo",
        "outputId": "3a02a118-5c8f-4d97-fc61-97bebacaa56c"
      },
      "source": [
        "max(df_train2['week'])"
      ],
      "execution_count": null,
      "outputs": [
        {
          "output_type": "execute_result",
          "data": {
            "text/plain": [
              "52"
            ]
          },
          "metadata": {
            "tags": []
          },
          "execution_count": 52
        }
      ]
    },
    {
      "cell_type": "code",
      "metadata": {
        "colab": {
          "base_uri": "https://localhost:8080/"
        },
        "id": "1VcRp1F0WCH4",
        "outputId": "fd5f805f-056f-46dc-983e-fd7754238ff9"
      },
      "source": [
        "max(df_train3['week'])"
      ],
      "execution_count": null,
      "outputs": [
        {
          "output_type": "execute_result",
          "data": {
            "text/plain": [
              "44"
            ]
          },
          "metadata": {
            "tags": []
          },
          "execution_count": 53
        }
      ]
    },
    {
      "cell_type": "code",
      "metadata": {
        "colab": {
          "base_uri": "https://localhost:8080/",
          "height": 513
        },
        "id": "yJkMp3PRi8RH",
        "outputId": "c77f6519-a860-47e5-ab3d-bde9337b1f29"
      },
      "source": [
        "ts_weekly_1=df_train1.groupby([\"week\"])[\"item_cnt_day\"].sum()\n",
        "ts_weekly_1.astype('float')\n",
        "plt.figure(figsize=(15,8))\n",
        "plt.title('Total Sales')\n",
        "plt.xlabel('Time')\n",
        "plt.ylabel('Sales')\n",
        "plt.plot(ts_weekly_1);"
      ],
      "execution_count": null,
      "outputs": [
        {
          "output_type": "display_data",
          "data": {
            "image/png": "[encoded data removed]",
            "text/plain": [
              "<Figure size 1080x576 with 1 Axes>"
            ]
          },
          "metadata": {
            "tags": [],
            "needs_background": "light"
          }
        }
      ]
    },
    {
      "cell_type": "code",
      "metadata": {
        "colab": {
          "base_uri": "https://localhost:8080/",
          "height": 351
        },
        "id": "CSChFLxAgF5M",
        "outputId": "65833341-76ca-439e-9628-5b0193215768"
      },
      "source": [
        "decompose(ts_weekly_1)"
      ],
      "execution_count": null,
      "outputs": [
        {
          "output_type": "stream",
          "text": [
            "/usr/local/lib/python3.6/dist-packages/ipykernel_launcher.py:6: FutureWarning: the 'freq'' keyword is deprecated, use 'period' instead\n",
            "  \n"
          ],
          "name": "stderr"
        },
        {
          "output_type": "display_data",
          "data": {
            "image/png": "[encoded data removed]",
            "text/plain": [
              "<Figure size 432x288 with 4 Axes>"
            ]
          },
          "metadata": {
            "tags": [],
            "needs_background": "light"
          }
        }
      ]
    },
    {
      "cell_type": "code",
      "metadata": {
        "colab": {
          "base_uri": "https://localhost:8080/",
          "height": 369
        },
        "id": "MWjwIhh7fsy-",
        "outputId": "b91cf225-178d-4264-f84e-8f980e8df8d0"
      },
      "source": [
        "ACF(ts_weekly_1)"
      ],
      "execution_count": null,
      "outputs": [
        {
          "output_type": "stream",
          "text": [
            "/usr/local/lib/python3.6/dist-packages/statsmodels/tsa/stattools.py:660: FutureWarning: The default number of lags is changing from 40 tomin(int(10 * np.log10(nobs)), nobs - 1) after 0.12is released. Set the number of lags to an integer to  silence this warning.\n",
            "  FutureWarning,\n",
            "/usr/local/lib/python3.6/dist-packages/statsmodels/tsa/stattools.py:669: FutureWarning: fft=True will become the default after the release of the 0.12 release of statsmodels. To suppress this warning, explicitly set fft=False.\n",
            "  FutureWarning,\n"
          ],
          "name": "stderr"
        },
        {
          "output_type": "display_data",
          "data": {
            "image/png": "[encoded data removed]",
            "text/plain": [
              "<Figure size 432x288 with 1 Axes>"
            ]
          },
          "metadata": {
            "tags": [],
            "needs_background": "light"
          }
        }
      ]
    },
    {
      "cell_type": "code",
      "metadata": {
        "colab": {
          "base_uri": "https://localhost:8080/",
          "height": 513
        },
        "id": "XSlwLZJ-cD7P",
        "outputId": "e3be1a4f-d111-40dd-96aa-14be85b781f6"
      },
      "source": [
        "ts_weekly_2=df_train2.groupby([\"week\"])[\"item_cnt_day\"].sum()\n",
        "ts_weekly_2.astype('float')\n",
        "plt.figure(figsize=(15,8))\n",
        "plt.title('Total Sales')\n",
        "plt.xlabel('Time')\n",
        "plt.ylabel('Sales')\n",
        "plt.plot(ts_weekly_2);"
      ],
      "execution_count": null,
      "outputs": [
        {
          "output_type": "display_data",
          "data": {
            "image/png": "[encoded data removed]",
            "text/plain": [
              "<Figure size 1080x576 with 1 Axes>"
            ]
          },
          "metadata": {
            "tags": [],
            "needs_background": "light"
          }
        }
      ]
    },
    {
      "cell_type": "code",
      "metadata": {
        "colab": {
          "base_uri": "https://localhost:8080/",
          "height": 351
        },
        "id": "IcN5ED2aiV9e",
        "outputId": "c379d2c0-86c7-4d50-ca7c-843836196f0f"
      },
      "source": [
        "decompose(ts_weekly_2)"
      ],
      "execution_count": null,
      "outputs": [
        {
          "output_type": "stream",
          "text": [
            "/usr/local/lib/python3.6/dist-packages/ipykernel_launcher.py:6: FutureWarning: the 'freq'' keyword is deprecated, use 'period' instead\n",
            "  \n"
          ],
          "name": "stderr"
        },
        {
          "output_type": "display_data",
          "data": {
            "image/png": "[encoded data removed]",
            "text/plain": [
              "<Figure size 432x288 with 4 Axes>"
            ]
          },
          "metadata": {
            "tags": [],
            "needs_background": "light"
          }
        }
      ]
    },
    {
      "cell_type": "code",
      "metadata": {
        "colab": {
          "base_uri": "https://localhost:8080/",
          "height": 369
        },
        "id": "rOwi4bPLidMZ",
        "outputId": "d843ca4d-77ce-4cfb-9991-980c4667ed1c"
      },
      "source": [
        "ACF(ts_weekly_2)"
      ],
      "execution_count": null,
      "outputs": [
        {
          "output_type": "stream",
          "text": [
            "/usr/local/lib/python3.6/dist-packages/statsmodels/tsa/stattools.py:660: FutureWarning: The default number of lags is changing from 40 tomin(int(10 * np.log10(nobs)), nobs - 1) after 0.12is released. Set the number of lags to an integer to  silence this warning.\n",
            "  FutureWarning,\n",
            "/usr/local/lib/python3.6/dist-packages/statsmodels/tsa/stattools.py:669: FutureWarning: fft=True will become the default after the release of the 0.12 release of statsmodels. To suppress this warning, explicitly set fft=False.\n",
            "  FutureWarning,\n"
          ],
          "name": "stderr"
        },
        {
          "output_type": "display_data",
          "data": {
            "image/png": "[encoded data removed]",
            "text/plain": [
              "<Figure size 432x288 with 1 Axes>"
            ]
          },
          "metadata": {
            "tags": [],
            "needs_background": "light"
          }
        }
      ]
    },
    {
      "cell_type": "code",
      "metadata": {
        "colab": {
          "base_uri": "https://localhost:8080/"
        },
        "id": "8035MP3fUZ5x",
        "outputId": "c0d55a11-2d30-4039-a743-d2a5ac3cd22a"
      },
      "source": [
        "len(ts_weekly_1)"
      ],
      "execution_count": null,
      "outputs": [
        {
          "output_type": "execute_result",
          "data": {
            "text/plain": [
              "52"
            ]
          },
          "metadata": {
            "tags": []
          },
          "execution_count": 60
        }
      ]
    },
    {
      "cell_type": "code",
      "metadata": {
        "colab": {
          "base_uri": "https://localhost:8080/",
          "height": 513
        },
        "id": "FpxY3kcBcIcs",
        "outputId": "555e0e13-7a8c-4fff-ccbb-7716e7802ea8"
      },
      "source": [
        "ts_weekly_3=df_train3.groupby([\"week\"])[\"item_cnt_day\"].sum()\n",
        "ts_weekly_3.astype('float')\n",
        "plt.figure(figsize=(15,8))\n",
        "plt.title('Total Sales')\n",
        "plt.xlabel('Time')\n",
        "plt.ylabel('Sales')\n",
        "plt.plot(ts_weekly_3);"
      ],
      "execution_count": null,
      "outputs": [
        {
          "output_type": "display_data",
          "data": {
            "image/png": "[encoded data removed]",
            "text/plain": [
              "<Figure size 1080x576 with 1 Axes>"
            ]
          },
          "metadata": {
            "tags": [],
            "needs_background": "light"
          }
        }
      ]
    },
    {
      "cell_type": "code",
      "metadata": {
        "colab": {
          "base_uri": "https://localhost:8080/",
          "height": 351
        },
        "id": "M11-ECcOitHN",
        "outputId": "20e48f54-a9a5-4924-88fe-7f7bb2b3d720"
      },
      "source": [
        "decompose(ts_weekly_3)"
      ],
      "execution_count": null,
      "outputs": [
        {
          "output_type": "stream",
          "text": [
            "/usr/local/lib/python3.6/dist-packages/ipykernel_launcher.py:6: FutureWarning: the 'freq'' keyword is deprecated, use 'period' instead\n",
            "  \n"
          ],
          "name": "stderr"
        },
        {
          "output_type": "display_data",
          "data": {
            "image/png": "[encoded data removed]",
            "text/plain": [
              "<Figure size 432x288 with 4 Axes>"
            ]
          },
          "metadata": {
            "tags": [],
            "needs_background": "light"
          }
        }
      ]
    },
    {
      "cell_type": "code",
      "metadata": {
        "colab": {
          "base_uri": "https://localhost:8080/",
          "height": 369
        },
        "id": "PkjE5E-Oi8tN",
        "outputId": "73669180-d5e9-4824-9f58-d3524284a298"
      },
      "source": [
        "ACF(ts_weekly_3)"
      ],
      "execution_count": null,
      "outputs": [
        {
          "output_type": "stream",
          "text": [
            "/usr/local/lib/python3.6/dist-packages/statsmodels/tsa/stattools.py:660: FutureWarning: The default number of lags is changing from 40 tomin(int(10 * np.log10(nobs)), nobs - 1) after 0.12is released. Set the number of lags to an integer to  silence this warning.\n",
            "  FutureWarning,\n",
            "/usr/local/lib/python3.6/dist-packages/statsmodels/tsa/stattools.py:669: FutureWarning: fft=True will become the default after the release of the 0.12 release of statsmodels. To suppress this warning, explicitly set fft=False.\n",
            "  FutureWarning,\n"
          ],
          "name": "stderr"
        },
        {
          "output_type": "display_data",
          "data": {
            "image/png": "[encoded data removed]",
            "text/plain": [
              "<Figure size 432x288 with 1 Axes>"
            ]
          },
          "metadata": {
            "tags": [],
            "needs_background": "light"
          }
        }
      ]
    },
    {
      "cell_type": "markdown",
      "metadata": {
        "id": "VFeBLZ-RP4cA"
      },
      "source": [
        "#Aggregation\n",
        "Restructure the df_train by item_id and shop_id pairs in a format suitable to combine it with the test_df"
      ]
    },
    {
      "cell_type": "markdown",
      "metadata": {
        "id": "LwOCdMaZlity"
      },
      "source": [
        "# creat weekly sales"
      ]
    },
    {
      "cell_type": "code",
      "metadata": {
        "colab": {
          "base_uri": "https://localhost:8080/"
        },
        "id": "Z0aOaPV1jOPl",
        "outputId": "957edae2-e0b8-4a40-cb47-a342b00462af"
      },
      "source": [
        "df_train2['week'] = df_train2['week'] + 52\n",
        "df_train3['week'] = df_train3['week'] + 104"
      ],
      "execution_count": null,
      "outputs": [
        {
          "output_type": "stream",
          "text": [
            "/usr/local/lib/python3.6/dist-packages/ipykernel_launcher.py:1: SettingWithCopyWarning: \n",
            "A value is trying to be set on a copy of a slice from a DataFrame.\n",
            "Try using .loc[row_indexer,col_indexer] = value instead\n",
            "\n",
            "See the caveats in the documentation: https://pandas.pydata.org/pandas-docs/stable/user_guide/indexing.html#returning-a-view-versus-a-copy\n",
            "  \"\"\"Entry point for launching an IPython kernel.\n",
            "/usr/local/lib/python3.6/dist-packages/ipykernel_launcher.py:2: SettingWithCopyWarning: \n",
            "A value is trying to be set on a copy of a slice from a DataFrame.\n",
            "Try using .loc[row_indexer,col_indexer] = value instead\n",
            "\n",
            "See the caveats in the documentation: https://pandas.pydata.org/pandas-docs/stable/user_guide/indexing.html#returning-a-view-versus-a-copy\n",
            "  \n"
          ],
          "name": "stderr"
        }
      ]
    },
    {
      "cell_type": "code",
      "metadata": {
        "id": "ZSbEpkJVjxT8"
      },
      "source": [
        "df_train_weekly = pd.concat([df_train1, df_train2, df_train3], axis=0)"
      ],
      "execution_count": null,
      "outputs": []
    },
    {
      "cell_type": "code",
      "metadata": {
        "colab": {
          "base_uri": "https://localhost:8080/",
          "height": 204
        },
        "id": "HB6iOh3ck9O5",
        "outputId": "feeb9baf-ad7d-4275-c12d-de84ab5ac8cb"
      },
      "source": [
        "df_train_weekly.tail()"
      ],
      "execution_count": null,
      "outputs": [
        {
          "output_type": "execute_result",
          "data": {
            "text/html": [
              "<div>\n",
              "<style scoped>\n",
              "    .dataframe tbody tr th:only-of-type {\n",
              "        vertical-align: middle;\n",
              "    }\n",
              "\n",
              "    .dataframe tbody tr th {\n",
              "        vertical-align: top;\n",
              "    }\n",
              "\n",
              "    .dataframe thead th {\n",
              "        text-align: right;\n",
              "    }\n",
              "</style>\n",
              "<table border=\"1\" class=\"dataframe\">\n",
              "  <thead>\n",
              "    <tr style=\"text-align: right;\">\n",
              "      <th></th>\n",
              "      <th>date</th>\n",
              "      <th>date_block_num</th>\n",
              "      <th>shop_id</th>\n",
              "      <th>item_id</th>\n",
              "      <th>item_price</th>\n",
              "      <th>item_cnt_day</th>\n",
              "      <th>week</th>\n",
              "    </tr>\n",
              "  </thead>\n",
              "  <tbody>\n",
              "    <tr>\n",
              "      <th>2935844</th>\n",
              "      <td>2015-10-10</td>\n",
              "      <td>33</td>\n",
              "      <td>25</td>\n",
              "      <td>7409</td>\n",
              "      <td>299.0</td>\n",
              "      <td>1.0</td>\n",
              "      <td>145</td>\n",
              "    </tr>\n",
              "    <tr>\n",
              "      <th>2935845</th>\n",
              "      <td>2015-10-09</td>\n",
              "      <td>33</td>\n",
              "      <td>25</td>\n",
              "      <td>7460</td>\n",
              "      <td>299.0</td>\n",
              "      <td>1.0</td>\n",
              "      <td>145</td>\n",
              "    </tr>\n",
              "    <tr>\n",
              "      <th>2935846</th>\n",
              "      <td>2015-10-14</td>\n",
              "      <td>33</td>\n",
              "      <td>25</td>\n",
              "      <td>7459</td>\n",
              "      <td>349.0</td>\n",
              "      <td>1.0</td>\n",
              "      <td>146</td>\n",
              "    </tr>\n",
              "    <tr>\n",
              "      <th>2935847</th>\n",
              "      <td>2015-10-22</td>\n",
              "      <td>33</td>\n",
              "      <td>25</td>\n",
              "      <td>7440</td>\n",
              "      <td>299.0</td>\n",
              "      <td>1.0</td>\n",
              "      <td>147</td>\n",
              "    </tr>\n",
              "    <tr>\n",
              "      <th>2935848</th>\n",
              "      <td>2015-10-03</td>\n",
              "      <td>33</td>\n",
              "      <td>25</td>\n",
              "      <td>7460</td>\n",
              "      <td>299.0</td>\n",
              "      <td>1.0</td>\n",
              "      <td>144</td>\n",
              "    </tr>\n",
              "  </tbody>\n",
              "</table>\n",
              "</div>"
            ],
            "text/plain": [
              "              date  date_block_num  shop_id  ...  item_price  item_cnt_day  week\n",
              "2935844 2015-10-10              33       25  ...       299.0           1.0   145\n",
              "2935845 2015-10-09              33       25  ...       299.0           1.0   145\n",
              "2935846 2015-10-14              33       25  ...       349.0           1.0   146\n",
              "2935847 2015-10-22              33       25  ...       299.0           1.0   147\n",
              "2935848 2015-10-03              33       25  ...       299.0           1.0   144\n",
              "\n",
              "[5 rows x 7 columns]"
            ]
          },
          "metadata": {
            "tags": []
          },
          "execution_count": 66
        }
      ]
    },
    {
      "cell_type": "code",
      "metadata": {
        "colab": {
          "base_uri": "https://localhost:8080/",
          "height": 241
        },
        "id": "0v40-v4EDn3C",
        "outputId": "f26be244-7454-417d-90bd-b9e18abba7c5"
      },
      "source": [
        "sum_weekly = df_train_weekly.groupby([\"week\"])[\"item_cnt_day\"].sum()\n",
        "plt.figure(figsize=(5,3))\n",
        "plt.title('Total Sales')\n",
        "plt.xlabel('Week')\n",
        "plt.ylabel('Sales')\n",
        "plt.plot(sum_weekly);\n",
        "# 52 + 52 + 44 = 148 weeks"
      ],
      "execution_count": null,
      "outputs": [
        {
          "output_type": "display_data",
          "data": {
            "image/png": "[encoded data removed]",
            "text/plain": [
              "<Figure size 360x216 with 1 Axes>"
            ]
          },
          "metadata": {
            "tags": [],
            "needs_background": "light"
          }
        }
      ]
    },
    {
      "cell_type": "code",
      "metadata": {
        "colab": {
          "base_uri": "https://localhost:8080/"
        },
        "id": "Co_lqu8-UqAH",
        "outputId": "f9169d7c-89f3-48bc-e4dd-6722f4dcacc2"
      },
      "source": [
        "len(sum_weekly)"
      ],
      "execution_count": null,
      "outputs": [
        {
          "output_type": "execute_result",
          "data": {
            "text/plain": [
              "148"
            ]
          },
          "metadata": {
            "tags": []
          },
          "execution_count": 68
        }
      ]
    },
    {
      "cell_type": "code",
      "metadata": {
        "id": "1zVUR_lyiN60"
      },
      "source": [
        "sum_weekly = sum_weekly.reset_index()"
      ],
      "execution_count": null,
      "outputs": []
    },
    {
      "cell_type": "code",
      "metadata": {
        "colab": {
          "base_uri": "https://localhost:8080/"
        },
        "id": "EJhPm65ZbWjS",
        "outputId": "d5d1c999-3a50-42dc-b88f-84e1e2a0dd16"
      },
      "source": [
        "sum_weekly.columns"
      ],
      "execution_count": null,
      "outputs": [
        {
          "output_type": "execute_result",
          "data": {
            "text/plain": [
              "Index(['week', 'item_cnt_day'], dtype='object')"
            ]
          },
          "metadata": {
            "tags": []
          },
          "execution_count": 71
        }
      ]
    },
    {
      "cell_type": "code",
      "metadata": {
        "id": "xQdRv9eAaadv"
      },
      "source": [
        "sum_weekly.columns = ['week','item_cnt_week']"
      ],
      "execution_count": null,
      "outputs": []
    },
    {
      "cell_type": "code",
      "metadata": {
        "colab": {
          "base_uri": "https://localhost:8080/",
          "height": 204
        },
        "id": "-_psbp_YZ61r",
        "outputId": "3ab2c323-6458-474d-d251-aa40933344dc"
      },
      "source": [
        "sum_weekly.head()"
      ],
      "execution_count": null,
      "outputs": [
        {
          "output_type": "execute_result",
          "data": {
            "text/html": [
              "<div>\n",
              "<style scoped>\n",
              "    .dataframe tbody tr th:only-of-type {\n",
              "        vertical-align: middle;\n",
              "    }\n",
              "\n",
              "    .dataframe tbody tr th {\n",
              "        vertical-align: top;\n",
              "    }\n",
              "\n",
              "    .dataframe thead th {\n",
              "        text-align: right;\n",
              "    }\n",
              "</style>\n",
              "<table border=\"1\" class=\"dataframe\">\n",
              "  <thead>\n",
              "    <tr style=\"text-align: right;\">\n",
              "      <th></th>\n",
              "      <th>week</th>\n",
              "      <th>item_cnt_week</th>\n",
              "    </tr>\n",
              "  </thead>\n",
              "  <tbody>\n",
              "    <tr>\n",
              "      <th>0</th>\n",
              "      <td>1</td>\n",
              "      <td>59875.0</td>\n",
              "    </tr>\n",
              "    <tr>\n",
              "      <th>1</th>\n",
              "      <td>2</td>\n",
              "      <td>29919.0</td>\n",
              "    </tr>\n",
              "    <tr>\n",
              "      <th>2</th>\n",
              "      <td>3</td>\n",
              "      <td>26767.0</td>\n",
              "    </tr>\n",
              "    <tr>\n",
              "      <th>3</th>\n",
              "      <td>4</td>\n",
              "      <td>27002.0</td>\n",
              "    </tr>\n",
              "    <tr>\n",
              "      <th>4</th>\n",
              "      <td>5</td>\n",
              "      <td>26727.0</td>\n",
              "    </tr>\n",
              "  </tbody>\n",
              "</table>\n",
              "</div>"
            ],
            "text/plain": [
              "   week  item_cnt_week\n",
              "0     1        59875.0\n",
              "1     2        29919.0\n",
              "2     3        26767.0\n",
              "3     4        27002.0\n",
              "4     5        26727.0"
            ]
          },
          "metadata": {
            "tags": []
          },
          "execution_count": 73
        }
      ]
    },
    {
      "cell_type": "markdown",
      "metadata": {
        "id": "xFaMo3o9xOYh"
      },
      "source": [
        "# weekly sales decomposition"
      ]
    },
    {
      "cell_type": "markdown",
      "metadata": {
        "id": "uzkXFVMmfKaH"
      },
      "source": [
        ""
      ]
    },
    {
      "cell_type": "code",
      "metadata": {
        "colab": {
          "base_uri": "https://localhost:8080/",
          "height": 351
        },
        "id": "JZUHpuOjUMlf",
        "outputId": "b6179793-f89e-4360-b4be-6960953d70b9"
      },
      "source": [
        "decompose(sum_weekly['item_cnt_week'])"
      ],
      "execution_count": null,
      "outputs": [
        {
          "output_type": "stream",
          "text": [
            "/usr/local/lib/python3.6/dist-packages/ipykernel_launcher.py:6: FutureWarning: the 'freq'' keyword is deprecated, use 'period' instead\n",
            "  \n"
          ],
          "name": "stderr"
        },
        {
          "output_type": "display_data",
          "data": {
            "image/png": "[encoded data removed]",
            "text/plain": [
              "<Figure size 432x288 with 4 Axes>"
            ]
          },
          "metadata": {
            "tags": [],
            "needs_background": "light"
          }
        }
      ]
    },
    {
      "cell_type": "code",
      "metadata": {
        "colab": {
          "base_uri": "https://localhost:8080/",
          "height": 369
        },
        "id": "0vs7I6RmUSjb",
        "outputId": "31d90c04-4282-49cb-eef2-3c043f51edc0"
      },
      "source": [
        "ACF(sum_weekly['item_cnt_week'])"
      ],
      "execution_count": null,
      "outputs": [
        {
          "output_type": "stream",
          "text": [
            "/usr/local/lib/python3.6/dist-packages/statsmodels/tsa/stattools.py:660: FutureWarning: The default number of lags is changing from 40 tomin(int(10 * np.log10(nobs)), nobs - 1) after 0.12is released. Set the number of lags to an integer to  silence this warning.\n",
            "  FutureWarning,\n",
            "/usr/local/lib/python3.6/dist-packages/statsmodels/tsa/stattools.py:669: FutureWarning: fft=True will become the default after the release of the 0.12 release of statsmodels. To suppress this warning, explicitly set fft=False.\n",
            "  FutureWarning,\n"
          ],
          "name": "stderr"
        },
        {
          "output_type": "display_data",
          "data": {
            "image/png": "[encoded data removed]",
            "text/plain": [
              "<Figure size 432x288 with 1 Axes>"
            ]
          },
          "metadata": {
            "tags": [],
            "needs_background": "light"
          }
        }
      ]
    },
    {
      "cell_type": "markdown",
      "metadata": {
        "id": "P9r29nGAxdRg"
      },
      "source": [
        "# check stationary for weekly sales"
      ]
    },
    {
      "cell_type": "code",
      "metadata": {
        "colab": {
          "base_uri": "https://localhost:8080/"
        },
        "id": "z0NJvfHYxxy_",
        "outputId": "70bf1d43-c786-4847-c76b-14d497601da0"
      },
      "source": [
        "#Dickey-Fuller test\n",
        "from statsmodels.tsa.stattools import adfuller\n",
        "adf, pvalue, usedlag_, nobs_, critical_values_, icbest_ = adfuller(sum_weekly['item_cnt_week'])\n",
        "print(\"pvalue = \", pvalue, \" if above 0.05, data is not stationary\")\n",
        "#Since data is not stationary, we may need SARIMA and not just ARIMA"
      ],
      "execution_count": null,
      "outputs": [
        {
          "output_type": "stream",
          "text": [
            "pvalue =  0.14866191972814924  if above 0.05, data is not stationary\n"
          ],
          "name": "stdout"
        }
      ]
    },
    {
      "cell_type": "markdown",
      "metadata": {
        "id": "CwRGBelIUYAk"
      },
      "source": [
        "# apply arima model on sum_weekly"
      ]
    },
    {
      "cell_type": "code",
      "metadata": {
        "colab": {
          "base_uri": "https://localhost:8080/"
        },
        "id": "GNFjvworXRBe",
        "outputId": "2c956fae-b062-4174-9335-877925bc80a4"
      },
      "source": [
        "sum_weekly['item_cnt_week'][:104]"
      ],
      "execution_count": null,
      "outputs": [
        {
          "output_type": "execute_result",
          "data": {
            "text/plain": [
              "0      59875.0\n",
              "1      29919.0\n",
              "2      26767.0\n",
              "3      27002.0\n",
              "4      26727.0\n",
              "        ...   \n",
              "99     24292.0\n",
              "100    25147.0\n",
              "101    26449.0\n",
              "102    36654.0\n",
              "103    47529.0\n",
              "Name: item_cnt_week, Length: 104, dtype: float64"
            ]
          },
          "metadata": {
            "tags": []
          },
          "execution_count": 77
        }
      ]
    },
    {
      "cell_type": "code",
      "metadata": {
        "id": "FsOvZH4hebd6"
      },
      "source": [
        "from pmdarima.arima import auto_arima\n",
        "#Autoarima gives us bet model suited for the data\n",
        "# p - number of autoregressive terms (AR)\n",
        "# q - Number of moving avergae terms (MA)\n",
        "# d - number of non-seasonal differences\n",
        "#p, d, q represent non-seasonal components\n",
        "#P, D, Q represent seasonal components\n",
        "# m, The period for seasonal differencing, m refers to the number of periods in each season.\n",
        "arima_model = auto_arima(sum_weekly['item_cnt_week'][:104], start_p = 1, d=1, start_q = 1, \n",
        "                          max_p = 5, max_q = 5, max_d=5, m = 12, \n",
        "                          start_P = 0, D=1, start_Q=0, max_P=5, max_D=5, max_Q=5,\n",
        "                          seasonal = True, \n",
        "                          trace = True, \n",
        "                          error_action ='ignore',   \n",
        "                          suppress_warnings = True,  \n",
        "                          stepwise = True, n_fits=50)           "
      ],
      "execution_count": null,
      "outputs": []
    },
    {
      "cell_type": "code",
      "metadata": {
        "colab": {
          "base_uri": "https://localhost:8080/"
        },
        "id": "i1hBV_ScUWXq",
        "outputId": "26748cb0-82b6-4d3d-9f7e-393f89d0ef11"
      },
      "source": [
        "from pmdarima.arima import auto_arima\n",
        "#Autoarima gives us bet model suited for the data\n",
        "# p - number of autoregressive terms (AR)\n",
        "# q - Number of moving avergae terms (MA)\n",
        "# d - number of non-seasonal differences\n",
        "#p, d, q represent non-seasonal components\n",
        "#P, D, Q represent seasonal components\n",
        "# m, The period for seasonal differencing, m refers to the number of periods in each season.\n",
        "arima_model = auto_arima(sum_weekly['item_cnt_week'][:104], start_p = 1, d=1, start_q = 1, \n",
        "                          max_p = 5, max_q = 5, max_d=5, m = 52, \n",
        "                          start_P = 0, D=1, start_Q=0, max_P=5, max_D=5, max_Q=5,\n",
        "                          seasonal = True, \n",
        "                          trace = True, \n",
        "                          error_action ='ignore',   \n",
        "                          suppress_warnings = True,  \n",
        "                          stepwise = True, n_fits=50)           "
      ],
      "execution_count": null,
      "outputs": [
        {
          "output_type": "stream",
          "text": [
            "Performing stepwise search to minimize aic\n",
            " ARIMA(1,1,1)(0,1,0)[52]             : AIC=1017.225, Time=0.83 sec\n",
            " ARIMA(0,1,0)(0,1,0)[52]             : AIC=1012.675, Time=0.43 sec\n",
            " ARIMA(1,1,0)(1,1,0)[52]             : AIC=1010.674, Time=1.86 sec\n",
            " ARIMA(0,1,1)(0,1,1)[52]             : AIC=1011.410, Time=2.40 sec\n",
            " ARIMA(1,1,0)(0,1,0)[52]             : AIC=1013.901, Time=0.32 sec\n",
            " ARIMA(1,1,0)(2,1,0)[52]             : AIC=1012.676, Time=11.06 sec\n",
            " ARIMA(1,1,0)(1,1,1)[52]             : AIC=inf, Time=6.13 sec\n",
            " ARIMA(1,1,0)(0,1,1)[52]             : AIC=1010.609, Time=2.17 sec\n",
            " ARIMA(1,1,0)(0,1,2)[52]             : AIC=inf, Time=12.31 sec\n",
            " ARIMA(1,1,0)(1,1,2)[52]             : AIC=inf, Time=42.12 sec\n",
            " ARIMA(0,1,0)(0,1,1)[52]             : AIC=1008.951, Time=2.89 sec\n",
            " ARIMA(0,1,0)(1,1,1)[52]             : AIC=1010.925, Time=3.14 sec\n",
            " ARIMA(0,1,0)(0,1,2)[52]             : AIC=1010.846, Time=9.97 sec\n",
            " ARIMA(0,1,0)(1,1,0)[52]             : AIC=1009.025, Time=1.29 sec\n",
            " ARIMA(0,1,0)(1,1,2)[52]             : AIC=1012.845, Time=7.71 sec\n",
            " ARIMA(1,1,1)(0,1,1)[52]             : AIC=1013.234, Time=4.55 sec\n",
            " ARIMA(0,1,0)(0,1,1)[52] intercept   : AIC=1010.915, Time=3.14 sec\n",
            "\n",
            "Best model:  ARIMA(0,1,0)(0,1,1)[52]          \n",
            "Total fit time: 112.468 seconds\n"
          ],
          "name": "stdout"
        }
      ]
    },
    {
      "cell_type": "code",
      "metadata": {
        "colab": {
          "base_uri": "https://localhost:8080/",
          "height": 473
        },
        "id": "deXYiW6kVO9H",
        "outputId": "f410351c-ec0e-48bd-c693-ea5b5f06e4b7"
      },
      "source": [
        "size = 104\n",
        "X_train, X_test = sum_weekly[0:size], sum_weekly[size:len(sum_weekly)] \n",
        "from statsmodels.tsa.statespace.sarimax import SARIMAX \n",
        "  \n",
        "model = SARIMAX(X_train['item_cnt_week'],  \n",
        "                order = (0, 1, 0),  \n",
        "                seasonal_order =(0, 1, 1, 52)) \n",
        "  \n",
        "result = model.fit() \n",
        "result.summary() "
      ],
      "execution_count": null,
      "outputs": [
        {
          "output_type": "stream",
          "text": [
            "/usr/local/lib/python3.6/dist-packages/statsmodels/tsa/statespace/sarimax.py:868: UserWarning: Too few observations to estimate starting parameters for seasonal ARMA. All parameters except for variances will be set to zeros.\n",
            "  ' zeros.' % warning_description)\n"
          ],
          "name": "stderr"
        },
        {
          "output_type": "execute_result",
          "data": {
            "text/html": [
              "<table class=\"simpletable\">\n",
              "<caption>SARIMAX Results</caption>\n",
              "<tr>\n",
              "  <th>Dep. Variable:</th>             <td>item_cnt_week</td>          <th>  No. Observations:  </th>    <td>104</td>  \n",
              "</tr>\n",
              "<tr>\n",
              "  <th>Model:</th>           <td>SARIMAX(0, 1, 0)x(0, 1, [1], 52)</td> <th>  Log Likelihood     </th> <td>-502.476</td>\n",
              "</tr>\n",
              "<tr>\n",
              "  <th>Date:</th>                    <td>Tue, 08 Dec 2020</td>         <th>  AIC                </th> <td>1008.951</td>\n",
              "</tr>\n",
              "<tr>\n",
              "  <th>Time:</th>                        <td>22:32:45</td>             <th>  BIC                </th> <td>1012.815</td>\n",
              "</tr>\n",
              "<tr>\n",
              "  <th>Sample:</th>                          <td>0</td>                <th>  HQIC               </th> <td>1010.428</td>\n",
              "</tr>\n",
              "<tr>\n",
              "  <th></th>                              <td> - 104</td>              <th>                     </th>     <td> </td>   \n",
              "</tr>\n",
              "<tr>\n",
              "  <th>Covariance Type:</th>                <td>opg</td>               <th>                     </th>     <td> </td>   \n",
              "</tr>\n",
              "</table>\n",
              "<table class=\"simpletable\">\n",
              "<tr>\n",
              "      <td></td>        <th>coef</th>     <th>std err</th>      <th>z</th>      <th>P>|z|</th>  <th>[0.025</th>    <th>0.975]</th>  \n",
              "</tr>\n",
              "<tr>\n",
              "  <th>ma.S.L52</th> <td>   -0.2747</td> <td>    0.087</td> <td>   -3.147</td> <td> 0.002</td> <td>   -0.446</td> <td>   -0.104</td>\n",
              "</tr>\n",
              "<tr>\n",
              "  <th>sigma2</th>   <td> 2.311e+07</td> <td> 2.15e-10</td> <td> 1.07e+17</td> <td> 0.000</td> <td> 2.31e+07</td> <td> 2.31e+07</td>\n",
              "</tr>\n",
              "</table>\n",
              "<table class=\"simpletable\">\n",
              "<tr>\n",
              "  <th>Ljung-Box (L1) (Q):</th>     <td>5.07</td> <th>  Jarque-Bera (JB):  </th> <td>2.32</td> \n",
              "</tr>\n",
              "<tr>\n",
              "  <th>Prob(Q):</th>                <td>0.02</td> <th>  Prob(JB):          </th> <td>0.31</td> \n",
              "</tr>\n",
              "<tr>\n",
              "  <th>Heteroskedasticity (H):</th> <td>2.12</td> <th>  Skew:              </th> <td>-0.20</td>\n",
              "</tr>\n",
              "<tr>\n",
              "  <th>Prob(H) (two-sided):</th>    <td>0.13</td> <th>  Kurtosis:          </th> <td>3.97</td> \n",
              "</tr>\n",
              "</table><br/><br/>Warnings:<br/>[1] Covariance matrix calculated using the outer product of gradients (complex-step).<br/>[2] Covariance matrix is singular or near-singular, with condition number 6.33e+32. Standard errors may be unstable."
            ],
            "text/plain": [
              "<class 'statsmodels.iolib.summary.Summary'>\n",
              "\"\"\"\n",
              "                                      SARIMAX Results                                       \n",
              "============================================================================================\n",
              "Dep. Variable:                        item_cnt_week   No. Observations:                  104\n",
              "Model:             SARIMAX(0, 1, 0)x(0, 1, [1], 52)   Log Likelihood                -502.476\n",
              "Date:                              Tue, 08 Dec 2020   AIC                           1008.951\n",
              "Time:                                      22:32:45   BIC                           1012.815\n",
              "Sample:                                           0   HQIC                          1010.428\n",
              "                                              - 104                                         \n",
              "Covariance Type:                                opg                                         \n",
              "==============================================================================\n",
              "                 coef    std err          z      P>|z|      [0.025      0.975]\n",
              "------------------------------------------------------------------------------\n",
              "ma.S.L52      -0.2747      0.087     -3.147      0.002      -0.446      -0.104\n",
              "sigma2      2.311e+07   2.15e-10   1.07e+17      0.000    2.31e+07    2.31e+07\n",
              "===================================================================================\n",
              "Ljung-Box (L1) (Q):                   5.07   Jarque-Bera (JB):                 2.32\n",
              "Prob(Q):                              0.02   Prob(JB):                         0.31\n",
              "Heteroskedasticity (H):               2.12   Skew:                            -0.20\n",
              "Prob(H) (two-sided):                  0.13   Kurtosis:                         3.97\n",
              "===================================================================================\n",
              "\n",
              "Warnings:\n",
              "[1] Covariance matrix calculated using the outer product of gradients (complex-step).\n",
              "[2] Covariance matrix is singular or near-singular, with condition number 6.33e+32. Standard errors may be unstable.\n",
              "\"\"\""
            ]
          },
          "metadata": {
            "tags": []
          },
          "execution_count": 79
        }
      ]
    },
    {
      "cell_type": "code",
      "metadata": {
        "colab": {
          "base_uri": "https://localhost:8080/"
        },
        "id": "9Bl5BjbqVxR9",
        "outputId": "9afe827e-0f48-447a-c2b6-cbb7844bbcbe"
      },
      "source": [
        "#Train prediction\n",
        "start_index = 0\n",
        "end_index = len(X_train)-1\n",
        "train_prediction = result.predict(start_index, end_index) \n",
        "train_prediction"
      ],
      "execution_count": null,
      "outputs": [
        {
          "output_type": "execute_result",
          "data": {
            "text/plain": [
              "0          0.000000\n",
              "1      59875.000000\n",
              "2      29919.000000\n",
              "3      26767.000000\n",
              "4      27002.000000\n",
              "           ...     \n",
              "99     31726.977904\n",
              "100    23813.685573\n",
              "101    26668.703783\n",
              "102    31951.124785\n",
              "103    51531.540212\n",
              "Name: predicted_mean, Length: 104, dtype: float64"
            ]
          },
          "metadata": {
            "tags": []
          },
          "execution_count": 80
        }
      ]
    },
    {
      "cell_type": "code",
      "metadata": {
        "colab": {
          "base_uri": "https://localhost:8080/"
        },
        "id": "dPMljNzFV9Y1",
        "outputId": "b1fca89e-6e00-4609-8bcd-6c8d68f54407"
      },
      "source": [
        "#Test Prediction\n",
        "start_index = len(X_train)\n",
        "end_index = len(X_train)+43\n",
        "prediction = result.predict(start_index, end_index)\n",
        "prediction"
      ],
      "execution_count": null,
      "outputs": [
        {
          "output_type": "execute_result",
          "data": {
            "text/plain": [
              "104    62507.801208\n",
              "105    32433.838102\n",
              "106    26151.539065\n",
              "107    26880.036949\n",
              "108    28058.728230\n",
              "109    29115.491402\n",
              "110    30869.563185\n",
              "111    37270.509985\n",
              "112    28353.171974\n",
              "113    32560.396446\n",
              "114    29278.749037\n",
              "115    30917.317322\n",
              "116    28576.533279\n",
              "117    26045.309549\n",
              "118    26143.596570\n",
              "119    27733.685754\n",
              "120    26277.968099\n",
              "121    25847.745009\n",
              "122    23014.413272\n",
              "123    22571.297671\n",
              "124    24413.755825\n",
              "125    33931.416154\n",
              "126    26407.013166\n",
              "127    29146.219389\n",
              "128    26473.333530\n",
              "129    26732.138236\n",
              "130    25419.601493\n",
              "131    25804.930860\n",
              "132    25048.323186\n",
              "133    25021.833876\n",
              "134    25992.302303\n",
              "135    25186.702581\n",
              "136    27452.170676\n",
              "137    28389.270584\n",
              "138    29431.588524\n",
              "139    27595.741095\n",
              "140    27932.698986\n",
              "141    27609.387843\n",
              "142    30070.915292\n",
              "143    37712.589044\n",
              "144    28274.795479\n",
              "145    26170.426534\n",
              "146    24427.406618\n",
              "147    27023.979008\n",
              "Name: predicted_mean, dtype: float64"
            ]
          },
          "metadata": {
            "tags": []
          },
          "execution_count": 81
        }
      ]
    },
    {
      "cell_type": "code",
      "metadata": {
        "id": "_RD4QCahmeBX"
      },
      "source": [
        "\n",
        "#X_test['item_cnt_week'].plot(label = 'test', legend = True) "
      ],
      "execution_count": null,
      "outputs": []
    },
    {
      "cell_type": "code",
      "metadata": {
        "colab": {
          "base_uri": "https://localhost:8080/",
          "height": 282
        },
        "id": "8RjxEEj-m7f7",
        "outputId": "7deefa08-5db9-467f-c346-e3c40321af0b"
      },
      "source": [
        "train_prediction.plot(label = 'fitted', legend = True) \n",
        "sum_weekly['item_cnt_week'].plot(label = 'Original', legend = True) \n",
        "prediction.plot(label = 'prediction', legend = True) "
      ],
      "execution_count": null,
      "outputs": [
        {
          "output_type": "execute_result",
          "data": {
            "text/plain": [
              "<matplotlib.axes._subplots.AxesSubplot at 0x7f2680d22470>"
            ]
          },
          "metadata": {
            "tags": []
          },
          "execution_count": 82
        },
        {
          "output_type": "display_data",
          "data": {
            "image/png": "[encoded data removed]",
            "text/plain": [
              "<Figure size 432x288 with 1 Axes>"
            ]
          },
          "metadata": {
            "tags": [],
            "needs_background": "light"
          }
        }
      ]
    },
    {
      "cell_type": "code",
      "metadata": {
        "colab": {
          "base_uri": "https://localhost:8080/"
        },
        "id": "fG-zEW_Hm6iv",
        "outputId": "dac3e6a7-a864-4267-e38b-f62735f65ad5"
      },
      "source": [
        "import math\n",
        "from sklearn.metrics import mean_squared_error\n",
        "from sklearn.metrics import r2_score\n",
        "from sklearn.metrics import mean_absolute_error\n",
        "0.9486081370449679\n",
        "# calculate root mean squared error\n",
        "trainScore = math.sqrt(mean_squared_error(X_train['item_cnt_week'], train_prediction))\n",
        "train_r2 = r2_score(X_train['item_cnt_week'], train_prediction)\n",
        "train_mae = mean_absolute_error(X_train['item_cnt_week'], train_prediction)\n",
        "print('Train Score_RMSE: ')\n",
        "print(trainScore)\n",
        "print('Train Score_R2: ')\n",
        "print(train_r2)\n",
        "print('Train Score_MAE: ')\n",
        "print(train_mae)\n"
      ],
      "execution_count": null,
      "outputs": [
        {
          "output_type": "stream",
          "text": [
            "Train Score_RMSE: \n",
            "8932.998829439868\n",
            "Train Score_R2: \n",
            "-0.44655369057983574\n",
            "Train Score_MAE: \n",
            "4424.786090028675\n"
          ],
          "name": "stdout"
        }
      ]
    },
    {
      "cell_type": "code",
      "metadata": {
        "colab": {
          "base_uri": "https://localhost:8080/"
        },
        "id": "2htwZ2P8GlZV",
        "outputId": "fd25759e-54e2-46fb-9a78-bc440a8c97d8"
      },
      "source": [
        "testScore = math.sqrt(mean_squared_error(X_test['item_cnt_week'], prediction))\n",
        "test_r2 = r2_score(X_test['item_cnt_week'], prediction)\n",
        "test_mae = mean_absolute_error(X_test['item_cnt_week'], prediction)\n",
        "\n",
        "print('Test Score_RMSE:')\n",
        "print(testScore)\n",
        "print('Test Score_R2:')\n",
        "print(test_r2)\n",
        "print('Test Score_MAE:')\n",
        "print(test_mae)"
      ],
      "execution_count": null,
      "outputs": [
        {
          "output_type": "stream",
          "text": [
            "Test Score_RMSE:\n",
            "12656.100560101184\n",
            "Test Score_R2:\n",
            "-7.503980215113291\n",
            "Test Score_MAE:\n",
            "11361.857289638867\n"
          ],
          "name": "stdout"
        }
      ]
    },
    {
      "cell_type": "markdown",
      "metadata": {
        "id": "l34b3LOMy-bK"
      },
      "source": [
        "# pivot table for monthly sales"
      ]
    },
    {
      "cell_type": "code",
      "metadata": {
        "colab": {
          "base_uri": "https://localhost:8080/",
          "height": 255
        },
        "id": "0gY9CLNVXEoq",
        "outputId": "d7d7a4e7-3065-4e08-d893-e54b661fef55"
      },
      "source": [
        "#create a pivot table from train_sales by monthly sales\n",
        "train_data_monthly = df_train.pivot_table(index = ['shop_id','item_id'],values = ['item_cnt_day'],columns = ['date_block_num'],fill_value = 0,aggfunc='sum')\n",
        "# reset indices for easy manipulation\n",
        "train_data_monthly.reset_index(inplace = True)\n",
        "train_data_monthly.rename(columns = {'item_cnt_day': 'item_cnt_month'}, inplace= True)\n",
        "train_data_monthly.head()"
      ],
      "execution_count": null,
      "outputs": [
        {
          "output_type": "execute_result",
          "data": {
            "text/html": [
              "<div>\n",
              "<style scoped>\n",
              "    .dataframe tbody tr th:only-of-type {\n",
              "        vertical-align: middle;\n",
              "    }\n",
              "\n",
              "    .dataframe tbody tr th {\n",
              "        vertical-align: top;\n",
              "    }\n",
              "\n",
              "    .dataframe thead tr th {\n",
              "        text-align: left;\n",
              "    }\n",
              "</style>\n",
              "<table border=\"1\" class=\"dataframe\">\n",
              "  <thead>\n",
              "    <tr>\n",
              "      <th></th>\n",
              "      <th>shop_id</th>\n",
              "      <th>item_id</th>\n",
              "      <th colspan=\"34\" halign=\"left\">item_cnt_month</th>\n",
              "    </tr>\n",
              "    <tr>\n",
              "      <th>date_block_num</th>\n",
              "      <th></th>\n",
              "      <th></th>\n",
              "      <th>0</th>\n",
              "      <th>1</th>\n",
              "      <th>2</th>\n",
              "      <th>3</th>\n",
              "      <th>4</th>\n",
              "      <th>5</th>\n",
              "      <th>6</th>\n",
              "      <th>7</th>\n",
              "      <th>8</th>\n",
              "      <th>9</th>\n",
              "      <th>10</th>\n",
              "      <th>11</th>\n",
              "      <th>12</th>\n",
              "      <th>13</th>\n",
              "      <th>14</th>\n",
              "      <th>15</th>\n",
              "      <th>16</th>\n",
              "      <th>17</th>\n",
              "      <th>18</th>\n",
              "      <th>19</th>\n",
              "      <th>20</th>\n",
              "      <th>21</th>\n",
              "      <th>22</th>\n",
              "      <th>23</th>\n",
              "      <th>24</th>\n",
              "      <th>25</th>\n",
              "      <th>26</th>\n",
              "      <th>27</th>\n",
              "      <th>28</th>\n",
              "      <th>29</th>\n",
              "      <th>30</th>\n",
              "      <th>31</th>\n",
              "      <th>32</th>\n",
              "      <th>33</th>\n",
              "    </tr>\n",
              "  </thead>\n",
              "  <tbody>\n",
              "    <tr>\n",
              "      <th>0</th>\n",
              "      <td>0</td>\n",
              "      <td>30</td>\n",
              "      <td>0</td>\n",
              "      <td>31</td>\n",
              "      <td>0</td>\n",
              "      <td>0</td>\n",
              "      <td>0</td>\n",
              "      <td>0</td>\n",
              "      <td>0</td>\n",
              "      <td>0</td>\n",
              "      <td>0</td>\n",
              "      <td>0</td>\n",
              "      <td>0</td>\n",
              "      <td>0</td>\n",
              "      <td>0</td>\n",
              "      <td>0</td>\n",
              "      <td>0</td>\n",
              "      <td>0</td>\n",
              "      <td>0</td>\n",
              "      <td>0</td>\n",
              "      <td>0</td>\n",
              "      <td>0</td>\n",
              "      <td>0</td>\n",
              "      <td>0</td>\n",
              "      <td>0</td>\n",
              "      <td>0</td>\n",
              "      <td>0</td>\n",
              "      <td>0</td>\n",
              "      <td>0</td>\n",
              "      <td>0</td>\n",
              "      <td>0</td>\n",
              "      <td>0</td>\n",
              "      <td>0</td>\n",
              "      <td>0</td>\n",
              "      <td>0</td>\n",
              "      <td>0</td>\n",
              "    </tr>\n",
              "    <tr>\n",
              "      <th>1</th>\n",
              "      <td>0</td>\n",
              "      <td>31</td>\n",
              "      <td>0</td>\n",
              "      <td>11</td>\n",
              "      <td>0</td>\n",
              "      <td>0</td>\n",
              "      <td>0</td>\n",
              "      <td>0</td>\n",
              "      <td>0</td>\n",
              "      <td>0</td>\n",
              "      <td>0</td>\n",
              "      <td>0</td>\n",
              "      <td>0</td>\n",
              "      <td>0</td>\n",
              "      <td>0</td>\n",
              "      <td>0</td>\n",
              "      <td>0</td>\n",
              "      <td>0</td>\n",
              "      <td>0</td>\n",
              "      <td>0</td>\n",
              "      <td>0</td>\n",
              "      <td>0</td>\n",
              "      <td>0</td>\n",
              "      <td>0</td>\n",
              "      <td>0</td>\n",
              "      <td>0</td>\n",
              "      <td>0</td>\n",
              "      <td>0</td>\n",
              "      <td>0</td>\n",
              "      <td>0</td>\n",
              "      <td>0</td>\n",
              "      <td>0</td>\n",
              "      <td>0</td>\n",
              "      <td>0</td>\n",
              "      <td>0</td>\n",
              "      <td>0</td>\n",
              "    </tr>\n",
              "    <tr>\n",
              "      <th>2</th>\n",
              "      <td>0</td>\n",
              "      <td>32</td>\n",
              "      <td>6</td>\n",
              "      <td>10</td>\n",
              "      <td>0</td>\n",
              "      <td>0</td>\n",
              "      <td>0</td>\n",
              "      <td>0</td>\n",
              "      <td>0</td>\n",
              "      <td>0</td>\n",
              "      <td>0</td>\n",
              "      <td>0</td>\n",
              "      <td>0</td>\n",
              "      <td>0</td>\n",
              "      <td>0</td>\n",
              "      <td>0</td>\n",
              "      <td>0</td>\n",
              "      <td>0</td>\n",
              "      <td>0</td>\n",
              "      <td>0</td>\n",
              "      <td>0</td>\n",
              "      <td>0</td>\n",
              "      <td>0</td>\n",
              "      <td>0</td>\n",
              "      <td>0</td>\n",
              "      <td>0</td>\n",
              "      <td>0</td>\n",
              "      <td>0</td>\n",
              "      <td>0</td>\n",
              "      <td>0</td>\n",
              "      <td>0</td>\n",
              "      <td>0</td>\n",
              "      <td>0</td>\n",
              "      <td>0</td>\n",
              "      <td>0</td>\n",
              "      <td>0</td>\n",
              "    </tr>\n",
              "    <tr>\n",
              "      <th>3</th>\n",
              "      <td>0</td>\n",
              "      <td>33</td>\n",
              "      <td>3</td>\n",
              "      <td>3</td>\n",
              "      <td>0</td>\n",
              "      <td>0</td>\n",
              "      <td>0</td>\n",
              "      <td>0</td>\n",
              "      <td>0</td>\n",
              "      <td>0</td>\n",
              "      <td>0</td>\n",
              "      <td>0</td>\n",
              "      <td>0</td>\n",
              "      <td>0</td>\n",
              "      <td>0</td>\n",
              "      <td>0</td>\n",
              "      <td>0</td>\n",
              "      <td>0</td>\n",
              "      <td>0</td>\n",
              "      <td>0</td>\n",
              "      <td>0</td>\n",
              "      <td>0</td>\n",
              "      <td>0</td>\n",
              "      <td>0</td>\n",
              "      <td>0</td>\n",
              "      <td>0</td>\n",
              "      <td>0</td>\n",
              "      <td>0</td>\n",
              "      <td>0</td>\n",
              "      <td>0</td>\n",
              "      <td>0</td>\n",
              "      <td>0</td>\n",
              "      <td>0</td>\n",
              "      <td>0</td>\n",
              "      <td>0</td>\n",
              "      <td>0</td>\n",
              "    </tr>\n",
              "    <tr>\n",
              "      <th>4</th>\n",
              "      <td>0</td>\n",
              "      <td>35</td>\n",
              "      <td>1</td>\n",
              "      <td>14</td>\n",
              "      <td>0</td>\n",
              "      <td>0</td>\n",
              "      <td>0</td>\n",
              "      <td>0</td>\n",
              "      <td>0</td>\n",
              "      <td>0</td>\n",
              "      <td>0</td>\n",
              "      <td>0</td>\n",
              "      <td>0</td>\n",
              "      <td>0</td>\n",
              "      <td>0</td>\n",
              "      <td>0</td>\n",
              "      <td>0</td>\n",
              "      <td>0</td>\n",
              "      <td>0</td>\n",
              "      <td>0</td>\n",
              "      <td>0</td>\n",
              "      <td>0</td>\n",
              "      <td>0</td>\n",
              "      <td>0</td>\n",
              "      <td>0</td>\n",
              "      <td>0</td>\n",
              "      <td>0</td>\n",
              "      <td>0</td>\n",
              "      <td>0</td>\n",
              "      <td>0</td>\n",
              "      <td>0</td>\n",
              "      <td>0</td>\n",
              "      <td>0</td>\n",
              "      <td>0</td>\n",
              "      <td>0</td>\n",
              "      <td>0</td>\n",
              "    </tr>\n",
              "  </tbody>\n",
              "</table>\n",
              "</div>"
            ],
            "text/plain": [
              "               shop_id item_id item_cnt_month               ...                     \n",
              "date_block_num                              0   1  2  3  4  ... 27 28 29 30 31 32 33\n",
              "0                    0      30              0  31  0  0  0  ...  0  0  0  0  0  0  0\n",
              "1                    0      31              0  11  0  0  0  ...  0  0  0  0  0  0  0\n",
              "2                    0      32              6  10  0  0  0  ...  0  0  0  0  0  0  0\n",
              "3                    0      33              3   3  0  0  0  ...  0  0  0  0  0  0  0\n",
              "4                    0      35              1  14  0  0  0  ...  0  0  0  0  0  0  0\n",
              "\n",
              "[5 rows x 36 columns]"
            ]
          },
          "metadata": {
            "tags": []
          },
          "execution_count": 86
        }
      ]
    },
    {
      "cell_type": "markdown",
      "metadata": {
        "id": "Z0GLo3l9EpCz"
      },
      "source": [
        "# pivot table of weekly sales"
      ]
    },
    {
      "cell_type": "code",
      "metadata": {
        "colab": {
          "base_uri": "https://localhost:8080/",
          "height": 284
        },
        "id": "v4mvdeQvl2Yg",
        "outputId": "b2fcc8e7-3626-4700-90d0-a849aca10fb3"
      },
      "source": [
        "#create a pivot table from train_sales by monthly sales\n",
        "train_data_weekly = df_train_weekly.pivot_table(index = ['shop_id','item_id'],values = ['item_cnt_day'],columns = ['week'],fill_value = 0,aggfunc='sum')\n",
        "# reset indices for easy manipulation\n",
        "train_data_weekly.reset_index(inplace = True)\n",
        "train_data_weekly.rename(columns = {'item_cnt_day': 'item_cnt_weekly'}, inplace= True)\n",
        "train_data_weekly.head()"
      ],
      "execution_count": null,
      "outputs": [
        {
          "output_type": "execute_result",
          "data": {
            "text/html": [
              "<div>\n",
              "<style scoped>\n",
              "    .dataframe tbody tr th:only-of-type {\n",
              "        vertical-align: middle;\n",
              "    }\n",
              "\n",
              "    .dataframe tbody tr th {\n",
              "        vertical-align: top;\n",
              "    }\n",
              "\n",
              "    .dataframe thead tr th {\n",
              "        text-align: left;\n",
              "    }\n",
              "</style>\n",
              "<table border=\"1\" class=\"dataframe\">\n",
              "  <thead>\n",
              "    <tr>\n",
              "      <th></th>\n",
              "      <th>shop_id</th>\n",
              "      <th>item_id</th>\n",
              "      <th colspan=\"79\" halign=\"left\">item_cnt_weekly</th>\n",
              "    </tr>\n",
              "    <tr>\n",
              "      <th>week</th>\n",
              "      <th></th>\n",
              "      <th></th>\n",
              "      <th>1</th>\n",
              "      <th>2</th>\n",
              "      <th>3</th>\n",
              "      <th>4</th>\n",
              "      <th>5</th>\n",
              "      <th>6</th>\n",
              "      <th>7</th>\n",
              "      <th>8</th>\n",
              "      <th>9</th>\n",
              "      <th>10</th>\n",
              "      <th>11</th>\n",
              "      <th>12</th>\n",
              "      <th>13</th>\n",
              "      <th>14</th>\n",
              "      <th>15</th>\n",
              "      <th>16</th>\n",
              "      <th>17</th>\n",
              "      <th>18</th>\n",
              "      <th>19</th>\n",
              "      <th>20</th>\n",
              "      <th>21</th>\n",
              "      <th>22</th>\n",
              "      <th>23</th>\n",
              "      <th>24</th>\n",
              "      <th>25</th>\n",
              "      <th>26</th>\n",
              "      <th>27</th>\n",
              "      <th>28</th>\n",
              "      <th>29</th>\n",
              "      <th>30</th>\n",
              "      <th>31</th>\n",
              "      <th>32</th>\n",
              "      <th>33</th>\n",
              "      <th>34</th>\n",
              "      <th>35</th>\n",
              "      <th>36</th>\n",
              "      <th>37</th>\n",
              "      <th>38</th>\n",
              "      <th>...</th>\n",
              "      <th>109</th>\n",
              "      <th>110</th>\n",
              "      <th>111</th>\n",
              "      <th>112</th>\n",
              "      <th>113</th>\n",
              "      <th>114</th>\n",
              "      <th>115</th>\n",
              "      <th>116</th>\n",
              "      <th>117</th>\n",
              "      <th>118</th>\n",
              "      <th>119</th>\n",
              "      <th>120</th>\n",
              "      <th>121</th>\n",
              "      <th>122</th>\n",
              "      <th>123</th>\n",
              "      <th>124</th>\n",
              "      <th>125</th>\n",
              "      <th>126</th>\n",
              "      <th>127</th>\n",
              "      <th>128</th>\n",
              "      <th>129</th>\n",
              "      <th>130</th>\n",
              "      <th>131</th>\n",
              "      <th>132</th>\n",
              "      <th>133</th>\n",
              "      <th>134</th>\n",
              "      <th>135</th>\n",
              "      <th>136</th>\n",
              "      <th>137</th>\n",
              "      <th>138</th>\n",
              "      <th>139</th>\n",
              "      <th>140</th>\n",
              "      <th>141</th>\n",
              "      <th>142</th>\n",
              "      <th>143</th>\n",
              "      <th>144</th>\n",
              "      <th>145</th>\n",
              "      <th>146</th>\n",
              "      <th>147</th>\n",
              "      <th>148</th>\n",
              "    </tr>\n",
              "  </thead>\n",
              "  <tbody>\n",
              "    <tr>\n",
              "      <th>0</th>\n",
              "      <td>0</td>\n",
              "      <td>30</td>\n",
              "      <td>0</td>\n",
              "      <td>0</td>\n",
              "      <td>0</td>\n",
              "      <td>0</td>\n",
              "      <td>0</td>\n",
              "      <td>0</td>\n",
              "      <td>15</td>\n",
              "      <td>13</td>\n",
              "      <td>3</td>\n",
              "      <td>0</td>\n",
              "      <td>0</td>\n",
              "      <td>0</td>\n",
              "      <td>0</td>\n",
              "      <td>0</td>\n",
              "      <td>0</td>\n",
              "      <td>0</td>\n",
              "      <td>0</td>\n",
              "      <td>0</td>\n",
              "      <td>0</td>\n",
              "      <td>0</td>\n",
              "      <td>0</td>\n",
              "      <td>0</td>\n",
              "      <td>0</td>\n",
              "      <td>0</td>\n",
              "      <td>0</td>\n",
              "      <td>0</td>\n",
              "      <td>0</td>\n",
              "      <td>0</td>\n",
              "      <td>0</td>\n",
              "      <td>0</td>\n",
              "      <td>0</td>\n",
              "      <td>0</td>\n",
              "      <td>0</td>\n",
              "      <td>0</td>\n",
              "      <td>0</td>\n",
              "      <td>0</td>\n",
              "      <td>0</td>\n",
              "      <td>0</td>\n",
              "      <td>...</td>\n",
              "      <td>0</td>\n",
              "      <td>0</td>\n",
              "      <td>0</td>\n",
              "      <td>0</td>\n",
              "      <td>0</td>\n",
              "      <td>0</td>\n",
              "      <td>0</td>\n",
              "      <td>0</td>\n",
              "      <td>0</td>\n",
              "      <td>0</td>\n",
              "      <td>0</td>\n",
              "      <td>0</td>\n",
              "      <td>0</td>\n",
              "      <td>0</td>\n",
              "      <td>0</td>\n",
              "      <td>0</td>\n",
              "      <td>0</td>\n",
              "      <td>0</td>\n",
              "      <td>0</td>\n",
              "      <td>0</td>\n",
              "      <td>0</td>\n",
              "      <td>0</td>\n",
              "      <td>0</td>\n",
              "      <td>0</td>\n",
              "      <td>0</td>\n",
              "      <td>0</td>\n",
              "      <td>0</td>\n",
              "      <td>0</td>\n",
              "      <td>0</td>\n",
              "      <td>0</td>\n",
              "      <td>0</td>\n",
              "      <td>0</td>\n",
              "      <td>0</td>\n",
              "      <td>0</td>\n",
              "      <td>0</td>\n",
              "      <td>0</td>\n",
              "      <td>0</td>\n",
              "      <td>0</td>\n",
              "      <td>0</td>\n",
              "      <td>0</td>\n",
              "    </tr>\n",
              "    <tr>\n",
              "      <th>1</th>\n",
              "      <td>0</td>\n",
              "      <td>31</td>\n",
              "      <td>0</td>\n",
              "      <td>0</td>\n",
              "      <td>0</td>\n",
              "      <td>0</td>\n",
              "      <td>0</td>\n",
              "      <td>0</td>\n",
              "      <td>7</td>\n",
              "      <td>2</td>\n",
              "      <td>2</td>\n",
              "      <td>0</td>\n",
              "      <td>0</td>\n",
              "      <td>0</td>\n",
              "      <td>0</td>\n",
              "      <td>0</td>\n",
              "      <td>0</td>\n",
              "      <td>0</td>\n",
              "      <td>0</td>\n",
              "      <td>0</td>\n",
              "      <td>0</td>\n",
              "      <td>0</td>\n",
              "      <td>0</td>\n",
              "      <td>0</td>\n",
              "      <td>0</td>\n",
              "      <td>0</td>\n",
              "      <td>0</td>\n",
              "      <td>0</td>\n",
              "      <td>0</td>\n",
              "      <td>0</td>\n",
              "      <td>0</td>\n",
              "      <td>0</td>\n",
              "      <td>0</td>\n",
              "      <td>0</td>\n",
              "      <td>0</td>\n",
              "      <td>0</td>\n",
              "      <td>0</td>\n",
              "      <td>0</td>\n",
              "      <td>0</td>\n",
              "      <td>0</td>\n",
              "      <td>...</td>\n",
              "      <td>0</td>\n",
              "      <td>0</td>\n",
              "      <td>0</td>\n",
              "      <td>0</td>\n",
              "      <td>0</td>\n",
              "      <td>0</td>\n",
              "      <td>0</td>\n",
              "      <td>0</td>\n",
              "      <td>0</td>\n",
              "      <td>0</td>\n",
              "      <td>0</td>\n",
              "      <td>0</td>\n",
              "      <td>0</td>\n",
              "      <td>0</td>\n",
              "      <td>0</td>\n",
              "      <td>0</td>\n",
              "      <td>0</td>\n",
              "      <td>0</td>\n",
              "      <td>0</td>\n",
              "      <td>0</td>\n",
              "      <td>0</td>\n",
              "      <td>0</td>\n",
              "      <td>0</td>\n",
              "      <td>0</td>\n",
              "      <td>0</td>\n",
              "      <td>0</td>\n",
              "      <td>0</td>\n",
              "      <td>0</td>\n",
              "      <td>0</td>\n",
              "      <td>0</td>\n",
              "      <td>0</td>\n",
              "      <td>0</td>\n",
              "      <td>0</td>\n",
              "      <td>0</td>\n",
              "      <td>0</td>\n",
              "      <td>0</td>\n",
              "      <td>0</td>\n",
              "      <td>0</td>\n",
              "      <td>0</td>\n",
              "      <td>0</td>\n",
              "    </tr>\n",
              "    <tr>\n",
              "      <th>2</th>\n",
              "      <td>0</td>\n",
              "      <td>32</td>\n",
              "      <td>2</td>\n",
              "      <td>0</td>\n",
              "      <td>0</td>\n",
              "      <td>3</td>\n",
              "      <td>1</td>\n",
              "      <td>2</td>\n",
              "      <td>5</td>\n",
              "      <td>2</td>\n",
              "      <td>1</td>\n",
              "      <td>0</td>\n",
              "      <td>0</td>\n",
              "      <td>0</td>\n",
              "      <td>0</td>\n",
              "      <td>0</td>\n",
              "      <td>0</td>\n",
              "      <td>0</td>\n",
              "      <td>0</td>\n",
              "      <td>0</td>\n",
              "      <td>0</td>\n",
              "      <td>0</td>\n",
              "      <td>0</td>\n",
              "      <td>0</td>\n",
              "      <td>0</td>\n",
              "      <td>0</td>\n",
              "      <td>0</td>\n",
              "      <td>0</td>\n",
              "      <td>0</td>\n",
              "      <td>0</td>\n",
              "      <td>0</td>\n",
              "      <td>0</td>\n",
              "      <td>0</td>\n",
              "      <td>0</td>\n",
              "      <td>0</td>\n",
              "      <td>0</td>\n",
              "      <td>0</td>\n",
              "      <td>0</td>\n",
              "      <td>0</td>\n",
              "      <td>0</td>\n",
              "      <td>...</td>\n",
              "      <td>0</td>\n",
              "      <td>0</td>\n",
              "      <td>0</td>\n",
              "      <td>0</td>\n",
              "      <td>0</td>\n",
              "      <td>0</td>\n",
              "      <td>0</td>\n",
              "      <td>0</td>\n",
              "      <td>0</td>\n",
              "      <td>0</td>\n",
              "      <td>0</td>\n",
              "      <td>0</td>\n",
              "      <td>0</td>\n",
              "      <td>0</td>\n",
              "      <td>0</td>\n",
              "      <td>0</td>\n",
              "      <td>0</td>\n",
              "      <td>0</td>\n",
              "      <td>0</td>\n",
              "      <td>0</td>\n",
              "      <td>0</td>\n",
              "      <td>0</td>\n",
              "      <td>0</td>\n",
              "      <td>0</td>\n",
              "      <td>0</td>\n",
              "      <td>0</td>\n",
              "      <td>0</td>\n",
              "      <td>0</td>\n",
              "      <td>0</td>\n",
              "      <td>0</td>\n",
              "      <td>0</td>\n",
              "      <td>0</td>\n",
              "      <td>0</td>\n",
              "      <td>0</td>\n",
              "      <td>0</td>\n",
              "      <td>0</td>\n",
              "      <td>0</td>\n",
              "      <td>0</td>\n",
              "      <td>0</td>\n",
              "      <td>0</td>\n",
              "    </tr>\n",
              "    <tr>\n",
              "      <th>3</th>\n",
              "      <td>0</td>\n",
              "      <td>33</td>\n",
              "      <td>1</td>\n",
              "      <td>0</td>\n",
              "      <td>1</td>\n",
              "      <td>0</td>\n",
              "      <td>1</td>\n",
              "      <td>1</td>\n",
              "      <td>0</td>\n",
              "      <td>1</td>\n",
              "      <td>1</td>\n",
              "      <td>0</td>\n",
              "      <td>0</td>\n",
              "      <td>0</td>\n",
              "      <td>0</td>\n",
              "      <td>0</td>\n",
              "      <td>0</td>\n",
              "      <td>0</td>\n",
              "      <td>0</td>\n",
              "      <td>0</td>\n",
              "      <td>0</td>\n",
              "      <td>0</td>\n",
              "      <td>0</td>\n",
              "      <td>0</td>\n",
              "      <td>0</td>\n",
              "      <td>0</td>\n",
              "      <td>0</td>\n",
              "      <td>0</td>\n",
              "      <td>0</td>\n",
              "      <td>0</td>\n",
              "      <td>0</td>\n",
              "      <td>0</td>\n",
              "      <td>0</td>\n",
              "      <td>0</td>\n",
              "      <td>0</td>\n",
              "      <td>0</td>\n",
              "      <td>0</td>\n",
              "      <td>0</td>\n",
              "      <td>0</td>\n",
              "      <td>0</td>\n",
              "      <td>...</td>\n",
              "      <td>0</td>\n",
              "      <td>0</td>\n",
              "      <td>0</td>\n",
              "      <td>0</td>\n",
              "      <td>0</td>\n",
              "      <td>0</td>\n",
              "      <td>0</td>\n",
              "      <td>0</td>\n",
              "      <td>0</td>\n",
              "      <td>0</td>\n",
              "      <td>0</td>\n",
              "      <td>0</td>\n",
              "      <td>0</td>\n",
              "      <td>0</td>\n",
              "      <td>0</td>\n",
              "      <td>0</td>\n",
              "      <td>0</td>\n",
              "      <td>0</td>\n",
              "      <td>0</td>\n",
              "      <td>0</td>\n",
              "      <td>0</td>\n",
              "      <td>0</td>\n",
              "      <td>0</td>\n",
              "      <td>0</td>\n",
              "      <td>0</td>\n",
              "      <td>0</td>\n",
              "      <td>0</td>\n",
              "      <td>0</td>\n",
              "      <td>0</td>\n",
              "      <td>0</td>\n",
              "      <td>0</td>\n",
              "      <td>0</td>\n",
              "      <td>0</td>\n",
              "      <td>0</td>\n",
              "      <td>0</td>\n",
              "      <td>0</td>\n",
              "      <td>0</td>\n",
              "      <td>0</td>\n",
              "      <td>0</td>\n",
              "      <td>0</td>\n",
              "    </tr>\n",
              "    <tr>\n",
              "      <th>4</th>\n",
              "      <td>0</td>\n",
              "      <td>35</td>\n",
              "      <td>0</td>\n",
              "      <td>0</td>\n",
              "      <td>0</td>\n",
              "      <td>0</td>\n",
              "      <td>4</td>\n",
              "      <td>7</td>\n",
              "      <td>3</td>\n",
              "      <td>1</td>\n",
              "      <td>0</td>\n",
              "      <td>0</td>\n",
              "      <td>0</td>\n",
              "      <td>0</td>\n",
              "      <td>0</td>\n",
              "      <td>0</td>\n",
              "      <td>0</td>\n",
              "      <td>0</td>\n",
              "      <td>0</td>\n",
              "      <td>0</td>\n",
              "      <td>0</td>\n",
              "      <td>0</td>\n",
              "      <td>0</td>\n",
              "      <td>0</td>\n",
              "      <td>0</td>\n",
              "      <td>0</td>\n",
              "      <td>0</td>\n",
              "      <td>0</td>\n",
              "      <td>0</td>\n",
              "      <td>0</td>\n",
              "      <td>0</td>\n",
              "      <td>0</td>\n",
              "      <td>0</td>\n",
              "      <td>0</td>\n",
              "      <td>0</td>\n",
              "      <td>0</td>\n",
              "      <td>0</td>\n",
              "      <td>0</td>\n",
              "      <td>0</td>\n",
              "      <td>0</td>\n",
              "      <td>...</td>\n",
              "      <td>0</td>\n",
              "      <td>0</td>\n",
              "      <td>0</td>\n",
              "      <td>0</td>\n",
              "      <td>0</td>\n",
              "      <td>0</td>\n",
              "      <td>0</td>\n",
              "      <td>0</td>\n",
              "      <td>0</td>\n",
              "      <td>0</td>\n",
              "      <td>0</td>\n",
              "      <td>0</td>\n",
              "      <td>0</td>\n",
              "      <td>0</td>\n",
              "      <td>0</td>\n",
              "      <td>0</td>\n",
              "      <td>0</td>\n",
              "      <td>0</td>\n",
              "      <td>0</td>\n",
              "      <td>0</td>\n",
              "      <td>0</td>\n",
              "      <td>0</td>\n",
              "      <td>0</td>\n",
              "      <td>0</td>\n",
              "      <td>0</td>\n",
              "      <td>0</td>\n",
              "      <td>0</td>\n",
              "      <td>0</td>\n",
              "      <td>0</td>\n",
              "      <td>0</td>\n",
              "      <td>0</td>\n",
              "      <td>0</td>\n",
              "      <td>0</td>\n",
              "      <td>0</td>\n",
              "      <td>0</td>\n",
              "      <td>0</td>\n",
              "      <td>0</td>\n",
              "      <td>0</td>\n",
              "      <td>0</td>\n",
              "      <td>0</td>\n",
              "    </tr>\n",
              "  </tbody>\n",
              "</table>\n",
              "<p>5 rows × 150 columns</p>\n",
              "</div>"
            ],
            "text/plain": [
              "     shop_id item_id item_cnt_weekly              ...                            \n",
              "week                               1  2  3  4  5  ... 142 143 144 145 146 147 148\n",
              "0          0      30               0  0  0  0  0  ...   0   0   0   0   0   0   0\n",
              "1          0      31               0  0  0  0  0  ...   0   0   0   0   0   0   0\n",
              "2          0      32               2  0  0  3  1  ...   0   0   0   0   0   0   0\n",
              "3          0      33               1  0  1  0  1  ...   0   0   0   0   0   0   0\n",
              "4          0      35               0  0  0  0  4  ...   0   0   0   0   0   0   0\n",
              "\n",
              "[5 rows x 150 columns]"
            ]
          },
          "metadata": {
            "tags": []
          },
          "execution_count": 87
        }
      ]
    },
    {
      "cell_type": "code",
      "metadata": {
        "colab": {
          "base_uri": "https://localhost:8080/"
        },
        "id": "XtH0uqguYrsF",
        "outputId": "f3469048-a62e-4d22-ecee-d4666a3d0d09"
      },
      "source": [
        "# merge train_data and test_df as to be suitable for prediction\n",
        "all_data_monthly = pd.merge(df_test,train_data_monthly,on = ['item_id','shop_id'],how = 'left')\n",
        "all_data_weekly = pd.merge(df_test,train_data_weekly,on = ['item_id','shop_id'],how = 'left')"
      ],
      "execution_count": null,
      "outputs": [
        {
          "output_type": "stream",
          "text": [
            "/usr/local/lib/python3.6/dist-packages/pandas/core/reshape/merge.py:643: UserWarning: merging between different levels can give an unintended result (1 levels on the left,2 on the right)\n",
            "  warnings.warn(msg, UserWarning)\n",
            "/usr/local/lib/python3.6/dist-packages/pandas/core/generic.py:3887: PerformanceWarning: dropping on a non-lexsorted multi-index without a level parameter may impact performance.\n",
            "  obj = obj._drop_axis(labels, axis, level=level, errors=errors)\n"
          ],
          "name": "stderr"
        }
      ]
    },
    {
      "cell_type": "code",
      "metadata": {
        "id": "8-myX9p8ZpLg"
      },
      "source": [
        "# fill all NaN values with 0\n",
        "all_data_monthly.fillna(0,inplace = True)\n",
        "all_data_weekly.fillna(0,inplace = True)"
      ],
      "execution_count": null,
      "outputs": []
    },
    {
      "cell_type": "code",
      "metadata": {
        "colab": {
          "base_uri": "https://localhost:8080/",
          "height": 241
        },
        "id": "rkAc2OSholVV",
        "outputId": "9a230130-a011-4df8-ace7-8d81d90ccce7"
      },
      "source": [
        "all_data_monthly.head()"
      ],
      "execution_count": null,
      "outputs": [
        {
          "output_type": "execute_result",
          "data": {
            "text/html": [
              "<div>\n",
              "<style scoped>\n",
              "    .dataframe tbody tr th:only-of-type {\n",
              "        vertical-align: middle;\n",
              "    }\n",
              "\n",
              "    .dataframe tbody tr th {\n",
              "        vertical-align: top;\n",
              "    }\n",
              "\n",
              "    .dataframe thead th {\n",
              "        text-align: right;\n",
              "    }\n",
              "</style>\n",
              "<table border=\"1\" class=\"dataframe\">\n",
              "  <thead>\n",
              "    <tr style=\"text-align: right;\">\n",
              "      <th></th>\n",
              "      <th>ID</th>\n",
              "      <th>shop_id</th>\n",
              "      <th>item_id</th>\n",
              "      <th>(item_cnt_month, 0)</th>\n",
              "      <th>(item_cnt_month, 1)</th>\n",
              "      <th>(item_cnt_month, 2)</th>\n",
              "      <th>(item_cnt_month, 3)</th>\n",
              "      <th>(item_cnt_month, 4)</th>\n",
              "      <th>(item_cnt_month, 5)</th>\n",
              "      <th>(item_cnt_month, 6)</th>\n",
              "      <th>(item_cnt_month, 7)</th>\n",
              "      <th>(item_cnt_month, 8)</th>\n",
              "      <th>(item_cnt_month, 9)</th>\n",
              "      <th>(item_cnt_month, 10)</th>\n",
              "      <th>(item_cnt_month, 11)</th>\n",
              "      <th>(item_cnt_month, 12)</th>\n",
              "      <th>(item_cnt_month, 13)</th>\n",
              "      <th>(item_cnt_month, 14)</th>\n",
              "      <th>(item_cnt_month, 15)</th>\n",
              "      <th>(item_cnt_month, 16)</th>\n",
              "      <th>(item_cnt_month, 17)</th>\n",
              "      <th>(item_cnt_month, 18)</th>\n",
              "      <th>(item_cnt_month, 19)</th>\n",
              "      <th>(item_cnt_month, 20)</th>\n",
              "      <th>(item_cnt_month, 21)</th>\n",
              "      <th>(item_cnt_month, 22)</th>\n",
              "      <th>(item_cnt_month, 23)</th>\n",
              "      <th>(item_cnt_month, 24)</th>\n",
              "      <th>(item_cnt_month, 25)</th>\n",
              "      <th>(item_cnt_month, 26)</th>\n",
              "      <th>(item_cnt_month, 27)</th>\n",
              "      <th>(item_cnt_month, 28)</th>\n",
              "      <th>(item_cnt_month, 29)</th>\n",
              "      <th>(item_cnt_month, 30)</th>\n",
              "      <th>(item_cnt_month, 31)</th>\n",
              "      <th>(item_cnt_month, 32)</th>\n",
              "      <th>(item_cnt_month, 33)</th>\n",
              "    </tr>\n",
              "  </thead>\n",
              "  <tbody>\n",
              "    <tr>\n",
              "      <th>0</th>\n",
              "      <td>0</td>\n",
              "      <td>5</td>\n",
              "      <td>5037</td>\n",
              "      <td>0.0</td>\n",
              "      <td>0.0</td>\n",
              "      <td>0.0</td>\n",
              "      <td>0.0</td>\n",
              "      <td>0.0</td>\n",
              "      <td>0.0</td>\n",
              "      <td>0.0</td>\n",
              "      <td>0.0</td>\n",
              "      <td>0.0</td>\n",
              "      <td>0.0</td>\n",
              "      <td>0.0</td>\n",
              "      <td>0.0</td>\n",
              "      <td>0.0</td>\n",
              "      <td>0.0</td>\n",
              "      <td>0.0</td>\n",
              "      <td>0.0</td>\n",
              "      <td>0.0</td>\n",
              "      <td>0.0</td>\n",
              "      <td>0.0</td>\n",
              "      <td>0.0</td>\n",
              "      <td>1.0</td>\n",
              "      <td>0.0</td>\n",
              "      <td>1.0</td>\n",
              "      <td>2.0</td>\n",
              "      <td>2.0</td>\n",
              "      <td>0.0</td>\n",
              "      <td>0.0</td>\n",
              "      <td>0.0</td>\n",
              "      <td>1.0</td>\n",
              "      <td>1.0</td>\n",
              "      <td>1.0</td>\n",
              "      <td>3.0</td>\n",
              "      <td>1.0</td>\n",
              "      <td>0.0</td>\n",
              "    </tr>\n",
              "    <tr>\n",
              "      <th>1</th>\n",
              "      <td>1</td>\n",
              "      <td>5</td>\n",
              "      <td>5320</td>\n",
              "      <td>0.0</td>\n",
              "      <td>0.0</td>\n",
              "      <td>0.0</td>\n",
              "      <td>0.0</td>\n",
              "      <td>0.0</td>\n",
              "      <td>0.0</td>\n",
              "      <td>0.0</td>\n",
              "      <td>0.0</td>\n",
              "      <td>0.0</td>\n",
              "      <td>0.0</td>\n",
              "      <td>0.0</td>\n",
              "      <td>0.0</td>\n",
              "      <td>0.0</td>\n",
              "      <td>0.0</td>\n",
              "      <td>0.0</td>\n",
              "      <td>0.0</td>\n",
              "      <td>0.0</td>\n",
              "      <td>0.0</td>\n",
              "      <td>0.0</td>\n",
              "      <td>0.0</td>\n",
              "      <td>0.0</td>\n",
              "      <td>0.0</td>\n",
              "      <td>0.0</td>\n",
              "      <td>0.0</td>\n",
              "      <td>0.0</td>\n",
              "      <td>0.0</td>\n",
              "      <td>0.0</td>\n",
              "      <td>0.0</td>\n",
              "      <td>0.0</td>\n",
              "      <td>0.0</td>\n",
              "      <td>0.0</td>\n",
              "      <td>0.0</td>\n",
              "      <td>0.0</td>\n",
              "      <td>0.0</td>\n",
              "    </tr>\n",
              "    <tr>\n",
              "      <th>2</th>\n",
              "      <td>2</td>\n",
              "      <td>5</td>\n",
              "      <td>5233</td>\n",
              "      <td>0.0</td>\n",
              "      <td>0.0</td>\n",
              "      <td>0.0</td>\n",
              "      <td>0.0</td>\n",
              "      <td>0.0</td>\n",
              "      <td>0.0</td>\n",
              "      <td>0.0</td>\n",
              "      <td>0.0</td>\n",
              "      <td>0.0</td>\n",
              "      <td>0.0</td>\n",
              "      <td>0.0</td>\n",
              "      <td>0.0</td>\n",
              "      <td>0.0</td>\n",
              "      <td>0.0</td>\n",
              "      <td>0.0</td>\n",
              "      <td>0.0</td>\n",
              "      <td>0.0</td>\n",
              "      <td>0.0</td>\n",
              "      <td>0.0</td>\n",
              "      <td>0.0</td>\n",
              "      <td>0.0</td>\n",
              "      <td>0.0</td>\n",
              "      <td>0.0</td>\n",
              "      <td>0.0</td>\n",
              "      <td>0.0</td>\n",
              "      <td>0.0</td>\n",
              "      <td>0.0</td>\n",
              "      <td>0.0</td>\n",
              "      <td>3.0</td>\n",
              "      <td>2.0</td>\n",
              "      <td>0.0</td>\n",
              "      <td>1.0</td>\n",
              "      <td>3.0</td>\n",
              "      <td>1.0</td>\n",
              "    </tr>\n",
              "    <tr>\n",
              "      <th>3</th>\n",
              "      <td>3</td>\n",
              "      <td>5</td>\n",
              "      <td>5232</td>\n",
              "      <td>0.0</td>\n",
              "      <td>0.0</td>\n",
              "      <td>0.0</td>\n",
              "      <td>0.0</td>\n",
              "      <td>0.0</td>\n",
              "      <td>0.0</td>\n",
              "      <td>0.0</td>\n",
              "      <td>0.0</td>\n",
              "      <td>0.0</td>\n",
              "      <td>0.0</td>\n",
              "      <td>0.0</td>\n",
              "      <td>0.0</td>\n",
              "      <td>0.0</td>\n",
              "      <td>0.0</td>\n",
              "      <td>0.0</td>\n",
              "      <td>0.0</td>\n",
              "      <td>0.0</td>\n",
              "      <td>0.0</td>\n",
              "      <td>0.0</td>\n",
              "      <td>0.0</td>\n",
              "      <td>0.0</td>\n",
              "      <td>0.0</td>\n",
              "      <td>0.0</td>\n",
              "      <td>0.0</td>\n",
              "      <td>0.0</td>\n",
              "      <td>0.0</td>\n",
              "      <td>0.0</td>\n",
              "      <td>0.0</td>\n",
              "      <td>0.0</td>\n",
              "      <td>0.0</td>\n",
              "      <td>0.0</td>\n",
              "      <td>1.0</td>\n",
              "      <td>0.0</td>\n",
              "      <td>0.0</td>\n",
              "    </tr>\n",
              "    <tr>\n",
              "      <th>4</th>\n",
              "      <td>4</td>\n",
              "      <td>5</td>\n",
              "      <td>5268</td>\n",
              "      <td>0.0</td>\n",
              "      <td>0.0</td>\n",
              "      <td>0.0</td>\n",
              "      <td>0.0</td>\n",
              "      <td>0.0</td>\n",
              "      <td>0.0</td>\n",
              "      <td>0.0</td>\n",
              "      <td>0.0</td>\n",
              "      <td>0.0</td>\n",
              "      <td>0.0</td>\n",
              "      <td>0.0</td>\n",
              "      <td>0.0</td>\n",
              "      <td>0.0</td>\n",
              "      <td>0.0</td>\n",
              "      <td>0.0</td>\n",
              "      <td>0.0</td>\n",
              "      <td>0.0</td>\n",
              "      <td>0.0</td>\n",
              "      <td>0.0</td>\n",
              "      <td>0.0</td>\n",
              "      <td>0.0</td>\n",
              "      <td>0.0</td>\n",
              "      <td>0.0</td>\n",
              "      <td>0.0</td>\n",
              "      <td>0.0</td>\n",
              "      <td>0.0</td>\n",
              "      <td>0.0</td>\n",
              "      <td>0.0</td>\n",
              "      <td>0.0</td>\n",
              "      <td>0.0</td>\n",
              "      <td>0.0</td>\n",
              "      <td>0.0</td>\n",
              "      <td>0.0</td>\n",
              "      <td>0.0</td>\n",
              "    </tr>\n",
              "  </tbody>\n",
              "</table>\n",
              "</div>"
            ],
            "text/plain": [
              "   ID  shop_id  ...  (item_cnt_month, 32)  (item_cnt_month, 33)\n",
              "0   0        5  ...                   1.0                   0.0\n",
              "1   1        5  ...                   0.0                   0.0\n",
              "2   2        5  ...                   3.0                   1.0\n",
              "3   3        5  ...                   0.0                   0.0\n",
              "4   4        5  ...                   0.0                   0.0\n",
              "\n",
              "[5 rows x 37 columns]"
            ]
          },
          "metadata": {
            "tags": []
          },
          "execution_count": 90
        }
      ]
    },
    {
      "cell_type": "code",
      "metadata": {
        "colab": {
          "base_uri": "https://localhost:8080/",
          "height": 270
        },
        "id": "QhEPVZI2ooQg",
        "outputId": "2e99a79d-3da5-4400-8883-9c82805058ee"
      },
      "source": [
        "all_data_weekly.head()"
      ],
      "execution_count": null,
      "outputs": [
        {
          "output_type": "execute_result",
          "data": {
            "text/html": [
              "<div>\n",
              "<style scoped>\n",
              "    .dataframe tbody tr th:only-of-type {\n",
              "        vertical-align: middle;\n",
              "    }\n",
              "\n",
              "    .dataframe tbody tr th {\n",
              "        vertical-align: top;\n",
              "    }\n",
              "\n",
              "    .dataframe thead th {\n",
              "        text-align: right;\n",
              "    }\n",
              "</style>\n",
              "<table border=\"1\" class=\"dataframe\">\n",
              "  <thead>\n",
              "    <tr style=\"text-align: right;\">\n",
              "      <th></th>\n",
              "      <th>ID</th>\n",
              "      <th>shop_id</th>\n",
              "      <th>item_id</th>\n",
              "      <th>(item_cnt_weekly, 1)</th>\n",
              "      <th>(item_cnt_weekly, 2)</th>\n",
              "      <th>(item_cnt_weekly, 3)</th>\n",
              "      <th>(item_cnt_weekly, 4)</th>\n",
              "      <th>(item_cnt_weekly, 5)</th>\n",
              "      <th>(item_cnt_weekly, 6)</th>\n",
              "      <th>(item_cnt_weekly, 7)</th>\n",
              "      <th>(item_cnt_weekly, 8)</th>\n",
              "      <th>(item_cnt_weekly, 9)</th>\n",
              "      <th>(item_cnt_weekly, 10)</th>\n",
              "      <th>(item_cnt_weekly, 11)</th>\n",
              "      <th>(item_cnt_weekly, 12)</th>\n",
              "      <th>(item_cnt_weekly, 13)</th>\n",
              "      <th>(item_cnt_weekly, 14)</th>\n",
              "      <th>(item_cnt_weekly, 15)</th>\n",
              "      <th>(item_cnt_weekly, 16)</th>\n",
              "      <th>(item_cnt_weekly, 17)</th>\n",
              "      <th>(item_cnt_weekly, 18)</th>\n",
              "      <th>(item_cnt_weekly, 19)</th>\n",
              "      <th>(item_cnt_weekly, 20)</th>\n",
              "      <th>(item_cnt_weekly, 21)</th>\n",
              "      <th>(item_cnt_weekly, 22)</th>\n",
              "      <th>(item_cnt_weekly, 23)</th>\n",
              "      <th>(item_cnt_weekly, 24)</th>\n",
              "      <th>(item_cnt_weekly, 25)</th>\n",
              "      <th>(item_cnt_weekly, 26)</th>\n",
              "      <th>(item_cnt_weekly, 27)</th>\n",
              "      <th>(item_cnt_weekly, 28)</th>\n",
              "      <th>(item_cnt_weekly, 29)</th>\n",
              "      <th>(item_cnt_weekly, 30)</th>\n",
              "      <th>(item_cnt_weekly, 31)</th>\n",
              "      <th>(item_cnt_weekly, 32)</th>\n",
              "      <th>(item_cnt_weekly, 33)</th>\n",
              "      <th>(item_cnt_weekly, 34)</th>\n",
              "      <th>(item_cnt_weekly, 35)</th>\n",
              "      <th>(item_cnt_weekly, 36)</th>\n",
              "      <th>(item_cnt_weekly, 37)</th>\n",
              "      <th>...</th>\n",
              "      <th>(item_cnt_weekly, 109)</th>\n",
              "      <th>(item_cnt_weekly, 110)</th>\n",
              "      <th>(item_cnt_weekly, 111)</th>\n",
              "      <th>(item_cnt_weekly, 112)</th>\n",
              "      <th>(item_cnt_weekly, 113)</th>\n",
              "      <th>(item_cnt_weekly, 114)</th>\n",
              "      <th>(item_cnt_weekly, 115)</th>\n",
              "      <th>(item_cnt_weekly, 116)</th>\n",
              "      <th>(item_cnt_weekly, 117)</th>\n",
              "      <th>(item_cnt_weekly, 118)</th>\n",
              "      <th>(item_cnt_weekly, 119)</th>\n",
              "      <th>(item_cnt_weekly, 120)</th>\n",
              "      <th>(item_cnt_weekly, 121)</th>\n",
              "      <th>(item_cnt_weekly, 122)</th>\n",
              "      <th>(item_cnt_weekly, 123)</th>\n",
              "      <th>(item_cnt_weekly, 124)</th>\n",
              "      <th>(item_cnt_weekly, 125)</th>\n",
              "      <th>(item_cnt_weekly, 126)</th>\n",
              "      <th>(item_cnt_weekly, 127)</th>\n",
              "      <th>(item_cnt_weekly, 128)</th>\n",
              "      <th>(item_cnt_weekly, 129)</th>\n",
              "      <th>(item_cnt_weekly, 130)</th>\n",
              "      <th>(item_cnt_weekly, 131)</th>\n",
              "      <th>(item_cnt_weekly, 132)</th>\n",
              "      <th>(item_cnt_weekly, 133)</th>\n",
              "      <th>(item_cnt_weekly, 134)</th>\n",
              "      <th>(item_cnt_weekly, 135)</th>\n",
              "      <th>(item_cnt_weekly, 136)</th>\n",
              "      <th>(item_cnt_weekly, 137)</th>\n",
              "      <th>(item_cnt_weekly, 138)</th>\n",
              "      <th>(item_cnt_weekly, 139)</th>\n",
              "      <th>(item_cnt_weekly, 140)</th>\n",
              "      <th>(item_cnt_weekly, 141)</th>\n",
              "      <th>(item_cnt_weekly, 142)</th>\n",
              "      <th>(item_cnt_weekly, 143)</th>\n",
              "      <th>(item_cnt_weekly, 144)</th>\n",
              "      <th>(item_cnt_weekly, 145)</th>\n",
              "      <th>(item_cnt_weekly, 146)</th>\n",
              "      <th>(item_cnt_weekly, 147)</th>\n",
              "      <th>(item_cnt_weekly, 148)</th>\n",
              "    </tr>\n",
              "  </thead>\n",
              "  <tbody>\n",
              "    <tr>\n",
              "      <th>0</th>\n",
              "      <td>0</td>\n",
              "      <td>5</td>\n",
              "      <td>5037</td>\n",
              "      <td>0.0</td>\n",
              "      <td>0.0</td>\n",
              "      <td>0.0</td>\n",
              "      <td>0.0</td>\n",
              "      <td>0.0</td>\n",
              "      <td>0.0</td>\n",
              "      <td>0.0</td>\n",
              "      <td>0.0</td>\n",
              "      <td>0.0</td>\n",
              "      <td>0.0</td>\n",
              "      <td>0.0</td>\n",
              "      <td>0.0</td>\n",
              "      <td>0.0</td>\n",
              "      <td>0.0</td>\n",
              "      <td>0.0</td>\n",
              "      <td>0.0</td>\n",
              "      <td>0.0</td>\n",
              "      <td>0.0</td>\n",
              "      <td>0.0</td>\n",
              "      <td>0.0</td>\n",
              "      <td>0.0</td>\n",
              "      <td>0.0</td>\n",
              "      <td>0.0</td>\n",
              "      <td>0.0</td>\n",
              "      <td>0.0</td>\n",
              "      <td>0.0</td>\n",
              "      <td>0.0</td>\n",
              "      <td>0.0</td>\n",
              "      <td>0.0</td>\n",
              "      <td>0.0</td>\n",
              "      <td>0.0</td>\n",
              "      <td>0.0</td>\n",
              "      <td>0.0</td>\n",
              "      <td>0.0</td>\n",
              "      <td>0.0</td>\n",
              "      <td>0.0</td>\n",
              "      <td>0.0</td>\n",
              "      <td>...</td>\n",
              "      <td>0.0</td>\n",
              "      <td>0.0</td>\n",
              "      <td>0.0</td>\n",
              "      <td>0.0</td>\n",
              "      <td>0.0</td>\n",
              "      <td>0.0</td>\n",
              "      <td>0.0</td>\n",
              "      <td>0.0</td>\n",
              "      <td>0.0</td>\n",
              "      <td>0.0</td>\n",
              "      <td>0.0</td>\n",
              "      <td>0.0</td>\n",
              "      <td>0.0</td>\n",
              "      <td>0.0</td>\n",
              "      <td>0.0</td>\n",
              "      <td>0.0</td>\n",
              "      <td>0.0</td>\n",
              "      <td>1.0</td>\n",
              "      <td>0.0</td>\n",
              "      <td>0.0</td>\n",
              "      <td>0.0</td>\n",
              "      <td>1.0</td>\n",
              "      <td>1.0</td>\n",
              "      <td>0.0</td>\n",
              "      <td>0.0</td>\n",
              "      <td>0.0</td>\n",
              "      <td>0.0</td>\n",
              "      <td>0.0</td>\n",
              "      <td>1.0</td>\n",
              "      <td>1.0</td>\n",
              "      <td>0.0</td>\n",
              "      <td>2.0</td>\n",
              "      <td>0.0</td>\n",
              "      <td>0.0</td>\n",
              "      <td>0.0</td>\n",
              "      <td>0.0</td>\n",
              "      <td>0.0</td>\n",
              "      <td>0.0</td>\n",
              "      <td>0.0</td>\n",
              "      <td>0.0</td>\n",
              "    </tr>\n",
              "    <tr>\n",
              "      <th>1</th>\n",
              "      <td>1</td>\n",
              "      <td>5</td>\n",
              "      <td>5320</td>\n",
              "      <td>0.0</td>\n",
              "      <td>0.0</td>\n",
              "      <td>0.0</td>\n",
              "      <td>0.0</td>\n",
              "      <td>0.0</td>\n",
              "      <td>0.0</td>\n",
              "      <td>0.0</td>\n",
              "      <td>0.0</td>\n",
              "      <td>0.0</td>\n",
              "      <td>0.0</td>\n",
              "      <td>0.0</td>\n",
              "      <td>0.0</td>\n",
              "      <td>0.0</td>\n",
              "      <td>0.0</td>\n",
              "      <td>0.0</td>\n",
              "      <td>0.0</td>\n",
              "      <td>0.0</td>\n",
              "      <td>0.0</td>\n",
              "      <td>0.0</td>\n",
              "      <td>0.0</td>\n",
              "      <td>0.0</td>\n",
              "      <td>0.0</td>\n",
              "      <td>0.0</td>\n",
              "      <td>0.0</td>\n",
              "      <td>0.0</td>\n",
              "      <td>0.0</td>\n",
              "      <td>0.0</td>\n",
              "      <td>0.0</td>\n",
              "      <td>0.0</td>\n",
              "      <td>0.0</td>\n",
              "      <td>0.0</td>\n",
              "      <td>0.0</td>\n",
              "      <td>0.0</td>\n",
              "      <td>0.0</td>\n",
              "      <td>0.0</td>\n",
              "      <td>0.0</td>\n",
              "      <td>0.0</td>\n",
              "      <td>...</td>\n",
              "      <td>0.0</td>\n",
              "      <td>0.0</td>\n",
              "      <td>0.0</td>\n",
              "      <td>0.0</td>\n",
              "      <td>0.0</td>\n",
              "      <td>0.0</td>\n",
              "      <td>0.0</td>\n",
              "      <td>0.0</td>\n",
              "      <td>0.0</td>\n",
              "      <td>0.0</td>\n",
              "      <td>0.0</td>\n",
              "      <td>0.0</td>\n",
              "      <td>0.0</td>\n",
              "      <td>0.0</td>\n",
              "      <td>0.0</td>\n",
              "      <td>0.0</td>\n",
              "      <td>0.0</td>\n",
              "      <td>0.0</td>\n",
              "      <td>0.0</td>\n",
              "      <td>0.0</td>\n",
              "      <td>0.0</td>\n",
              "      <td>0.0</td>\n",
              "      <td>0.0</td>\n",
              "      <td>0.0</td>\n",
              "      <td>0.0</td>\n",
              "      <td>0.0</td>\n",
              "      <td>0.0</td>\n",
              "      <td>0.0</td>\n",
              "      <td>0.0</td>\n",
              "      <td>0.0</td>\n",
              "      <td>0.0</td>\n",
              "      <td>0.0</td>\n",
              "      <td>0.0</td>\n",
              "      <td>0.0</td>\n",
              "      <td>0.0</td>\n",
              "      <td>0.0</td>\n",
              "      <td>0.0</td>\n",
              "      <td>0.0</td>\n",
              "      <td>0.0</td>\n",
              "      <td>0.0</td>\n",
              "    </tr>\n",
              "    <tr>\n",
              "      <th>2</th>\n",
              "      <td>2</td>\n",
              "      <td>5</td>\n",
              "      <td>5233</td>\n",
              "      <td>0.0</td>\n",
              "      <td>0.0</td>\n",
              "      <td>0.0</td>\n",
              "      <td>0.0</td>\n",
              "      <td>0.0</td>\n",
              "      <td>0.0</td>\n",
              "      <td>0.0</td>\n",
              "      <td>0.0</td>\n",
              "      <td>0.0</td>\n",
              "      <td>0.0</td>\n",
              "      <td>0.0</td>\n",
              "      <td>0.0</td>\n",
              "      <td>0.0</td>\n",
              "      <td>0.0</td>\n",
              "      <td>0.0</td>\n",
              "      <td>0.0</td>\n",
              "      <td>0.0</td>\n",
              "      <td>0.0</td>\n",
              "      <td>0.0</td>\n",
              "      <td>0.0</td>\n",
              "      <td>0.0</td>\n",
              "      <td>0.0</td>\n",
              "      <td>0.0</td>\n",
              "      <td>0.0</td>\n",
              "      <td>0.0</td>\n",
              "      <td>0.0</td>\n",
              "      <td>0.0</td>\n",
              "      <td>0.0</td>\n",
              "      <td>0.0</td>\n",
              "      <td>0.0</td>\n",
              "      <td>0.0</td>\n",
              "      <td>0.0</td>\n",
              "      <td>0.0</td>\n",
              "      <td>0.0</td>\n",
              "      <td>0.0</td>\n",
              "      <td>0.0</td>\n",
              "      <td>0.0</td>\n",
              "      <td>...</td>\n",
              "      <td>0.0</td>\n",
              "      <td>0.0</td>\n",
              "      <td>0.0</td>\n",
              "      <td>0.0</td>\n",
              "      <td>0.0</td>\n",
              "      <td>0.0</td>\n",
              "      <td>0.0</td>\n",
              "      <td>0.0</td>\n",
              "      <td>0.0</td>\n",
              "      <td>0.0</td>\n",
              "      <td>0.0</td>\n",
              "      <td>0.0</td>\n",
              "      <td>0.0</td>\n",
              "      <td>0.0</td>\n",
              "      <td>0.0</td>\n",
              "      <td>2.0</td>\n",
              "      <td>0.0</td>\n",
              "      <td>1.0</td>\n",
              "      <td>0.0</td>\n",
              "      <td>1.0</td>\n",
              "      <td>1.0</td>\n",
              "      <td>0.0</td>\n",
              "      <td>0.0</td>\n",
              "      <td>0.0</td>\n",
              "      <td>0.0</td>\n",
              "      <td>0.0</td>\n",
              "      <td>0.0</td>\n",
              "      <td>0.0</td>\n",
              "      <td>0.0</td>\n",
              "      <td>0.0</td>\n",
              "      <td>1.0</td>\n",
              "      <td>1.0</td>\n",
              "      <td>0.0</td>\n",
              "      <td>1.0</td>\n",
              "      <td>1.0</td>\n",
              "      <td>0.0</td>\n",
              "      <td>1.0</td>\n",
              "      <td>0.0</td>\n",
              "      <td>0.0</td>\n",
              "      <td>0.0</td>\n",
              "    </tr>\n",
              "    <tr>\n",
              "      <th>3</th>\n",
              "      <td>3</td>\n",
              "      <td>5</td>\n",
              "      <td>5232</td>\n",
              "      <td>0.0</td>\n",
              "      <td>0.0</td>\n",
              "      <td>0.0</td>\n",
              "      <td>0.0</td>\n",
              "      <td>0.0</td>\n",
              "      <td>0.0</td>\n",
              "      <td>0.0</td>\n",
              "      <td>0.0</td>\n",
              "      <td>0.0</td>\n",
              "      <td>0.0</td>\n",
              "      <td>0.0</td>\n",
              "      <td>0.0</td>\n",
              "      <td>0.0</td>\n",
              "      <td>0.0</td>\n",
              "      <td>0.0</td>\n",
              "      <td>0.0</td>\n",
              "      <td>0.0</td>\n",
              "      <td>0.0</td>\n",
              "      <td>0.0</td>\n",
              "      <td>0.0</td>\n",
              "      <td>0.0</td>\n",
              "      <td>0.0</td>\n",
              "      <td>0.0</td>\n",
              "      <td>0.0</td>\n",
              "      <td>0.0</td>\n",
              "      <td>0.0</td>\n",
              "      <td>0.0</td>\n",
              "      <td>0.0</td>\n",
              "      <td>0.0</td>\n",
              "      <td>0.0</td>\n",
              "      <td>0.0</td>\n",
              "      <td>0.0</td>\n",
              "      <td>0.0</td>\n",
              "      <td>0.0</td>\n",
              "      <td>0.0</td>\n",
              "      <td>0.0</td>\n",
              "      <td>0.0</td>\n",
              "      <td>...</td>\n",
              "      <td>0.0</td>\n",
              "      <td>0.0</td>\n",
              "      <td>0.0</td>\n",
              "      <td>0.0</td>\n",
              "      <td>0.0</td>\n",
              "      <td>0.0</td>\n",
              "      <td>0.0</td>\n",
              "      <td>0.0</td>\n",
              "      <td>0.0</td>\n",
              "      <td>0.0</td>\n",
              "      <td>0.0</td>\n",
              "      <td>0.0</td>\n",
              "      <td>0.0</td>\n",
              "      <td>0.0</td>\n",
              "      <td>0.0</td>\n",
              "      <td>0.0</td>\n",
              "      <td>0.0</td>\n",
              "      <td>0.0</td>\n",
              "      <td>0.0</td>\n",
              "      <td>0.0</td>\n",
              "      <td>0.0</td>\n",
              "      <td>0.0</td>\n",
              "      <td>0.0</td>\n",
              "      <td>0.0</td>\n",
              "      <td>0.0</td>\n",
              "      <td>0.0</td>\n",
              "      <td>0.0</td>\n",
              "      <td>0.0</td>\n",
              "      <td>0.0</td>\n",
              "      <td>0.0</td>\n",
              "      <td>1.0</td>\n",
              "      <td>0.0</td>\n",
              "      <td>0.0</td>\n",
              "      <td>0.0</td>\n",
              "      <td>0.0</td>\n",
              "      <td>0.0</td>\n",
              "      <td>0.0</td>\n",
              "      <td>0.0</td>\n",
              "      <td>0.0</td>\n",
              "      <td>0.0</td>\n",
              "    </tr>\n",
              "    <tr>\n",
              "      <th>4</th>\n",
              "      <td>4</td>\n",
              "      <td>5</td>\n",
              "      <td>5268</td>\n",
              "      <td>0.0</td>\n",
              "      <td>0.0</td>\n",
              "      <td>0.0</td>\n",
              "      <td>0.0</td>\n",
              "      <td>0.0</td>\n",
              "      <td>0.0</td>\n",
              "      <td>0.0</td>\n",
              "      <td>0.0</td>\n",
              "      <td>0.0</td>\n",
              "      <td>0.0</td>\n",
              "      <td>0.0</td>\n",
              "      <td>0.0</td>\n",
              "      <td>0.0</td>\n",
              "      <td>0.0</td>\n",
              "      <td>0.0</td>\n",
              "      <td>0.0</td>\n",
              "      <td>0.0</td>\n",
              "      <td>0.0</td>\n",
              "      <td>0.0</td>\n",
              "      <td>0.0</td>\n",
              "      <td>0.0</td>\n",
              "      <td>0.0</td>\n",
              "      <td>0.0</td>\n",
              "      <td>0.0</td>\n",
              "      <td>0.0</td>\n",
              "      <td>0.0</td>\n",
              "      <td>0.0</td>\n",
              "      <td>0.0</td>\n",
              "      <td>0.0</td>\n",
              "      <td>0.0</td>\n",
              "      <td>0.0</td>\n",
              "      <td>0.0</td>\n",
              "      <td>0.0</td>\n",
              "      <td>0.0</td>\n",
              "      <td>0.0</td>\n",
              "      <td>0.0</td>\n",
              "      <td>0.0</td>\n",
              "      <td>...</td>\n",
              "      <td>0.0</td>\n",
              "      <td>0.0</td>\n",
              "      <td>0.0</td>\n",
              "      <td>0.0</td>\n",
              "      <td>0.0</td>\n",
              "      <td>0.0</td>\n",
              "      <td>0.0</td>\n",
              "      <td>0.0</td>\n",
              "      <td>0.0</td>\n",
              "      <td>0.0</td>\n",
              "      <td>0.0</td>\n",
              "      <td>0.0</td>\n",
              "      <td>0.0</td>\n",
              "      <td>0.0</td>\n",
              "      <td>0.0</td>\n",
              "      <td>0.0</td>\n",
              "      <td>0.0</td>\n",
              "      <td>0.0</td>\n",
              "      <td>0.0</td>\n",
              "      <td>0.0</td>\n",
              "      <td>0.0</td>\n",
              "      <td>0.0</td>\n",
              "      <td>0.0</td>\n",
              "      <td>0.0</td>\n",
              "      <td>0.0</td>\n",
              "      <td>0.0</td>\n",
              "      <td>0.0</td>\n",
              "      <td>0.0</td>\n",
              "      <td>0.0</td>\n",
              "      <td>0.0</td>\n",
              "      <td>0.0</td>\n",
              "      <td>0.0</td>\n",
              "      <td>0.0</td>\n",
              "      <td>0.0</td>\n",
              "      <td>0.0</td>\n",
              "      <td>0.0</td>\n",
              "      <td>0.0</td>\n",
              "      <td>0.0</td>\n",
              "      <td>0.0</td>\n",
              "      <td>0.0</td>\n",
              "    </tr>\n",
              "  </tbody>\n",
              "</table>\n",
              "<p>5 rows × 151 columns</p>\n",
              "</div>"
            ],
            "text/plain": [
              "   ID  shop_id  ...  (item_cnt_weekly, 147)  (item_cnt_weekly, 148)\n",
              "0   0        5  ...                     0.0                     0.0\n",
              "1   1        5  ...                     0.0                     0.0\n",
              "2   2        5  ...                     0.0                     0.0\n",
              "3   3        5  ...                     0.0                     0.0\n",
              "4   4        5  ...                     0.0                     0.0\n",
              "\n",
              "[5 rows x 151 columns]"
            ]
          },
          "metadata": {
            "tags": []
          },
          "execution_count": 91
        }
      ]
    },
    {
      "cell_type": "markdown",
      "metadata": {
        "id": "9xvpaY1h0tCP"
      },
      "source": [
        "# Let us create the final train dataset for monthly.\n",
        "Drop columns ID, shop_id, and item_id that are not sequence of observation over a time period. Retain only observations that can be used in creating time series lag features, i.e. features at previous levels to help predicting outcome at a future time."
      ]
    },
    {
      "cell_type": "code",
      "metadata": {
        "id": "vxxj9kteWEaA"
      },
      "source": [
        "all_data_monthly.drop(['ID','shop_id','item_id'],inplace = True, axis = 1)"
      ],
      "execution_count": null,
      "outputs": []
    },
    {
      "cell_type": "code",
      "metadata": {
        "id": "5adUf_JImppw",
        "colab": {
          "base_uri": "https://localhost:8080/",
          "height": 241
        },
        "outputId": "d5c5b018-d4b9-45a5-917e-c76854e6a6c7"
      },
      "source": [
        "all_data_monthly.head()"
      ],
      "execution_count": null,
      "outputs": [
        {
          "output_type": "execute_result",
          "data": {
            "text/html": [
              "<div>\n",
              "<style scoped>\n",
              "    .dataframe tbody tr th:only-of-type {\n",
              "        vertical-align: middle;\n",
              "    }\n",
              "\n",
              "    .dataframe tbody tr th {\n",
              "        vertical-align: top;\n",
              "    }\n",
              "\n",
              "    .dataframe thead th {\n",
              "        text-align: right;\n",
              "    }\n",
              "</style>\n",
              "<table border=\"1\" class=\"dataframe\">\n",
              "  <thead>\n",
              "    <tr style=\"text-align: right;\">\n",
              "      <th></th>\n",
              "      <th>(item_cnt_month, 0)</th>\n",
              "      <th>(item_cnt_month, 1)</th>\n",
              "      <th>(item_cnt_month, 2)</th>\n",
              "      <th>(item_cnt_month, 3)</th>\n",
              "      <th>(item_cnt_month, 4)</th>\n",
              "      <th>(item_cnt_month, 5)</th>\n",
              "      <th>(item_cnt_month, 6)</th>\n",
              "      <th>(item_cnt_month, 7)</th>\n",
              "      <th>(item_cnt_month, 8)</th>\n",
              "      <th>(item_cnt_month, 9)</th>\n",
              "      <th>(item_cnt_month, 10)</th>\n",
              "      <th>(item_cnt_month, 11)</th>\n",
              "      <th>(item_cnt_month, 12)</th>\n",
              "      <th>(item_cnt_month, 13)</th>\n",
              "      <th>(item_cnt_month, 14)</th>\n",
              "      <th>(item_cnt_month, 15)</th>\n",
              "      <th>(item_cnt_month, 16)</th>\n",
              "      <th>(item_cnt_month, 17)</th>\n",
              "      <th>(item_cnt_month, 18)</th>\n",
              "      <th>(item_cnt_month, 19)</th>\n",
              "      <th>(item_cnt_month, 20)</th>\n",
              "      <th>(item_cnt_month, 21)</th>\n",
              "      <th>(item_cnt_month, 22)</th>\n",
              "      <th>(item_cnt_month, 23)</th>\n",
              "      <th>(item_cnt_month, 24)</th>\n",
              "      <th>(item_cnt_month, 25)</th>\n",
              "      <th>(item_cnt_month, 26)</th>\n",
              "      <th>(item_cnt_month, 27)</th>\n",
              "      <th>(item_cnt_month, 28)</th>\n",
              "      <th>(item_cnt_month, 29)</th>\n",
              "      <th>(item_cnt_month, 30)</th>\n",
              "      <th>(item_cnt_month, 31)</th>\n",
              "      <th>(item_cnt_month, 32)</th>\n",
              "      <th>(item_cnt_month, 33)</th>\n",
              "    </tr>\n",
              "  </thead>\n",
              "  <tbody>\n",
              "    <tr>\n",
              "      <th>0</th>\n",
              "      <td>0.0</td>\n",
              "      <td>0.0</td>\n",
              "      <td>0.0</td>\n",
              "      <td>0.0</td>\n",
              "      <td>0.0</td>\n",
              "      <td>0.0</td>\n",
              "      <td>0.0</td>\n",
              "      <td>0.0</td>\n",
              "      <td>0.0</td>\n",
              "      <td>0.0</td>\n",
              "      <td>0.0</td>\n",
              "      <td>0.0</td>\n",
              "      <td>0.0</td>\n",
              "      <td>0.0</td>\n",
              "      <td>0.0</td>\n",
              "      <td>0.0</td>\n",
              "      <td>0.0</td>\n",
              "      <td>0.0</td>\n",
              "      <td>0.0</td>\n",
              "      <td>0.0</td>\n",
              "      <td>1.0</td>\n",
              "      <td>0.0</td>\n",
              "      <td>1.0</td>\n",
              "      <td>2.0</td>\n",
              "      <td>2.0</td>\n",
              "      <td>0.0</td>\n",
              "      <td>0.0</td>\n",
              "      <td>0.0</td>\n",
              "      <td>1.0</td>\n",
              "      <td>1.0</td>\n",
              "      <td>1.0</td>\n",
              "      <td>3.0</td>\n",
              "      <td>1.0</td>\n",
              "      <td>0.0</td>\n",
              "    </tr>\n",
              "    <tr>\n",
              "      <th>1</th>\n",
              "      <td>0.0</td>\n",
              "      <td>0.0</td>\n",
              "      <td>0.0</td>\n",
              "      <td>0.0</td>\n",
              "      <td>0.0</td>\n",
              "      <td>0.0</td>\n",
              "      <td>0.0</td>\n",
              "      <td>0.0</td>\n",
              "      <td>0.0</td>\n",
              "      <td>0.0</td>\n",
              "      <td>0.0</td>\n",
              "      <td>0.0</td>\n",
              "      <td>0.0</td>\n",
              "      <td>0.0</td>\n",
              "      <td>0.0</td>\n",
              "      <td>0.0</td>\n",
              "      <td>0.0</td>\n",
              "      <td>0.0</td>\n",
              "      <td>0.0</td>\n",
              "      <td>0.0</td>\n",
              "      <td>0.0</td>\n",
              "      <td>0.0</td>\n",
              "      <td>0.0</td>\n",
              "      <td>0.0</td>\n",
              "      <td>0.0</td>\n",
              "      <td>0.0</td>\n",
              "      <td>0.0</td>\n",
              "      <td>0.0</td>\n",
              "      <td>0.0</td>\n",
              "      <td>0.0</td>\n",
              "      <td>0.0</td>\n",
              "      <td>0.0</td>\n",
              "      <td>0.0</td>\n",
              "      <td>0.0</td>\n",
              "    </tr>\n",
              "    <tr>\n",
              "      <th>2</th>\n",
              "      <td>0.0</td>\n",
              "      <td>0.0</td>\n",
              "      <td>0.0</td>\n",
              "      <td>0.0</td>\n",
              "      <td>0.0</td>\n",
              "      <td>0.0</td>\n",
              "      <td>0.0</td>\n",
              "      <td>0.0</td>\n",
              "      <td>0.0</td>\n",
              "      <td>0.0</td>\n",
              "      <td>0.0</td>\n",
              "      <td>0.0</td>\n",
              "      <td>0.0</td>\n",
              "      <td>0.0</td>\n",
              "      <td>0.0</td>\n",
              "      <td>0.0</td>\n",
              "      <td>0.0</td>\n",
              "      <td>0.0</td>\n",
              "      <td>0.0</td>\n",
              "      <td>0.0</td>\n",
              "      <td>0.0</td>\n",
              "      <td>0.0</td>\n",
              "      <td>0.0</td>\n",
              "      <td>0.0</td>\n",
              "      <td>0.0</td>\n",
              "      <td>0.0</td>\n",
              "      <td>0.0</td>\n",
              "      <td>0.0</td>\n",
              "      <td>3.0</td>\n",
              "      <td>2.0</td>\n",
              "      <td>0.0</td>\n",
              "      <td>1.0</td>\n",
              "      <td>3.0</td>\n",
              "      <td>1.0</td>\n",
              "    </tr>\n",
              "    <tr>\n",
              "      <th>3</th>\n",
              "      <td>0.0</td>\n",
              "      <td>0.0</td>\n",
              "      <td>0.0</td>\n",
              "      <td>0.0</td>\n",
              "      <td>0.0</td>\n",
              "      <td>0.0</td>\n",
              "      <td>0.0</td>\n",
              "      <td>0.0</td>\n",
              "      <td>0.0</td>\n",
              "      <td>0.0</td>\n",
              "      <td>0.0</td>\n",
              "      <td>0.0</td>\n",
              "      <td>0.0</td>\n",
              "      <td>0.0</td>\n",
              "      <td>0.0</td>\n",
              "      <td>0.0</td>\n",
              "      <td>0.0</td>\n",
              "      <td>0.0</td>\n",
              "      <td>0.0</td>\n",
              "      <td>0.0</td>\n",
              "      <td>0.0</td>\n",
              "      <td>0.0</td>\n",
              "      <td>0.0</td>\n",
              "      <td>0.0</td>\n",
              "      <td>0.0</td>\n",
              "      <td>0.0</td>\n",
              "      <td>0.0</td>\n",
              "      <td>0.0</td>\n",
              "      <td>0.0</td>\n",
              "      <td>0.0</td>\n",
              "      <td>0.0</td>\n",
              "      <td>1.0</td>\n",
              "      <td>0.0</td>\n",
              "      <td>0.0</td>\n",
              "    </tr>\n",
              "    <tr>\n",
              "      <th>4</th>\n",
              "      <td>0.0</td>\n",
              "      <td>0.0</td>\n",
              "      <td>0.0</td>\n",
              "      <td>0.0</td>\n",
              "      <td>0.0</td>\n",
              "      <td>0.0</td>\n",
              "      <td>0.0</td>\n",
              "      <td>0.0</td>\n",
              "      <td>0.0</td>\n",
              "      <td>0.0</td>\n",
              "      <td>0.0</td>\n",
              "      <td>0.0</td>\n",
              "      <td>0.0</td>\n",
              "      <td>0.0</td>\n",
              "      <td>0.0</td>\n",
              "      <td>0.0</td>\n",
              "      <td>0.0</td>\n",
              "      <td>0.0</td>\n",
              "      <td>0.0</td>\n",
              "      <td>0.0</td>\n",
              "      <td>0.0</td>\n",
              "      <td>0.0</td>\n",
              "      <td>0.0</td>\n",
              "      <td>0.0</td>\n",
              "      <td>0.0</td>\n",
              "      <td>0.0</td>\n",
              "      <td>0.0</td>\n",
              "      <td>0.0</td>\n",
              "      <td>0.0</td>\n",
              "      <td>0.0</td>\n",
              "      <td>0.0</td>\n",
              "      <td>0.0</td>\n",
              "      <td>0.0</td>\n",
              "      <td>0.0</td>\n",
              "    </tr>\n",
              "  </tbody>\n",
              "</table>\n",
              "</div>"
            ],
            "text/plain": [
              "   (item_cnt_month, 0)  ...  (item_cnt_month, 33)\n",
              "0                  0.0  ...                   0.0\n",
              "1                  0.0  ...                   0.0\n",
              "2                  0.0  ...                   1.0\n",
              "3                  0.0  ...                   0.0\n",
              "4                  0.0  ...                   0.0\n",
              "\n",
              "[5 rows x 34 columns]"
            ]
          },
          "metadata": {
            "tags": []
          },
          "execution_count": 93
        }
      ]
    },
    {
      "cell_type": "code",
      "metadata": {
        "id": "LpSXF2E6ILhS"
      },
      "source": [
        "import pandas as pd\n",
        "data = pd.read_csv('/content/sample_data/items.csv')"
      ],
      "execution_count": null,
      "outputs": []
    },
    {
      "cell_type": "code",
      "metadata": {
        "colab": {
          "base_uri": "https://localhost:8080/",
          "height": 80
        },
        "id": "aW-I9NeCIlxl",
        "outputId": "47671504-ac22-4ed5-baff-a6b6ae7ad3d0"
      },
      "source": [
        "data[:1]"
      ],
      "execution_count": null,
      "outputs": [
        {
          "output_type": "execute_result",
          "data": {
            "text/html": [
              "<div>\n",
              "<style scoped>\n",
              "    .dataframe tbody tr th:only-of-type {\n",
              "        vertical-align: middle;\n",
              "    }\n",
              "\n",
              "    .dataframe tbody tr th {\n",
              "        vertical-align: top;\n",
              "    }\n",
              "\n",
              "    .dataframe thead th {\n",
              "        text-align: right;\n",
              "    }\n",
              "</style>\n",
              "<table border=\"1\" class=\"dataframe\">\n",
              "  <thead>\n",
              "    <tr style=\"text-align: right;\">\n",
              "      <th></th>\n",
              "      <th>item_name</th>\n",
              "      <th>item_id</th>\n",
              "      <th>item_category_id</th>\n",
              "    </tr>\n",
              "  </thead>\n",
              "  <tbody>\n",
              "    <tr>\n",
              "      <th>0</th>\n",
              "      <td>! ВО ВЛАСТИ НАВАЖДЕНИЯ (ПЛАСТ.)         D</td>\n",
              "      <td>0</td>\n",
              "      <td>40</td>\n",
              "    </tr>\n",
              "  </tbody>\n",
              "</table>\n",
              "</div>"
            ],
            "text/plain": [
              "                                   item_name  item_id  item_category_id\n",
              "0  ! ВО ВЛАСТИ НАВАЖДЕНИЯ (ПЛАСТ.)         D        0                40"
            ]
          },
          "metadata": {
            "tags": []
          },
          "execution_count": 6
        }
      ]
    },
    {
      "cell_type": "code",
      "metadata": {
        "id": "XVNoyPOcIy2S"
      },
      "source": [
        " import numpy as np\n",
        " X_train_monthly = np.expand_dims(data[:1].values[:,:-2],axis = 2)"
      ],
      "execution_count": null,
      "outputs": []
    },
    {
      "cell_type": "code",
      "metadata": {
        "colab": {
          "base_uri": "https://localhost:8080/"
        },
        "id": "ryD9W0mUJgAS",
        "outputId": "4f18b749-5af1-4865-d770-e0b181b39afd"
      },
      "source": [
        "data[:1].values"
      ],
      "execution_count": null,
      "outputs": [
        {
          "output_type": "execute_result",
          "data": {
            "text/plain": [
              "array([['! ВО ВЛАСТИ НАВАЖДЕНИЯ (ПЛАСТ.)         D', 0, 40]], dtype=object)"
            ]
          },
          "metadata": {
            "tags": []
          },
          "execution_count": 14
        }
      ]
    },
    {
      "cell_type": "code",
      "metadata": {
        "colab": {
          "base_uri": "https://localhost:8080/"
        },
        "id": "M3DxjK3lJAx9",
        "outputId": "d21dae4f-b05f-4efe-ea30-0997bdf2e884"
      },
      "source": [
        "X_train_monthly"
      ],
      "execution_count": null,
      "outputs": [
        {
          "output_type": "execute_result",
          "data": {
            "text/plain": [
              "array([[['! ВО ВЛАСТИ НАВАЖДЕНИЯ (ПЛАСТ.)         D']]], dtype=object)"
            ]
          },
          "metadata": {
            "tags": []
          },
          "execution_count": 13
        }
      ]
    },
    {
      "cell_type": "code",
      "metadata": {
        "colab": {
          "base_uri": "https://localhost:8080/"
        },
        "id": "oFJPktPBJme3",
        "outputId": "f5961a6e-3eb8-4ea2-bbdc-3de986515811"
      },
      "source": [
        "y = data[:1].values[:,-2:-1]\n",
        "y"
      ],
      "execution_count": null,
      "outputs": [
        {
          "output_type": "execute_result",
          "data": {
            "text/plain": [
              "array([[0]], dtype=object)"
            ]
          },
          "metadata": {
            "tags": []
          },
          "execution_count": 16
        }
      ]
    },
    {
      "cell_type": "code",
      "metadata": {
        "colab": {
          "base_uri": "https://localhost:8080/"
        },
        "id": "czd9_zTuJv65",
        "outputId": "a04add7a-8b8b-4532-dc57-ff87d5600140"
      },
      "source": [
        "test = np.expand_dims(data[:1].values[:,1:-1],axis = 2)\n",
        "test"
      ],
      "execution_count": null,
      "outputs": [
        {
          "output_type": "execute_result",
          "data": {
            "text/plain": [
              "array([[[0]]], dtype=object)"
            ]
          },
          "metadata": {
            "tags": []
          },
          "execution_count": 17
        }
      ]
    },
    {
      "cell_type": "code",
      "metadata": {
        "id": "OmZ4JjZGJ_Dv"
      },
      "source": [
        "y_test = data[:1].values[:,-1]\n",
        "y_test"
      ],
      "execution_count": null,
      "outputs": []
    },
    {
      "cell_type": "code",
      "metadata": {
        "colab": {
          "base_uri": "https://localhost:8080/"
        },
        "id": "6TNjWZVMPlmR",
        "outputId": "6e447b74-f2f2-4c1e-c7f1-e27cb9ebd4a2"
      },
      "source": [
        "# X we will keep all columns execpt the last one \n",
        "X_train_monthly = np.expand_dims(all_data_monthly.values[:,:-2],axis = 2)\n",
        "# the last column is our label\n",
        "y_train_monthly = all_data_monthly.values[:,-2:-1]\n",
        "\n",
        "# for test we keep all the columns execpt the first one\n",
        "X_test_monthly = np.expand_dims(all_data_monthly.values[:,1:-1],axis = 2)\n",
        "y_test_monthly = all_data_monthly.values[:,-1]\n",
        "# lets have a look on the shape \n",
        "print(X_train_monthly.shape,y_train_monthly.shape,X_test_monthly.shape, y_test_monthly.shape)\n"
      ],
      "execution_count": null,
      "outputs": [
        {
          "output_type": "stream",
          "text": [
            "(214200, 32, 1) (214200, 1) (214200, 32, 1) (214200,)\n"
          ],
          "name": "stdout"
        }
      ]
    },
    {
      "cell_type": "markdown",
      "metadata": {
        "id": "73OADhq2SHXC"
      },
      "source": [
        "# apply LSTM model"
      ]
    },
    {
      "cell_type": "code",
      "metadata": {
        "id": "lssFRmeIQmPk"
      },
      "source": [
        "# importing libraries required for our model\n",
        "from keras import optimizers\n",
        "from keras.utils import plot_model\n",
        "from keras.models import Sequential, Model\n",
        "from keras.layers.convolutional import Conv1D, MaxPooling1D\n",
        "from keras.layers import Dense, LSTM, RepeatVector, TimeDistributed, Flatten, Dropout\n",
        "from sklearn.metrics import mean_squared_error\n",
        "from sklearn.model_selection import train_test_split"
      ],
      "execution_count": null,
      "outputs": []
    },
    {
      "cell_type": "code",
      "metadata": {
        "colab": {
          "base_uri": "https://localhost:8080/"
        },
        "id": "1kFrPSFgQqxs",
        "outputId": "90c6bf86-6997-4f8b-87c9-23ca3c690ec4"
      },
      "source": [
        "# our defining our model \n",
        "model_lstm = Sequential()\n",
        "model_lstm.add(LSTM(units = 64,input_shape = (X_train_monthly.shape[1], X_train_monthly.shape[2])))\n",
        "model_lstm.add(Dropout(0.4))\n",
        "model_lstm.add(Dense(1))\n",
        "\n",
        "model_lstm.compile(loss = 'mse',optimizer = 'adam', metrics = ['mean_squared_error'])\n",
        "model_lstm.summary()\n"
      ],
      "execution_count": null,
      "outputs": [
        {
          "output_type": "stream",
          "text": [
            "Model: \"sequential\"\n",
            "_________________________________________________________________\n",
            "Layer (type)                 Output Shape              Param #   \n",
            "=================================================================\n",
            "lstm (LSTM)                  (None, 64)                16896     \n",
            "_________________________________________________________________\n",
            "dropout (Dropout)            (None, 64)                0         \n",
            "_________________________________________________________________\n",
            "dense (Dense)                (None, 1)                 65        \n",
            "=================================================================\n",
            "Total params: 16,961\n",
            "Trainable params: 16,961\n",
            "Non-trainable params: 0\n",
            "_________________________________________________________________\n"
          ],
          "name": "stdout"
        }
      ]
    },
    {
      "cell_type": "code",
      "metadata": {
        "colab": {
          "base_uri": "https://localhost:8080/"
        },
        "id": "lgjjyuEQQ1ss",
        "outputId": "0b4084a5-f17e-4bdf-a3c4-60252483d0cb"
      },
      "source": [
        "history_lstm = model_lstm.fit(X_train_monthly,y_train_monthly,batch_size = 4096,epochs = 10)"
      ],
      "execution_count": null,
      "outputs": [
        {
          "output_type": "stream",
          "text": [
            "Epoch 1/10\n",
            "53/53 [==============================] - 34s 637ms/step - loss: 6.0020 - mean_squared_error: 6.0020\n",
            "Epoch 2/10\n",
            "53/53 [==============================] - 34s 636ms/step - loss: 5.7216 - mean_squared_error: 5.7216\n",
            "Epoch 3/10\n",
            "53/53 [==============================] - 37s 701ms/step - loss: 5.5730 - mean_squared_error: 5.5730\n",
            "Epoch 4/10\n",
            "53/53 [==============================] - 34s 633ms/step - loss: 5.4741 - mean_squared_error: 5.4741\n",
            "Epoch 5/10\n",
            "53/53 [==============================] - 33s 632ms/step - loss: 5.3592 - mean_squared_error: 5.3592\n",
            "Epoch 6/10\n",
            "53/53 [==============================] - 35s 655ms/step - loss: 5.3530 - mean_squared_error: 5.3530\n",
            "Epoch 7/10\n",
            "53/53 [==============================] - 34s 637ms/step - loss: 5.2915 - mean_squared_error: 5.2915\n",
            "Epoch 8/10\n",
            "53/53 [==============================] - 33s 628ms/step - loss: 5.2092 - mean_squared_error: 5.2092\n",
            "Epoch 9/10\n",
            "53/53 [==============================] - 33s 625ms/step - loss: 5.2078 - mean_squared_error: 5.2078\n",
            "Epoch 10/10\n",
            "53/53 [==============================] - 35s 669ms/step - loss: 5.1233 - mean_squared_error: 5.1233\n"
          ],
          "name": "stdout"
        }
      ]
    },
    {
      "cell_type": "code",
      "metadata": {
        "colab": {
          "base_uri": "https://localhost:8080/",
          "height": 282
        },
        "id": "4zixizIhQ_Dm",
        "outputId": "d2627717-e093-4cbb-c8eb-51505a2954f5"
      },
      "source": [
        "# Plot the loss curves for training\n",
        "plt.plot(history_lstm.history['loss'], color='b', label=\"Training loss\")\n",
        "plt.legend(loc='best', shadow=True)"
      ],
      "execution_count": null,
      "outputs": [
        {
          "output_type": "execute_result",
          "data": {
            "text/plain": [
              "<matplotlib.legend.Legend at 0x7f264b4fc240>"
            ]
          },
          "metadata": {
            "tags": []
          },
          "execution_count": 98
        },
        {
          "output_type": "display_data",
          "data": {
            "image/png": "[encoded data removed]",
            "text/plain": [
              "<Figure size 432x288 with 1 Axes>"
            ]
          },
          "metadata": {
            "tags": [],
            "needs_background": "light"
          }
        }
      ]
    },
    {
      "cell_type": "code",
      "metadata": {
        "id": "vYOAt12fRIqa"
      },
      "source": [
        "y_predict = model_lstm.predict(X_test_monthly)"
      ],
      "execution_count": null,
      "outputs": []
    },
    {
      "cell_type": "markdown",
      "metadata": {
        "id": "O7lpWDb4Tutp"
      },
      "source": [
        "# result of LSTM model(monthly)"
      ]
    },
    {
      "cell_type": "code",
      "metadata": {
        "colab": {
          "base_uri": "https://localhost:8080/"
        },
        "id": "1nSpYtuIRQbi",
        "outputId": "6452ac38-9370-491d-f340-28894e1e5a30"
      },
      "source": [
        "import math\n",
        "from sklearn.metrics import mean_squared_error\n",
        "from sklearn.metrics import r2_score\n",
        "from sklearn.metrics import mean_absolute_error\n",
        "\n",
        "test_rmse = math.sqrt(mean_squared_error(y_test_monthly, y_predict))\n",
        "test_r2 = r2_score(y_test_monthly, y_predict)\n",
        "test_mae = mean_absolute_error(y_test_monthly, y_predict)\n",
        "\n",
        "print('Test Score_RMSE:')\n",
        "print(test_rmse)\n",
        "print('Test Score_R2:')\n",
        "print(test_r2)\n",
        "print('Test Score_MAE:')\n",
        "print(test_mae)"
      ],
      "execution_count": null,
      "outputs": [
        {
          "output_type": "stream",
          "text": [
            "Test Score_RMSE:\n",
            "2.4689664558630273\n",
            "Test Score_R2:\n",
            "0.14824251388707255\n",
            "Test Score_MAE:\n",
            "0.36879874218752684\n"
          ],
          "name": "stdout"
        }
      ]
    },
    {
      "cell_type": "markdown",
      "metadata": {
        "id": "95cg_T1MSOBD"
      },
      "source": [
        "# apply CNN model on monthly_sale"
      ]
    },
    {
      "cell_type": "code",
      "metadata": {
        "colab": {
          "base_uri": "https://localhost:8080/"
        },
        "id": "dd4r715TSXh3",
        "outputId": "2bc4e3ac-3411-46d7-9eaf-4a090874aaf4"
      },
      "source": [
        "adam = optimizers.Adam()\n",
        "model_cnn = Sequential()\n",
        "model_cnn.add(Conv1D(filters=64, kernel_size=2, activation='relu', input_shape=(X_train_monthly.shape[1], X_train_monthly.shape[2])))\n",
        "model_cnn.add(MaxPooling1D(pool_size=2))\n",
        "model_cnn.add(Flatten())\n",
        "model_cnn.add(Dense(50, activation='relu'))\n",
        "model_cnn.add(Dense(1))\n",
        "model_cnn.compile(loss='mse', optimizer=adam)\n",
        "model_cnn.summary()"
      ],
      "execution_count": null,
      "outputs": [
        {
          "output_type": "stream",
          "text": [
            "Model: \"sequential_1\"\n",
            "_________________________________________________________________\n",
            "Layer (type)                 Output Shape              Param #   \n",
            "=================================================================\n",
            "conv1d (Conv1D)              (None, 31, 64)            192       \n",
            "_________________________________________________________________\n",
            "max_pooling1d (MaxPooling1D) (None, 15, 64)            0         \n",
            "_________________________________________________________________\n",
            "flatten (Flatten)            (None, 960)               0         \n",
            "_________________________________________________________________\n",
            "dense_1 (Dense)              (None, 50)                48050     \n",
            "_________________________________________________________________\n",
            "dense_2 (Dense)              (None, 1)                 51        \n",
            "=================================================================\n",
            "Total params: 48,293\n",
            "Trainable params: 48,293\n",
            "Non-trainable params: 0\n",
            "_________________________________________________________________\n"
          ],
          "name": "stdout"
        }
      ]
    },
    {
      "cell_type": "code",
      "metadata": {
        "colab": {
          "base_uri": "https://localhost:8080/"
        },
        "id": "6ToKu6aWSose",
        "outputId": "ede2036b-5a78-46b0-ad61-7b8d60221fce"
      },
      "source": [
        "cnn_history = model_cnn.fit(X_train_monthly, y_train_monthly, epochs=10, verbose=2)"
      ],
      "execution_count": null,
      "outputs": [
        {
          "output_type": "stream",
          "text": [
            "Epoch 1/10\n",
            "6694/6694 - 15s - loss: 5.1457\n",
            "Epoch 2/10\n",
            "6694/6694 - 16s - loss: 3.5638\n",
            "Epoch 3/10\n",
            "6694/6694 - 15s - loss: 3.1914\n",
            "Epoch 4/10\n",
            "6694/6694 - 14s - loss: 2.8779\n",
            "Epoch 5/10\n",
            "6694/6694 - 15s - loss: 2.5179\n",
            "Epoch 6/10\n",
            "6694/6694 - 15s - loss: 2.3344\n",
            "Epoch 7/10\n",
            "6694/6694 - 15s - loss: 2.9285\n",
            "Epoch 8/10\n",
            "6694/6694 - 16s - loss: 2.5501\n",
            "Epoch 9/10\n",
            "6694/6694 - 14s - loss: 2.5029\n",
            "Epoch 10/10\n",
            "6694/6694 - 14s - loss: 2.9098\n"
          ],
          "name": "stdout"
        }
      ]
    },
    {
      "cell_type": "code",
      "metadata": {
        "colab": {
          "base_uri": "https://localhost:8080/",
          "height": 282
        },
        "id": "UUh8PnBaTUPV",
        "outputId": "eb939b0f-a4fe-48ab-dfe4-c3d79f97cd87"
      },
      "source": [
        "plt.plot(cnn_history.history['loss'], color='b', label=\"Training loss\")\n",
        "plt.legend(loc='best', shadow=True)"
      ],
      "execution_count": null,
      "outputs": [
        {
          "output_type": "execute_result",
          "data": {
            "text/plain": [
              "<matplotlib.legend.Legend at 0x7f26481dee80>"
            ]
          },
          "metadata": {
            "tags": []
          },
          "execution_count": 103
        },
        {
          "output_type": "display_data",
          "data": {
            "image/png": "[encoded data removed]",
            "text/plain": [
              "<Figure size 432x288 with 1 Axes>"
            ]
          },
          "metadata": {
            "tags": [],
            "needs_background": "light"
          }
        }
      ]
    },
    {
      "cell_type": "code",
      "metadata": {
        "id": "9qDKVhdcS_uF"
      },
      "source": [
        "y_predict = model_cnn.predict(X_test_monthly)"
      ],
      "execution_count": null,
      "outputs": []
    },
    {
      "cell_type": "markdown",
      "metadata": {
        "id": "-xADs5inTonP"
      },
      "source": [
        "# result of CNN model(monthly)"
      ]
    },
    {
      "cell_type": "code",
      "metadata": {
        "colab": {
          "base_uri": "https://localhost:8080/"
        },
        "id": "FTFpr0goTJH_",
        "outputId": "d37f6518-a9c8-4d22-926f-456344f77687"
      },
      "source": [
        "import math\n",
        "from sklearn.metrics import mean_squared_error\n",
        "from sklearn.metrics import r2_score\n",
        "from sklearn.metrics import mean_absolute_error\n",
        "\n",
        "test_rmse = math.sqrt(mean_squared_error(y_test_monthly, y_predict))\n",
        "test_r2 = r2_score(y_test_monthly, y_predict)\n",
        "test_mae = mean_absolute_error(y_test_monthly, y_predict)\n",
        "\n",
        "print('Test Score_RMSE:')\n",
        "print(test_rmse)\n",
        "print('Test Score_R2:')\n",
        "print(test_r2)\n",
        "print('Test Score_MAE:')\n",
        "print(test_mae)"
      ],
      "execution_count": null,
      "outputs": [
        {
          "output_type": "stream",
          "text": [
            "Test Score_RMSE:\n",
            "1.8256345676675703\n",
            "Test Score_R2:\n",
            "0.534292447620214\n",
            "Test Score_MAE:\n",
            "0.4639810850207601\n"
          ],
          "name": "stdout"
        }
      ]
    },
    {
      "cell_type": "markdown",
      "metadata": {
        "id": "kWDQr57fT7SA"
      },
      "source": [
        "# creat the final train dataset for weekly"
      ]
    },
    {
      "cell_type": "code",
      "metadata": {
        "id": "c4FLHKkXUMzm"
      },
      "source": [
        "all_data_weekly.drop(['ID','shop_id','item_id'],inplace = True, axis = 1)"
      ],
      "execution_count": null,
      "outputs": []
    },
    {
      "cell_type": "code",
      "metadata": {
        "colab": {
          "base_uri": "https://localhost:8080/",
          "height": 270
        },
        "id": "IR8rD2AHUOiV",
        "outputId": "30e3133d-3c23-4631-cd92-d183e9c44356"
      },
      "source": [
        "all_data_weekly.head()"
      ],
      "execution_count": null,
      "outputs": [
        {
          "output_type": "execute_result",
          "data": {
            "text/html": [
              "<div>\n",
              "<style scoped>\n",
              "    .dataframe tbody tr th:only-of-type {\n",
              "        vertical-align: middle;\n",
              "    }\n",
              "\n",
              "    .dataframe tbody tr th {\n",
              "        vertical-align: top;\n",
              "    }\n",
              "\n",
              "    .dataframe thead th {\n",
              "        text-align: right;\n",
              "    }\n",
              "</style>\n",
              "<table border=\"1\" class=\"dataframe\">\n",
              "  <thead>\n",
              "    <tr style=\"text-align: right;\">\n",
              "      <th></th>\n",
              "      <th>(item_cnt_weekly, 1)</th>\n",
              "      <th>(item_cnt_weekly, 2)</th>\n",
              "      <th>(item_cnt_weekly, 3)</th>\n",
              "      <th>(item_cnt_weekly, 4)</th>\n",
              "      <th>(item_cnt_weekly, 5)</th>\n",
              "      <th>(item_cnt_weekly, 6)</th>\n",
              "      <th>(item_cnt_weekly, 7)</th>\n",
              "      <th>(item_cnt_weekly, 8)</th>\n",
              "      <th>(item_cnt_weekly, 9)</th>\n",
              "      <th>(item_cnt_weekly, 10)</th>\n",
              "      <th>(item_cnt_weekly, 11)</th>\n",
              "      <th>(item_cnt_weekly, 12)</th>\n",
              "      <th>(item_cnt_weekly, 13)</th>\n",
              "      <th>(item_cnt_weekly, 14)</th>\n",
              "      <th>(item_cnt_weekly, 15)</th>\n",
              "      <th>(item_cnt_weekly, 16)</th>\n",
              "      <th>(item_cnt_weekly, 17)</th>\n",
              "      <th>(item_cnt_weekly, 18)</th>\n",
              "      <th>(item_cnt_weekly, 19)</th>\n",
              "      <th>(item_cnt_weekly, 20)</th>\n",
              "      <th>(item_cnt_weekly, 21)</th>\n",
              "      <th>(item_cnt_weekly, 22)</th>\n",
              "      <th>(item_cnt_weekly, 23)</th>\n",
              "      <th>(item_cnt_weekly, 24)</th>\n",
              "      <th>(item_cnt_weekly, 25)</th>\n",
              "      <th>(item_cnt_weekly, 26)</th>\n",
              "      <th>(item_cnt_weekly, 27)</th>\n",
              "      <th>(item_cnt_weekly, 28)</th>\n",
              "      <th>(item_cnt_weekly, 29)</th>\n",
              "      <th>(item_cnt_weekly, 30)</th>\n",
              "      <th>(item_cnt_weekly, 31)</th>\n",
              "      <th>(item_cnt_weekly, 32)</th>\n",
              "      <th>(item_cnt_weekly, 33)</th>\n",
              "      <th>(item_cnt_weekly, 34)</th>\n",
              "      <th>(item_cnt_weekly, 35)</th>\n",
              "      <th>(item_cnt_weekly, 36)</th>\n",
              "      <th>(item_cnt_weekly, 37)</th>\n",
              "      <th>(item_cnt_weekly, 38)</th>\n",
              "      <th>(item_cnt_weekly, 39)</th>\n",
              "      <th>(item_cnt_weekly, 40)</th>\n",
              "      <th>...</th>\n",
              "      <th>(item_cnt_weekly, 109)</th>\n",
              "      <th>(item_cnt_weekly, 110)</th>\n",
              "      <th>(item_cnt_weekly, 111)</th>\n",
              "      <th>(item_cnt_weekly, 112)</th>\n",
              "      <th>(item_cnt_weekly, 113)</th>\n",
              "      <th>(item_cnt_weekly, 114)</th>\n",
              "      <th>(item_cnt_weekly, 115)</th>\n",
              "      <th>(item_cnt_weekly, 116)</th>\n",
              "      <th>(item_cnt_weekly, 117)</th>\n",
              "      <th>(item_cnt_weekly, 118)</th>\n",
              "      <th>(item_cnt_weekly, 119)</th>\n",
              "      <th>(item_cnt_weekly, 120)</th>\n",
              "      <th>(item_cnt_weekly, 121)</th>\n",
              "      <th>(item_cnt_weekly, 122)</th>\n",
              "      <th>(item_cnt_weekly, 123)</th>\n",
              "      <th>(item_cnt_weekly, 124)</th>\n",
              "      <th>(item_cnt_weekly, 125)</th>\n",
              "      <th>(item_cnt_weekly, 126)</th>\n",
              "      <th>(item_cnt_weekly, 127)</th>\n",
              "      <th>(item_cnt_weekly, 128)</th>\n",
              "      <th>(item_cnt_weekly, 129)</th>\n",
              "      <th>(item_cnt_weekly, 130)</th>\n",
              "      <th>(item_cnt_weekly, 131)</th>\n",
              "      <th>(item_cnt_weekly, 132)</th>\n",
              "      <th>(item_cnt_weekly, 133)</th>\n",
              "      <th>(item_cnt_weekly, 134)</th>\n",
              "      <th>(item_cnt_weekly, 135)</th>\n",
              "      <th>(item_cnt_weekly, 136)</th>\n",
              "      <th>(item_cnt_weekly, 137)</th>\n",
              "      <th>(item_cnt_weekly, 138)</th>\n",
              "      <th>(item_cnt_weekly, 139)</th>\n",
              "      <th>(item_cnt_weekly, 140)</th>\n",
              "      <th>(item_cnt_weekly, 141)</th>\n",
              "      <th>(item_cnt_weekly, 142)</th>\n",
              "      <th>(item_cnt_weekly, 143)</th>\n",
              "      <th>(item_cnt_weekly, 144)</th>\n",
              "      <th>(item_cnt_weekly, 145)</th>\n",
              "      <th>(item_cnt_weekly, 146)</th>\n",
              "      <th>(item_cnt_weekly, 147)</th>\n",
              "      <th>(item_cnt_weekly, 148)</th>\n",
              "    </tr>\n",
              "  </thead>\n",
              "  <tbody>\n",
              "    <tr>\n",
              "      <th>0</th>\n",
              "      <td>0.0</td>\n",
              "      <td>0.0</td>\n",
              "      <td>0.0</td>\n",
              "      <td>0.0</td>\n",
              "      <td>0.0</td>\n",
              "      <td>0.0</td>\n",
              "      <td>0.0</td>\n",
              "      <td>0.0</td>\n",
              "      <td>0.0</td>\n",
              "      <td>0.0</td>\n",
              "      <td>0.0</td>\n",
              "      <td>0.0</td>\n",
              "      <td>0.0</td>\n",
              "      <td>0.0</td>\n",
              "      <td>0.0</td>\n",
              "      <td>0.0</td>\n",
              "      <td>0.0</td>\n",
              "      <td>0.0</td>\n",
              "      <td>0.0</td>\n",
              "      <td>0.0</td>\n",
              "      <td>0.0</td>\n",
              "      <td>0.0</td>\n",
              "      <td>0.0</td>\n",
              "      <td>0.0</td>\n",
              "      <td>0.0</td>\n",
              "      <td>0.0</td>\n",
              "      <td>0.0</td>\n",
              "      <td>0.0</td>\n",
              "      <td>0.0</td>\n",
              "      <td>0.0</td>\n",
              "      <td>0.0</td>\n",
              "      <td>0.0</td>\n",
              "      <td>0.0</td>\n",
              "      <td>0.0</td>\n",
              "      <td>0.0</td>\n",
              "      <td>0.0</td>\n",
              "      <td>0.0</td>\n",
              "      <td>0.0</td>\n",
              "      <td>0.0</td>\n",
              "      <td>0.0</td>\n",
              "      <td>...</td>\n",
              "      <td>0.0</td>\n",
              "      <td>0.0</td>\n",
              "      <td>0.0</td>\n",
              "      <td>0.0</td>\n",
              "      <td>0.0</td>\n",
              "      <td>0.0</td>\n",
              "      <td>0.0</td>\n",
              "      <td>0.0</td>\n",
              "      <td>0.0</td>\n",
              "      <td>0.0</td>\n",
              "      <td>0.0</td>\n",
              "      <td>0.0</td>\n",
              "      <td>0.0</td>\n",
              "      <td>0.0</td>\n",
              "      <td>0.0</td>\n",
              "      <td>0.0</td>\n",
              "      <td>0.0</td>\n",
              "      <td>1.0</td>\n",
              "      <td>0.0</td>\n",
              "      <td>0.0</td>\n",
              "      <td>0.0</td>\n",
              "      <td>1.0</td>\n",
              "      <td>1.0</td>\n",
              "      <td>0.0</td>\n",
              "      <td>0.0</td>\n",
              "      <td>0.0</td>\n",
              "      <td>0.0</td>\n",
              "      <td>0.0</td>\n",
              "      <td>1.0</td>\n",
              "      <td>1.0</td>\n",
              "      <td>0.0</td>\n",
              "      <td>2.0</td>\n",
              "      <td>0.0</td>\n",
              "      <td>0.0</td>\n",
              "      <td>0.0</td>\n",
              "      <td>0.0</td>\n",
              "      <td>0.0</td>\n",
              "      <td>0.0</td>\n",
              "      <td>0.0</td>\n",
              "      <td>0.0</td>\n",
              "    </tr>\n",
              "    <tr>\n",
              "      <th>1</th>\n",
              "      <td>0.0</td>\n",
              "      <td>0.0</td>\n",
              "      <td>0.0</td>\n",
              "      <td>0.0</td>\n",
              "      <td>0.0</td>\n",
              "      <td>0.0</td>\n",
              "      <td>0.0</td>\n",
              "      <td>0.0</td>\n",
              "      <td>0.0</td>\n",
              "      <td>0.0</td>\n",
              "      <td>0.0</td>\n",
              "      <td>0.0</td>\n",
              "      <td>0.0</td>\n",
              "      <td>0.0</td>\n",
              "      <td>0.0</td>\n",
              "      <td>0.0</td>\n",
              "      <td>0.0</td>\n",
              "      <td>0.0</td>\n",
              "      <td>0.0</td>\n",
              "      <td>0.0</td>\n",
              "      <td>0.0</td>\n",
              "      <td>0.0</td>\n",
              "      <td>0.0</td>\n",
              "      <td>0.0</td>\n",
              "      <td>0.0</td>\n",
              "      <td>0.0</td>\n",
              "      <td>0.0</td>\n",
              "      <td>0.0</td>\n",
              "      <td>0.0</td>\n",
              "      <td>0.0</td>\n",
              "      <td>0.0</td>\n",
              "      <td>0.0</td>\n",
              "      <td>0.0</td>\n",
              "      <td>0.0</td>\n",
              "      <td>0.0</td>\n",
              "      <td>0.0</td>\n",
              "      <td>0.0</td>\n",
              "      <td>0.0</td>\n",
              "      <td>0.0</td>\n",
              "      <td>0.0</td>\n",
              "      <td>...</td>\n",
              "      <td>0.0</td>\n",
              "      <td>0.0</td>\n",
              "      <td>0.0</td>\n",
              "      <td>0.0</td>\n",
              "      <td>0.0</td>\n",
              "      <td>0.0</td>\n",
              "      <td>0.0</td>\n",
              "      <td>0.0</td>\n",
              "      <td>0.0</td>\n",
              "      <td>0.0</td>\n",
              "      <td>0.0</td>\n",
              "      <td>0.0</td>\n",
              "      <td>0.0</td>\n",
              "      <td>0.0</td>\n",
              "      <td>0.0</td>\n",
              "      <td>0.0</td>\n",
              "      <td>0.0</td>\n",
              "      <td>0.0</td>\n",
              "      <td>0.0</td>\n",
              "      <td>0.0</td>\n",
              "      <td>0.0</td>\n",
              "      <td>0.0</td>\n",
              "      <td>0.0</td>\n",
              "      <td>0.0</td>\n",
              "      <td>0.0</td>\n",
              "      <td>0.0</td>\n",
              "      <td>0.0</td>\n",
              "      <td>0.0</td>\n",
              "      <td>0.0</td>\n",
              "      <td>0.0</td>\n",
              "      <td>0.0</td>\n",
              "      <td>0.0</td>\n",
              "      <td>0.0</td>\n",
              "      <td>0.0</td>\n",
              "      <td>0.0</td>\n",
              "      <td>0.0</td>\n",
              "      <td>0.0</td>\n",
              "      <td>0.0</td>\n",
              "      <td>0.0</td>\n",
              "      <td>0.0</td>\n",
              "    </tr>\n",
              "    <tr>\n",
              "      <th>2</th>\n",
              "      <td>0.0</td>\n",
              "      <td>0.0</td>\n",
              "      <td>0.0</td>\n",
              "      <td>0.0</td>\n",
              "      <td>0.0</td>\n",
              "      <td>0.0</td>\n",
              "      <td>0.0</td>\n",
              "      <td>0.0</td>\n",
              "      <td>0.0</td>\n",
              "      <td>0.0</td>\n",
              "      <td>0.0</td>\n",
              "      <td>0.0</td>\n",
              "      <td>0.0</td>\n",
              "      <td>0.0</td>\n",
              "      <td>0.0</td>\n",
              "      <td>0.0</td>\n",
              "      <td>0.0</td>\n",
              "      <td>0.0</td>\n",
              "      <td>0.0</td>\n",
              "      <td>0.0</td>\n",
              "      <td>0.0</td>\n",
              "      <td>0.0</td>\n",
              "      <td>0.0</td>\n",
              "      <td>0.0</td>\n",
              "      <td>0.0</td>\n",
              "      <td>0.0</td>\n",
              "      <td>0.0</td>\n",
              "      <td>0.0</td>\n",
              "      <td>0.0</td>\n",
              "      <td>0.0</td>\n",
              "      <td>0.0</td>\n",
              "      <td>0.0</td>\n",
              "      <td>0.0</td>\n",
              "      <td>0.0</td>\n",
              "      <td>0.0</td>\n",
              "      <td>0.0</td>\n",
              "      <td>0.0</td>\n",
              "      <td>0.0</td>\n",
              "      <td>0.0</td>\n",
              "      <td>0.0</td>\n",
              "      <td>...</td>\n",
              "      <td>0.0</td>\n",
              "      <td>0.0</td>\n",
              "      <td>0.0</td>\n",
              "      <td>0.0</td>\n",
              "      <td>0.0</td>\n",
              "      <td>0.0</td>\n",
              "      <td>0.0</td>\n",
              "      <td>0.0</td>\n",
              "      <td>0.0</td>\n",
              "      <td>0.0</td>\n",
              "      <td>0.0</td>\n",
              "      <td>0.0</td>\n",
              "      <td>0.0</td>\n",
              "      <td>0.0</td>\n",
              "      <td>0.0</td>\n",
              "      <td>2.0</td>\n",
              "      <td>0.0</td>\n",
              "      <td>1.0</td>\n",
              "      <td>0.0</td>\n",
              "      <td>1.0</td>\n",
              "      <td>1.0</td>\n",
              "      <td>0.0</td>\n",
              "      <td>0.0</td>\n",
              "      <td>0.0</td>\n",
              "      <td>0.0</td>\n",
              "      <td>0.0</td>\n",
              "      <td>0.0</td>\n",
              "      <td>0.0</td>\n",
              "      <td>0.0</td>\n",
              "      <td>0.0</td>\n",
              "      <td>1.0</td>\n",
              "      <td>1.0</td>\n",
              "      <td>0.0</td>\n",
              "      <td>1.0</td>\n",
              "      <td>1.0</td>\n",
              "      <td>0.0</td>\n",
              "      <td>1.0</td>\n",
              "      <td>0.0</td>\n",
              "      <td>0.0</td>\n",
              "      <td>0.0</td>\n",
              "    </tr>\n",
              "    <tr>\n",
              "      <th>3</th>\n",
              "      <td>0.0</td>\n",
              "      <td>0.0</td>\n",
              "      <td>0.0</td>\n",
              "      <td>0.0</td>\n",
              "      <td>0.0</td>\n",
              "      <td>0.0</td>\n",
              "      <td>0.0</td>\n",
              "      <td>0.0</td>\n",
              "      <td>0.0</td>\n",
              "      <td>0.0</td>\n",
              "      <td>0.0</td>\n",
              "      <td>0.0</td>\n",
              "      <td>0.0</td>\n",
              "      <td>0.0</td>\n",
              "      <td>0.0</td>\n",
              "      <td>0.0</td>\n",
              "      <td>0.0</td>\n",
              "      <td>0.0</td>\n",
              "      <td>0.0</td>\n",
              "      <td>0.0</td>\n",
              "      <td>0.0</td>\n",
              "      <td>0.0</td>\n",
              "      <td>0.0</td>\n",
              "      <td>0.0</td>\n",
              "      <td>0.0</td>\n",
              "      <td>0.0</td>\n",
              "      <td>0.0</td>\n",
              "      <td>0.0</td>\n",
              "      <td>0.0</td>\n",
              "      <td>0.0</td>\n",
              "      <td>0.0</td>\n",
              "      <td>0.0</td>\n",
              "      <td>0.0</td>\n",
              "      <td>0.0</td>\n",
              "      <td>0.0</td>\n",
              "      <td>0.0</td>\n",
              "      <td>0.0</td>\n",
              "      <td>0.0</td>\n",
              "      <td>0.0</td>\n",
              "      <td>0.0</td>\n",
              "      <td>...</td>\n",
              "      <td>0.0</td>\n",
              "      <td>0.0</td>\n",
              "      <td>0.0</td>\n",
              "      <td>0.0</td>\n",
              "      <td>0.0</td>\n",
              "      <td>0.0</td>\n",
              "      <td>0.0</td>\n",
              "      <td>0.0</td>\n",
              "      <td>0.0</td>\n",
              "      <td>0.0</td>\n",
              "      <td>0.0</td>\n",
              "      <td>0.0</td>\n",
              "      <td>0.0</td>\n",
              "      <td>0.0</td>\n",
              "      <td>0.0</td>\n",
              "      <td>0.0</td>\n",
              "      <td>0.0</td>\n",
              "      <td>0.0</td>\n",
              "      <td>0.0</td>\n",
              "      <td>0.0</td>\n",
              "      <td>0.0</td>\n",
              "      <td>0.0</td>\n",
              "      <td>0.0</td>\n",
              "      <td>0.0</td>\n",
              "      <td>0.0</td>\n",
              "      <td>0.0</td>\n",
              "      <td>0.0</td>\n",
              "      <td>0.0</td>\n",
              "      <td>0.0</td>\n",
              "      <td>0.0</td>\n",
              "      <td>1.0</td>\n",
              "      <td>0.0</td>\n",
              "      <td>0.0</td>\n",
              "      <td>0.0</td>\n",
              "      <td>0.0</td>\n",
              "      <td>0.0</td>\n",
              "      <td>0.0</td>\n",
              "      <td>0.0</td>\n",
              "      <td>0.0</td>\n",
              "      <td>0.0</td>\n",
              "    </tr>\n",
              "    <tr>\n",
              "      <th>4</th>\n",
              "      <td>0.0</td>\n",
              "      <td>0.0</td>\n",
              "      <td>0.0</td>\n",
              "      <td>0.0</td>\n",
              "      <td>0.0</td>\n",
              "      <td>0.0</td>\n",
              "      <td>0.0</td>\n",
              "      <td>0.0</td>\n",
              "      <td>0.0</td>\n",
              "      <td>0.0</td>\n",
              "      <td>0.0</td>\n",
              "      <td>0.0</td>\n",
              "      <td>0.0</td>\n",
              "      <td>0.0</td>\n",
              "      <td>0.0</td>\n",
              "      <td>0.0</td>\n",
              "      <td>0.0</td>\n",
              "      <td>0.0</td>\n",
              "      <td>0.0</td>\n",
              "      <td>0.0</td>\n",
              "      <td>0.0</td>\n",
              "      <td>0.0</td>\n",
              "      <td>0.0</td>\n",
              "      <td>0.0</td>\n",
              "      <td>0.0</td>\n",
              "      <td>0.0</td>\n",
              "      <td>0.0</td>\n",
              "      <td>0.0</td>\n",
              "      <td>0.0</td>\n",
              "      <td>0.0</td>\n",
              "      <td>0.0</td>\n",
              "      <td>0.0</td>\n",
              "      <td>0.0</td>\n",
              "      <td>0.0</td>\n",
              "      <td>0.0</td>\n",
              "      <td>0.0</td>\n",
              "      <td>0.0</td>\n",
              "      <td>0.0</td>\n",
              "      <td>0.0</td>\n",
              "      <td>0.0</td>\n",
              "      <td>...</td>\n",
              "      <td>0.0</td>\n",
              "      <td>0.0</td>\n",
              "      <td>0.0</td>\n",
              "      <td>0.0</td>\n",
              "      <td>0.0</td>\n",
              "      <td>0.0</td>\n",
              "      <td>0.0</td>\n",
              "      <td>0.0</td>\n",
              "      <td>0.0</td>\n",
              "      <td>0.0</td>\n",
              "      <td>0.0</td>\n",
              "      <td>0.0</td>\n",
              "      <td>0.0</td>\n",
              "      <td>0.0</td>\n",
              "      <td>0.0</td>\n",
              "      <td>0.0</td>\n",
              "      <td>0.0</td>\n",
              "      <td>0.0</td>\n",
              "      <td>0.0</td>\n",
              "      <td>0.0</td>\n",
              "      <td>0.0</td>\n",
              "      <td>0.0</td>\n",
              "      <td>0.0</td>\n",
              "      <td>0.0</td>\n",
              "      <td>0.0</td>\n",
              "      <td>0.0</td>\n",
              "      <td>0.0</td>\n",
              "      <td>0.0</td>\n",
              "      <td>0.0</td>\n",
              "      <td>0.0</td>\n",
              "      <td>0.0</td>\n",
              "      <td>0.0</td>\n",
              "      <td>0.0</td>\n",
              "      <td>0.0</td>\n",
              "      <td>0.0</td>\n",
              "      <td>0.0</td>\n",
              "      <td>0.0</td>\n",
              "      <td>0.0</td>\n",
              "      <td>0.0</td>\n",
              "      <td>0.0</td>\n",
              "    </tr>\n",
              "  </tbody>\n",
              "</table>\n",
              "<p>5 rows × 148 columns</p>\n",
              "</div>"
            ],
            "text/plain": [
              "   (item_cnt_weekly, 1)  ...  (item_cnt_weekly, 148)\n",
              "0                   0.0  ...                     0.0\n",
              "1                   0.0  ...                     0.0\n",
              "2                   0.0  ...                     0.0\n",
              "3                   0.0  ...                     0.0\n",
              "4                   0.0  ...                     0.0\n",
              "\n",
              "[5 rows x 148 columns]"
            ]
          },
          "metadata": {
            "tags": []
          },
          "execution_count": 107
        }
      ]
    },
    {
      "cell_type": "code",
      "metadata": {
        "colab": {
          "base_uri": "https://localhost:8080/"
        },
        "id": "N3XFuFN-Ub-D",
        "outputId": "51da0970-4230-4c55-d01b-ca1c706dcb3b"
      },
      "source": [
        "# X we will keep all columns execpt the last one \n",
        "X_train_weekly = np.expand_dims(all_data_weekly.values[:,:-2],axis = 2)\n",
        "# the last column is our label\n",
        "y_train_weekly = all_data_weekly.values[:,-2:-1]\n",
        "\n",
        "# for test we keep all the columns execpt the first one\n",
        "X_test_weekly = np.expand_dims(all_data_weekly.values[:,1:-1],axis = 2)\n",
        "y_test_weekly = all_data_weekly.values[:,-1]\n",
        "# lets have a look on the shape \n",
        "print(X_train_weekly.shape,y_train_weekly.shape,X_test_weekly.shape, y_test_weekly.shape)\n"
      ],
      "execution_count": null,
      "outputs": [
        {
          "output_type": "stream",
          "text": [
            "(214200, 146, 1) (214200, 1) (214200, 146, 1) (214200,)\n"
          ],
          "name": "stdout"
        }
      ]
    },
    {
      "cell_type": "markdown",
      "metadata": {
        "id": "uyRzwlEIVB0i"
      },
      "source": [
        "# apply LSTM on weekly"
      ]
    },
    {
      "cell_type": "code",
      "metadata": {
        "colab": {
          "base_uri": "https://localhost:8080/"
        },
        "id": "-Kf2mlEUVETf",
        "outputId": "13b4b382-da97-425a-bf5a-2d61618c845b"
      },
      "source": [
        "# our defining our model \n",
        "model_lstm1 = Sequential()\n",
        "model_lstm1.add(LSTM(units = 64,input_shape = (X_train_weekly.shape[1], X_train_weekly.shape[2])))\n",
        "model_lstm1.add(Dropout(0.4))\n",
        "model_lstm1.add(Dense(1))\n",
        "\n",
        "model_lstm1.compile(loss = 'mse',optimizer = 'adam', metrics = ['mean_squared_error'])\n",
        "model_lstm1.summary()"
      ],
      "execution_count": null,
      "outputs": [
        {
          "output_type": "stream",
          "text": [
            "Model: \"sequential_2\"\n",
            "_________________________________________________________________\n",
            "Layer (type)                 Output Shape              Param #   \n",
            "=================================================================\n",
            "lstm_1 (LSTM)                (None, 64)                16896     \n",
            "_________________________________________________________________\n",
            "dropout_1 (Dropout)          (None, 64)                0         \n",
            "_________________________________________________________________\n",
            "dense_3 (Dense)              (None, 1)                 65        \n",
            "=================================================================\n",
            "Total params: 16,961\n",
            "Trainable params: 16,961\n",
            "Non-trainable params: 0\n",
            "_________________________________________________________________\n"
          ],
          "name": "stdout"
        }
      ]
    },
    {
      "cell_type": "code",
      "metadata": {
        "colab": {
          "base_uri": "https://localhost:8080/"
        },
        "id": "qVj-9D2lU9vq",
        "outputId": "5f6e93c4-83e9-4ac0-bc81-13d70c73a249"
      },
      "source": [
        "history_lstm1 = model_lstm1.fit(X_train_weekly,y_train_weekly,batch_size = 4096,epochs = 10)"
      ],
      "execution_count": null,
      "outputs": [
        {
          "output_type": "stream",
          "text": [
            "Epoch 1/10\n",
            "53/53 [==============================] - 143s 3s/step - loss: 0.4314 - mean_squared_error: 0.4314\n",
            "Epoch 2/10\n",
            "53/53 [==============================] - 147s 3s/step - loss: 0.4094 - mean_squared_error: 0.4094\n",
            "Epoch 3/10\n",
            "53/53 [==============================] - 146s 3s/step - loss: 0.3928 - mean_squared_error: 0.3928\n",
            "Epoch 4/10\n",
            "53/53 [==============================] - 147s 3s/step - loss: 0.3875 - mean_squared_error: 0.3875\n",
            "Epoch 5/10\n",
            "53/53 [==============================] - 143s 3s/step - loss: 0.3753 - mean_squared_error: 0.3753\n",
            "Epoch 6/10\n",
            "53/53 [==============================] - 146s 3s/step - loss: 0.3725 - mean_squared_error: 0.3725\n",
            "Epoch 7/10\n",
            "53/53 [==============================] - 144s 3s/step - loss: 0.3670 - mean_squared_error: 0.3670\n",
            "Epoch 8/10\n",
            "53/53 [==============================] - 146s 3s/step - loss: 0.3663 - mean_squared_error: 0.3663\n",
            "Epoch 9/10\n",
            "53/53 [==============================] - 145s 3s/step - loss: 0.3680 - mean_squared_error: 0.3680\n",
            "Epoch 10/10\n",
            "53/53 [==============================] - 146s 3s/step - loss: 0.3617 - mean_squared_error: 0.3617\n"
          ],
          "name": "stdout"
        }
      ]
    },
    {
      "cell_type": "code",
      "metadata": {
        "id": "xCCAtc4nVka-"
      },
      "source": [
        "y_predict_weekly = model_lstm1.predict(X_test_weekly)"
      ],
      "execution_count": null,
      "outputs": []
    },
    {
      "cell_type": "markdown",
      "metadata": {
        "id": "XyI_DksZV6th"
      },
      "source": [
        "# result of LSTM weekly"
      ]
    },
    {
      "cell_type": "code",
      "metadata": {
        "colab": {
          "base_uri": "https://localhost:8080/"
        },
        "id": "TUUjmpE8Vp8I",
        "outputId": "96f9749f-875f-462e-8d1e-46ae8a14ecdb"
      },
      "source": [
        "test_rmse = math.sqrt(mean_squared_error(y_test_weekly, y_predict_weekly))\n",
        "test_r2 = r2_score(y_test_weekly, y_predict_weekly)\n",
        "test_mae = mean_absolute_error(y_test_weekly, y_predict_weekly)\n",
        "\n",
        "print('Test Score_RMSE:')\n",
        "print(test_rmse)\n",
        "print('Test Score_R2:')\n",
        "print(test_r2)\n",
        "print('Test Score_MAE:')\n",
        "print(test_mae)"
      ],
      "execution_count": null,
      "outputs": [
        {
          "output_type": "stream",
          "text": [
            "Test Score_RMSE:\n",
            "0.36889351185022884\n",
            "Test Score_R2:\n",
            "0.35093728741689734\n",
            "Test Score_MAE:\n",
            "0.08454901621307409\n"
          ],
          "name": "stdout"
        }
      ]
    },
    {
      "cell_type": "markdown",
      "metadata": {
        "id": "j4--dOvcWGvF"
      },
      "source": [
        "# apply CNN on weekly"
      ]
    },
    {
      "cell_type": "code",
      "metadata": {
        "colab": {
          "base_uri": "https://localhost:8080/"
        },
        "id": "EU23JvPRWJ07",
        "outputId": "16413d8a-bf22-4c8c-dcd5-3232989f244f"
      },
      "source": [
        "model_cnn1 = Sequential()\n",
        "model_cnn1.add(Conv1D(filters=64, kernel_size=2, activation='relu', input_shape=(X_train_weekly.shape[1], X_train_weekly.shape[2])))\n",
        "model_cnn1.add(MaxPooling1D(pool_size=2))\n",
        "model_cnn1.add(Flatten())\n",
        "model_cnn1.add(Dense(50, activation='relu'))\n",
        "model_cnn1.add(Dense(1))\n",
        "model_cnn1.compile(loss='mse', optimizer=adam)\n",
        "model_cnn1.summary()"
      ],
      "execution_count": null,
      "outputs": [
        {
          "output_type": "stream",
          "text": [
            "Model: \"sequential_3\"\n",
            "_________________________________________________________________\n",
            "Layer (type)                 Output Shape              Param #   \n",
            "=================================================================\n",
            "conv1d_1 (Conv1D)            (None, 145, 64)           192       \n",
            "_________________________________________________________________\n",
            "max_pooling1d_1 (MaxPooling1 (None, 72, 64)            0         \n",
            "_________________________________________________________________\n",
            "flatten_1 (Flatten)          (None, 4608)              0         \n",
            "_________________________________________________________________\n",
            "dense_4 (Dense)              (None, 50)                230450    \n",
            "_________________________________________________________________\n",
            "dense_5 (Dense)              (None, 1)                 51        \n",
            "=================================================================\n",
            "Total params: 230,693\n",
            "Trainable params: 230,693\n",
            "Non-trainable params: 0\n",
            "_________________________________________________________________\n"
          ],
          "name": "stdout"
        }
      ]
    },
    {
      "cell_type": "code",
      "metadata": {
        "colab": {
          "base_uri": "https://localhost:8080/"
        },
        "id": "r2CFOGMwWedk",
        "outputId": "066b732a-2745-4a44-9ebe-95b90211b828"
      },
      "source": [
        "cnn_history1 = model_cnn1.fit(X_train_weekly, y_train_weekly, epochs=10, verbose=2)"
      ],
      "execution_count": null,
      "outputs": [
        {
          "output_type": "stream",
          "text": [
            "Epoch 1/10\n",
            "6694/6694 - 48s - loss: 0.4147\n",
            "Epoch 2/10\n",
            "6694/6694 - 47s - loss: 0.3082\n",
            "Epoch 3/10\n",
            "6694/6694 - 47s - loss: 0.3106\n",
            "Epoch 4/10\n",
            "6694/6694 - 47s - loss: 0.3124\n",
            "Epoch 5/10\n",
            "6694/6694 - 48s - loss: 0.3108\n",
            "Epoch 6/10\n",
            "6694/6694 - 46s - loss: 0.3131\n",
            "Epoch 7/10\n",
            "6694/6694 - 46s - loss: 0.2760\n",
            "Epoch 8/10\n",
            "6694/6694 - 46s - loss: 0.3215\n",
            "Epoch 9/10\n",
            "6694/6694 - 47s - loss: 0.2683\n",
            "Epoch 10/10\n",
            "6694/6694 - 48s - loss: 0.2533\n"
          ],
          "name": "stdout"
        }
      ]
    },
    {
      "cell_type": "code",
      "metadata": {
        "id": "ZviHhTs1Wo-Z"
      },
      "source": [
        "y_predict_weekly_cnn = model_cnn1.predict(X_test_weekly)"
      ],
      "execution_count": null,
      "outputs": []
    },
    {
      "cell_type": "code",
      "metadata": {
        "colab": {
          "base_uri": "https://localhost:8080/"
        },
        "id": "jlBGgrUKz9EH",
        "outputId": "007a8c6d-932a-4d9f-bf0c-7d0ae9bb4e94"
      },
      "source": [
        "max(y_predict_weekly_cnn)"
      ],
      "execution_count": null,
      "outputs": [
        {
          "output_type": "execute_result",
          "data": {
            "text/plain": [
              "array([69.382996], dtype=float32)"
            ]
          },
          "metadata": {
            "tags": []
          },
          "execution_count": 141
        }
      ]
    },
    {
      "cell_type": "markdown",
      "metadata": {
        "id": "zHG08TCLW1BR"
      },
      "source": [
        "# result of CNN weekly"
      ]
    },
    {
      "cell_type": "code",
      "metadata": {
        "colab": {
          "base_uri": "https://localhost:8080/"
        },
        "id": "Kn013hJyWxPE",
        "outputId": "6e10dd14-f6b9-4cbd-ee95-9e8ed642c8f5"
      },
      "source": [
        "import math\n",
        "from sklearn.metrics import mean_squared_error\n",
        "from sklearn.metrics import r2_score\n",
        "from sklearn.metrics import mean_absolute_error\n",
        "\n",
        "test_rmse = math.sqrt(mean_squared_error(y_test_weekly, y_predict_weekly_cnn))\n",
        "test_r2 = r2_score(y_test_weekly, y_predict_weekly_cnn)\n",
        "test_mae = mean_absolute_error(y_test_weekly, y_predict_weekly_cnn)\n",
        "\n",
        "print('Test Score_RMSE:')\n",
        "print(test_rmse)\n",
        "print('Test Score_R2:')\n",
        "print(test_r2)\n",
        "print('Test Score_MAE:')\n",
        "print(test_mae)"
      ],
      "execution_count": null,
      "outputs": [
        {
          "output_type": "stream",
          "text": [
            "Test Score_RMSE:\n",
            "0.3409564204876282\n",
            "Test Score_R2:\n",
            "0.44552448535680245\n",
            "Test Score_MAE:\n",
            "0.08756470895865384\n"
          ],
          "name": "stdout"
        }
      ]
    }
  ]
}